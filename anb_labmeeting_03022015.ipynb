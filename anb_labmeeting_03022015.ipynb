{
 "metadata": {
  "name": "",
  "signature": "sha256:cd6f6418ab94dcb2e941b1eddfe4ac80f54dd724afc63c4b7dd73d13713e0406"
 },
 "nbformat": 3,
 "nbformat_minor": 0,
 "worksheets": [
  {
   "cells": [
    {
     "cell_type": "heading",
     "level": 1,
     "metadata": {
      "internals": {
       "frag_helper": "fragment_end",
       "frag_number": 2,
       "slide_type": "subslide"
      },
      "slideshow": {
       "slide_type": "slide"
      }
     },
     "source": [
      "<div align=\"center\" vertical-align=\"middle\">\n",
      "\n",
      "    <img src=\"./docs/header-photo.jpg\" height = \"100%\" width = \"100%\" style=\"display:inline\">\n",
      "    <br>\n",
      "    <br>\n",
      "</div>\n",
      "EGRIN *2.0*"
     ]
    },
    {
     "cell_type": "heading",
     "level": 2,
     "metadata": {
      "internals": {
       "frag_helper": "fragment_end",
       "frag_number": 1
      },
      "slideshow": {
       "slide_type": "fragment"
      }
     },
     "source": [
      "Past, Present, and Future"
     ]
    },
    {
     "cell_type": "heading",
     "level": 3,
     "metadata": {
      "internals": {
       "frag_helper": "fragment_end",
       "frag_number": 2,
       "slide_helper": "subslide_end"
      },
      "slide_helper": "slide_end",
      "slideshow": {
       "slide_type": "fragment"
      }
     },
     "source": [
      "*MongoDB, iPython, GGBweb/ChromeGoose*"
     ]
    },
    {
     "cell_type": "heading",
     "level": 1,
     "metadata": {
      "internals": {
       "frag_helper": "fragment_end",
       "frag_number": 2,
       "slide_type": "subslide"
      },
      "slideshow": {
       "slide_type": "slide"
      }
     },
     "source": [
      "What is EGRIN *2.0* ?"
     ]
    },
    {
     "cell_type": "markdown",
     "metadata": {
      "internals": {
       "frag_helper": "fragment_end",
       "frag_number": 4,
       "slide_helper": "subslide_end"
      },
      "slide_helper": "slide_end",
      "slideshow": {
       "slide_type": "fragment"
      }
     },
     "source": [
      "<div align=\"center\" vertical-align=\"middle\">\n",
      "\n",
      "        <img src=\"./docs/egrin2_fig1-03.png\" height = \"100%\" width = \"100%\" style=\"display:inline\">\n",
      "        \n",
      "</div>"
     ]
    },
    {
     "cell_type": "heading",
     "level": 1,
     "metadata": {
      "internals": {
       "frag_helper": "fragment_end",
       "frag_number": 4,
       "slide_type": "subslide"
      },
      "slideshow": {
       "slide_type": "slide"
      }
     },
     "source": [
      "EGRIN *2.0* ( Web *1.0* )"
     ]
    },
    {
     "cell_type": "markdown",
     "metadata": {
      "internals": {
       "frag_helper": "fragment_end",
       "frag_number": 6,
       "slide_helper": "subslide_end"
      },
      "slide_helper": "slide_end",
      "slideshow": {
       "slide_type": "fragment"
      }
     },
     "source": [
      "The first EGRIN 2.0 website is a Django/Javascript powered webapp with a PostgreSQL backend\n"
     ]
    },
    {
     "cell_type": "code",
     "collapsed": false,
     "input": [
      "from IPython.display import HTML\n",
      "HTML('<iframe height=\"600px\" width=\"1000px\" src=\"http://egrin2.systemsbiology.net/\"</iframe>')"
     ],
     "language": "python",
     "metadata": {
      "internals": {
       "frag_helper": "fragment_end",
       "frag_number": 6,
       "slide_helper": "subslide_end",
       "slide_type": "subslide"
      },
      "slide_helper": "subslide_end",
      "slideshow": {
       "slide_type": "slide"
      }
     },
     "outputs": [
      {
       "html": [
        "<iframe height=\"600px\" width=\"1000px\" src=\"http://egrin2.systemsbiology.net/\"</iframe>"
       ],
       "metadata": {},
       "output_type": "pyout",
       "prompt_number": 33,
       "text": [
        "<IPython.core.display.HTML at 0x7fda6da3d390>"
       ]
      }
     ],
     "prompt_number": 33
    },
    {
     "cell_type": "markdown",
     "metadata": {
      "internals": {
       "frag_helper": "fragment_end",
       "frag_number": 6,
       "slide_helper": "subslide_end",
       "slide_type": "subslide"
      },
      "slide_helper": "subslide_end",
      "slideshow": {
       "slide_type": "subslide"
      }
     },
     "source": [
      "- *Advantages*: templating (fast dev), well-structured for EGRIN 2.0 datatypes, fast queries, extensible"
     ]
    },
    {
     "cell_type": "markdown",
     "metadata": {
      "internals": {
       "frag_helper": "fragment_end",
       "frag_number": 6,
       "slide_helper": "subslide_end",
       "slide_type": "subslide"
      },
      "slide_helper": "slide_end",
      "slideshow": {
       "slide_type": "subslide"
      }
     },
     "source": [
      "- *Disadvantages*: db backend is HUGE! (not scalable), content is **static** (it is BORING!!!)"
     ]
    },
    {
     "cell_type": "heading",
     "level": 2,
     "metadata": {
      "internals": {
       "frag_helper": "fragment_end",
       "frag_number": 6,
       "slide_type": "subslide"
      },
      "slideshow": {
       "slide_type": "slide"
      }
     },
     "source": [
      "EGRIN *2.0* ( Web *2.0* )"
     ]
    },
    {
     "cell_type": "markdown",
     "metadata": {
      "internals": {
       "frag_helper": "fragment_end",
       "frag_number": 11
      },
      "slideshow": {
       "slide_type": "fragment"
      }
     },
     "source": [
      "The second generation EGRIN 2.0 website is an iPython powered notebook with a MongoDB backend \n"
     ]
    },
    {
     "cell_type": "markdown",
     "metadata": {
      "internals": {
       "frag_helper": "fragment_end",
       "frag_number": 12,
       "slide_helper": "subslide_end"
      },
      "slide_helper": "subslide_end",
      "slideshow": {
       "slide_type": "fragment"
      }
     },
     "source": [
      "<div align=\"center\" vertical-align=\"middle\">\n",
      "\n",
      "        <img src=\"./docs/iconmonstr-puzzle-icon-text.png\" height = \"150\" width = \"150\" style=\"display:inline\">\n",
      "\n",
      "        <img src=\"./docs/iconmonstr-puzzle-17-icon-text.png\" height = \"150\" width = \"150\" style=\"display:inline\">\n",
      "\n",
      "        <img src=\"./docs/iconmonstr-flask-3-icon-text.png\" height = \"150\" width = \"150\" style=\"display:inline\">\n",
      "</div>"
     ]
    },
    {
     "cell_type": "markdown",
     "metadata": {
      "internals": {
       "frag_helper": "fragment_end",
       "frag_number": 12,
       "slide_helper": "subslide_end",
       "slide_type": "subslide"
      },
      "slide_helper": "subslide_end",
      "slideshow": {
       "slide_type": "subslide"
      }
     },
     "source": [
      "- *Advantages*: templating (fast dev), well-structured for EGRIN 2.0 datatypes, fast queries, extensible"
     ]
    },
    {
     "cell_type": "markdown",
     "metadata": {
      "internals": {
       "frag_helper": "fragment_end",
       "frag_number": 12,
       "slide_helper": "subslide_end",
       "slide_type": "subslide"
      },
      "slide_helper": "subslide_end",
      "slideshow": {
       "slide_type": "subslide"
      }
     },
     "source": [
      "- *Disadvantages*: db backend is HUGE! (not scalable), content is **static** (it is BORING!!!)"
     ]
    },
    {
     "cell_type": "code",
     "collapsed": false,
     "input": [
      "HTML('<iframe width=\"840\" height=\"375\" src=\"https://www.youtube.com/embed/b2F-DItXtZs\" frameborder=\"0\" allowfullscreen></iframe>')"
     ],
     "language": "python",
     "metadata": {
      "internals": {
       "frag_helper": "fragment_end",
       "frag_number": 12,
       "slide_helper": "subslide_end",
       "slide_type": "subslide"
      },
      "slide_helper": "slide_end",
      "slideshow": {
       "slide_type": "subslide"
      }
     },
     "outputs": [
      {
       "html": [
        "<iframe width=\"840\" height=\"375\" src=\"https://www.youtube.com/embed/b2F-DItXtZs\" frameborder=\"0\" allowfullscreen></iframe>"
       ],
       "metadata": {},
       "output_type": "pyout",
       "prompt_number": 39,
       "text": [
        "<IPython.core.display.HTML at 0x7fda6da3d910>"
       ]
      }
     ],
     "prompt_number": 39
    },
    {
     "cell_type": "heading",
     "level": 1,
     "metadata": {
      "internals": {
       "frag_helper": "fragment_end",
       "frag_number": 12,
       "slide_helper": "subslide_end",
       "slide_type": "subslide"
      },
      "slide_helper": "subslide_end",
      "slideshow": {
       "slide_type": "slide"
      }
     },
     "source": [
      "<div align=\"center\" vertical-align=\"middle\">\n",
      "    <img src=\"./docs/iconmonstr-puzzle-icon-text.png\" height = \"150\" width = \"150\" style=\"display:inline\">\n",
      "</div>"
     ]
    },
    {
     "cell_type": "code",
     "collapsed": false,
     "input": [
      "from query.egrin2_query import *\n",
      "from query.egrin2_plot import *"
     ],
     "language": "python",
     "metadata": {
      "internals": {
       "frag_helper": "fragment_end",
       "frag_number": 12,
       "slide_helper": "subslide_end",
       "slide_type": "subslide"
      },
      "slide_helper": "slide_end",
      "slideshow": {
       "slide_type": "subslide"
      }
     },
     "outputs": [],
     "prompt_number": 5
    },
    {
     "cell_type": "code",
     "collapsed": false,
     "input": [
      "corem = 1\n",
      "host = \"primordial\"\n",
      "db = \"eco_db2\"\n",
      "\n",
      "# find the genes\n",
      "corem_genes =  coremFinder(corem, x_type = \"corem_id\", y_type=\"rows\", host=host, db=db)\n",
      "# print a summary\n",
      "corem_genes.sort()\n",
      "for i in corem_genes:\n",
      "    print i + \" is also called \" + str( row2id( i, host=host, db=db, return_field = \"name\" ) )"
     ],
     "language": "python",
     "metadata": {
      "internals": {
       "frag_helper": "fragment_end",
       "frag_number": 12,
       "slide_helper": "subslide_end",
       "slide_type": "subslide"
      },
      "slide_helper": "subslide_end",
      "slideshow": {
       "slide_type": "slide"
      }
     },
     "outputs": [
      {
       "output_type": "stream",
       "stream": "stdout",
       "text": [
        "b3313 is also called rplP\n",
        "b3314 is also called rpsC"
       ]
      },
      {
       "output_type": "stream",
       "stream": "stdout",
       "text": [
        "\n",
        "b3315 is also called rplV"
       ]
      },
      {
       "output_type": "stream",
       "stream": "stdout",
       "text": [
        "\n",
        "b3316 is also called rpsS"
       ]
      },
      {
       "output_type": "stream",
       "stream": "stdout",
       "text": [
        "\n",
        "b3317 is also called rplB"
       ]
      },
      {
       "output_type": "stream",
       "stream": "stdout",
       "text": [
        "\n",
        "b3318 is also called rplW"
       ]
      },
      {
       "output_type": "stream",
       "stream": "stdout",
       "text": [
        "\n",
        "b3319 is also called rplD"
       ]
      },
      {
       "output_type": "stream",
       "stream": "stdout",
       "text": [
        "\n",
        "b3320 is also called rplC"
       ]
      },
      {
       "output_type": "stream",
       "stream": "stdout",
       "text": [
        "\n",
        "b3321 is also called rpsJ"
       ]
      },
      {
       "output_type": "stream",
       "stream": "stdout",
       "text": [
        "\n"
       ]
      }
     ],
     "prompt_number": 31
    },
    {
     "cell_type": "code",
     "collapsed": false,
     "input": [
      "# find the conditions\n",
      "corem_conditions =  coremFinder(x = corem,x_type = \"corem_id\", y_type=\"conds\", host=host, db=db)\n",
      "# print a summary\n",
      "corem_conditions.sort()\n",
      "for i in corem_conditions[0:5]:\n",
      "    print i\n",
      "print \"\\nThere are %s other conditions\" % len(corem_conditions)"
     ],
     "language": "python",
     "metadata": {
      "internals": {
       "frag_helper": "fragment_end",
       "frag_number": 12,
       "slide_helper": "subslide_end",
       "slide_type": "subslide"
      },
      "slide_helper": "slide_end",
      "slideshow": {
       "slide_type": "subslide"
      }
     },
     "outputs": [
      {
       "output_type": "stream",
       "stream": "stdout",
       "text": [
        "ATCC25404_wt_24hr_biofilm\n",
        "ATCC25404_wt_R1drd19_24hr_biofilm\n",
        "B178_mutant_Hsp60\n",
        "B178_wt_Hsp60\n",
        "BW25113_30C_biofilm\n",
        "\n",
        "There are 418 other conditions\n"
       ]
      }
     ],
     "prompt_number": 32
    },
    {
     "cell_type": "code",
     "collapsed": false,
     "input": [
      "gene_expression = expressionFinder(rows=corem_genes,cols=corem_conditions,\n",
      "                                   host=\"primordial\",db=\"eco_db2\")\n",
      "\n",
      "# preview the first 5 rows\n",
      "gene_expression.head()"
     ],
     "language": "python",
     "metadata": {
      "internals": {
       "frag_helper": "fragment_end",
       "frag_number": 12,
       "slide_helper": "subslide_end",
       "slide_type": "subslide"
      },
      "slide_helper": "subslide_end",
      "slideshow": {
       "slide_type": "slide"
      }
     },
     "outputs": []
    },
    {
     "cell_type": "code",
     "collapsed": false,
     "input": [
      "corem = 1\n",
      "corem_genes =  coremFinder(x = corem,x_type = \"corem_id\", y_type=\"rows\",host=\"primordial\",db=\"eco_db2\")\n",
      "corem_conditions =  coremFinder(x = corem,x_type = \"corem_id\", y_type=\"conds\",host=\"primordial\",db=\"eco_db2\")\n",
      "gene_expression = expressionFinder(rows=corem_genes,cols=corem_conditions,host=\"primordial\",db=\"eco_db2\")"
     ],
     "language": "python",
     "metadata": {
      "internals": {
       "frag_helper": "fragment_end",
       "frag_number": 12,
       "slide_helper": "subslide_end",
       "slide_type": "subslide"
      },
      "slide_helper": "slide_end",
      "slideshow": {
       "slide_type": "subslide"
      }
     },
     "outputs": []
    },
    {
     "cell_type": "code",
     "collapsed": false,
     "input": [
      "plot = plotExpression( gene_expression, plot_type = \"line\", ipynb = True, sort = False )\n",
      "py.iplot( line_plot )"
     ],
     "language": "python",
     "metadata": {
      "internals": {
       "frag_helper": "fragment_end",
       "frag_number": 12,
       "slide_type": "subslide"
      },
      "slideshow": {
       "slide_type": "slide"
      }
     },
     "outputs": []
    },
    {
     "cell_type": "code",
     "collapsed": false,
     "input": [
      "HTML('<iframe height=\"600px\" width=\"1000px\" src=\"http://nbviewer.ipython.org/github/scalefreegan/egrin2-tools/blob/master/doc/index.ipynb\"</iframe>')"
     ],
     "language": "python",
     "metadata": {
      "internals": {
       "frag_helper": "fragment_end",
       "frag_number": 12,
       "slide_helper": "subslide_end"
      },
      "slide_helper": "slide_end",
      "slideshow": {
       "slide_type": "-"
      }
     },
     "outputs": [
      {
       "html": [
        "<iframe height=\"600px\" width=\"1000px\" src=\"http://nbviewer.ipython.org/github/scalefreegan/egrin2-tools/blob/master/doc/index.ipynb\"</iframe>"
       ],
       "metadata": {},
       "output_type": "pyout",
       "prompt_number": 38,
       "text": [
        "<IPython.core.display.HTML at 0x7fda6da3d450>"
       ]
      }
     ],
     "prompt_number": 38
    },
    {
     "cell_type": "code",
     "collapsed": false,
     "input": [
      "HTML('<iframe src=\"https://www.google.com/maps/embed?pb=!1m18!1m12!1m3!1d2581670.4146216605!2d9.007024184179672!3d50.8096276135968!2m3!1f0!2f0!3f0!3m2!1i1024!2i768!4f13.1!3m3!1m2!1s0x4797c1050eccdccd%3A0xefe6ea0044243ad7!2sHeidelberg%2C+Germany!5e0!3m2!1sen!2sus!4v1424921444369\" width=\"600\" height=\"450\" frameborder=\"0\" style=\"border:0\"></iframe>')"
     ],
     "language": "python",
     "metadata": {
      "internals": {
       "frag_helper": "fragment_end",
       "frag_number": 12,
       "slide_helper": "subslide_end",
       "slide_type": "subslide"
      },
      "slide_helper": "subslide_end",
      "slideshow": {
       "slide_type": "slide"
      }
     },
     "outputs": [
      {
       "html": [
        "<iframe src=\"https://www.google.com/maps/embed?pb=!1m18!1m12!1m3!1d2581670.4146216605!2d9.007024184179672!3d50.8096276135968!2m3!1f0!2f0!3f0!3m2!1i1024!2i768!4f13.1!3m3!1m2!1s0x4797c1050eccdccd%3A0xefe6ea0044243ad7!2sHeidelberg%2C+Germany!5e0!3m2!1sen!2sus!4v1424921444369\" width=\"600\" height=\"450\" frameborder=\"0\" style=\"border:0\"></iframe>"
       ],
       "metadata": {},
       "output_type": "pyout",
       "prompt_number": 34,
       "text": [
        "<IPython.core.display.HTML at 0x7fda6da3d1d0>"
       ]
      }
     ],
     "prompt_number": 34
    },
    {
     "cell_type": "code",
     "collapsed": false,
     "input": [
      "HTML('<iframe width=\"840\" height=\"575\" src=\"https://www.youtube.com/embed/D_6p6IeBYSA\" frameborder=\"0\" allowfullscreen></iframe>')"
     ],
     "language": "python",
     "metadata": {
      "internals": {
       "frag_helper": "fragment_end",
       "frag_number": 12,
       "slide_type": "subslide"
      },
      "slideshow": {
       "slide_type": "subslide"
      }
     },
     "outputs": [
      {
       "html": [
        "<iframe width=\"840\" height=\"575\" src=\"https://www.youtube.com/embed/D_6p6IeBYSA\" frameborder=\"0\" allowfullscreen></iframe>"
       ],
       "metadata": {},
       "output_type": "pyout",
       "prompt_number": 35,
       "text": [
        "<IPython.core.display.HTML at 0x7fda6da3d650>"
       ]
      }
     ],
     "prompt_number": 35
    },
    {
     "cell_type": "code",
     "collapsed": false,
     "input": [],
     "language": "python",
     "metadata": {
      "internals": {
       "frag_helper": "fragment_end",
       "frag_number": 12,
       "slide_helper": "subslide_end"
      },
      "slide_helper": "slide_end",
      "slideshow": {
       "slide_type": "-"
      }
     },
     "outputs": []
    }
   ],
   "metadata": {}
  }
 ]
}