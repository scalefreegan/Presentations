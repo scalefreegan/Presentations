{
 "cells": [
  {
   "cell_type": "markdown",
   "metadata": {
    "internals": {
     "frag_helper": "fragment_end",
     "frag_number": 2,
     "slide_type": "subslide"
    },
    "slideshow": {
     "slide_type": "slide"
    }
   },
   "source": [
    "# <div align=\"center\" vertical-align=\"middle\">      <img src=\"./docs/header-photo.jpg\" height = \"100%\" width = \"100%\" style=\"display:inline\">     <br>     <br> </div> EGRIN *2.0*"
   ]
  },
  {
   "cell_type": "markdown",
   "metadata": {
    "internals": {
     "frag_helper": "fragment_end",
     "frag_number": 1
    },
    "slideshow": {
     "slide_type": "fragment"
    }
   },
   "source": [
    "## Past, Present, and Future"
   ]
  },
  {
   "cell_type": "markdown",
   "metadata": {
    "internals": {
     "frag_helper": "fragment_end",
     "frag_number": 2,
     "slide_helper": "subslide_end"
    },
    "slide_helper": "slide_end",
    "slideshow": {
     "slide_type": "fragment"
    }
   },
   "source": [
    "### *MongoDB, iPython, GGBweb/ChromeGoose*"
   ]
  },
  {
   "cell_type": "markdown",
   "metadata": {
    "internals": {
     "frag_helper": "fragment_end",
     "frag_number": 2,
     "slide_helper": "subslide_end",
     "slide_type": "subslide"
    },
    "slide_helper": "subslide_end",
    "slideshow": {
     "slide_type": "slide"
    }
   },
   "source": [
    "# What is EGRIN *2.0* ?"
   ]
  },
  {
   "cell_type": "markdown",
   "metadata": {
    "internals": {
     "frag_helper": "fragment_end",
     "frag_number": 2,
     "slide_helper": "subslide_end",
     "slide_type": "subslide"
    },
    "slide_helper": "slide_end",
    "slideshow": {
     "slide_type": "subslide"
    }
   },
   "source": [
    "<div align=\"center\" vertical-align=\"middle\">\n",
    "\n",
    "        <img src=\"./docs/egrin2_fig1-03.png\" height = \"100%\" width = \"100%\" style=\"display:inline\">\n",
    "        \n",
    "</div>"
   ]
  },
  {
   "cell_type": "markdown",
   "metadata": {
    "internals": {
     "frag_helper": "fragment_end",
     "frag_number": 2,
     "slide_type": "subslide"
    },
    "slideshow": {
     "slide_type": "slide"
    }
   },
   "source": [
    "# EGRIN *2.0* ( Web *1.0* )"
   ]
  },
  {
   "cell_type": "markdown",
   "metadata": {
    "internals": {
     "frag_helper": "fragment_end",
     "frag_number": 6,
     "slide_helper": "subslide_end"
    },
    "slide_helper": "slide_end",
    "slideshow": {
     "slide_type": "fragment"
    }
   },
   "source": [
    "The first EGRIN 2.0 website is a Django/Javascript powered webapp with a PostgreSQL backend\n"
   ]
  },
  {
   "cell_type": "code",
   "execution_count": 22,
   "metadata": {
    "collapsed": false,
    "internals": {
     "frag_helper": "fragment_end",
     "frag_number": 6,
     "slide_helper": "subslide_end",
     "slide_type": "subslide"
    },
    "slide_helper": "subslide_end",
    "slideshow": {
     "slide_type": "slide"
    }
   },
   "outputs": [
    {
     "data": {
      "text/html": [
       "<iframe height=\"600px\" width=\"1000px\" src=\"http://egrin2.systemsbiology.net/\"</iframe>"
      ],
      "text/plain": [
       "<IPython.core.display.HTML object>"
      ]
     },
     "execution_count": 22,
     "metadata": {},
     "output_type": "execute_result"
    }
   ],
   "source": [
    "from IPython.display import HTML\n",
    "HTML('<iframe height=\"600px\" width=\"1000px\" src=\"http://egrin2.systemsbiology.net/\"</iframe>')"
   ]
  },
  {
   "cell_type": "markdown",
   "metadata": {
    "internals": {
     "frag_helper": "fragment_end",
     "frag_number": 6,
     "slide_helper": "subslide_end",
     "slide_type": "subslide"
    },
    "slide_helper": "subslide_end",
    "slideshow": {
     "slide_type": "subslide"
    }
   },
   "source": [
    "- *Advantages*: templating (fast dev), well-structured for EGRIN 2.0 datatypes, fast queries, extensible"
   ]
  },
  {
   "cell_type": "markdown",
   "metadata": {
    "internals": {
     "frag_helper": "fragment_end",
     "frag_number": 6,
     "slide_helper": "subslide_end",
     "slide_type": "subslide"
    },
    "slide_helper": "slide_end",
    "slideshow": {
     "slide_type": "subslide"
    }
   },
   "source": [
    "- *Disadvantages*: db backend is HUGE! (not scalable), content is **static** (it is BORING!!!)"
   ]
  },
  {
   "cell_type": "markdown",
   "metadata": {
    "slideshow": {
     "slide_type": "subslide"
    }
   },
   "source": [
    "## The first EGRIN 2.0 website is a failure"
   ]
  },
  {
   "cell_type": "markdown",
   "metadata": {
    "slideshow": {
     "slide_type": "fragment"
    }
   },
   "source": [
    "- It took a long time to develop (months)"
   ]
  },
  {
   "cell_type": "markdown",
   "metadata": {
    "slideshow": {
     "slide_type": "fragment"
    }
   },
   "source": [
    "- Not a single reviewer for the paper visited the site"
   ]
  },
  {
   "cell_type": "markdown",
   "metadata": {
    "slideshow": {
     "slide_type": "fragment"
    }
   },
   "source": [
    "- Few people use the site currently"
   ]
  },
  {
   "cell_type": "markdown",
   "metadata": {
    "slideshow": {
     "slide_type": "subslide"
    }
   },
   "source": [
    "<div align=\"center\" vertical-align=\"middle\">\n",
    "        Jan 27-Feb 26 <br><br>\n",
    "        <img src=\"./docs/egrin2_countries.png\" height = \"100%\" width = \"100%\" style=\"display:inline\">\n",
    "        \n",
    "</div>"
   ]
  },
  {
   "cell_type": "markdown",
   "metadata": {
    "slideshow": {
     "slide_type": "subslide"
    }
   },
   "source": [
    "<div align=\"center\" vertical-align=\"middle\">\n",
    "        Jan 27-Feb 26 <br><br>\n",
    "        <img src=\"./docs/egrin2_us.png\" height = \"100%\" width = \"100%\" style=\"display:inline\">\n",
    "        \n",
    "</div>"
   ]
  },
  {
   "cell_type": "markdown",
   "metadata": {
    "slideshow": {
     "slide_type": "subslide"
    }
   },
   "source": [
    "# <div align=\"center\" vertical-align=\"middle\">          *We should learn from this...*          </div>"
   ]
  },
  {
   "cell_type": "markdown",
   "metadata": {
    "internals": {
     "frag_helper": "fragment_end",
     "frag_number": 6,
     "slide_type": "subslide"
    },
    "slideshow": {
     "slide_type": "slide"
    }
   },
   "source": [
    "## EGRIN *2.0* ( Web *2.0* )"
   ]
  },
  {
   "cell_type": "markdown",
   "metadata": {
    "internals": {
     "frag_helper": "fragment_end",
     "frag_number": 11
    },
    "slideshow": {
     "slide_type": "fragment"
    }
   },
   "source": [
    "The second generation EGRIN 2.0 website is an iPython powered notebook with a MongoDB backend \n"
   ]
  },
  {
   "cell_type": "markdown",
   "metadata": {
    "internals": {
     "frag_helper": "fragment_end",
     "frag_number": 12
    },
    "slideshow": {
     "slide_type": "fragment"
    }
   },
   "source": [
    "<div align=\"center\" vertical-align=\"middle\">\n",
    "\n",
    "        <img src=\"./docs/iconmonstr-puzzle-icon-text.png\" height = \"300\" width = \"300\" style=\"display:inline\">\n",
    "\n",
    "        <img src=\"./docs/iconmonstr-puzzle-17-icon-text.png\" height = \"300\" width = \"300\" style=\"display:inline\">\n",
    "\n",
    "        <img src=\"./docs/iconmonstr-flask-3-icon-text.png\" height = \"300\" width = \"300\" style=\"display:inline\">\n",
    "</div>"
   ]
  },
  {
   "cell_type": "markdown",
   "metadata": {
    "internals": {
     "frag_helper": "fragment_end",
     "frag_number": 13,
     "slide_helper": "subslide_end"
    },
    "slide_helper": "subslide_end",
    "slideshow": {
     "slide_type": "fragment"
    }
   },
   "source": [
    "<div align=\"center\" vertical-align=\"middle\">\n",
    "<h3>Notice: *I'm blurring the distinction between constructing an ensemble and using it.*</h3>\n",
    "</div>"
   ]
  },
  {
   "cell_type": "code",
   "execution_count": null,
   "metadata": {
    "collapsed": false,
    "internals": {
     "frag_helper": "fragment_end",
     "frag_number": 13,
     "slide_helper": "subslide_end",
     "slide_type": "subslide"
    },
    "slide_helper": "slide_end",
    "slideshow": {
     "slide_type": "subslide"
    }
   },
   "outputs": [],
   "source": [
    "HTML('<iframe width=\"840\" height=\"375\" src=\"https://www.youtube.com/embed/b2F-DItXtZs\" frameborder=\"0\" allowfullscreen></iframe>')"
   ]
  },
  {
   "cell_type": "markdown",
   "metadata": {
    "internals": {
     "frag_helper": "fragment_end",
     "frag_number": 13,
     "slide_helper": "subslide_end",
     "slide_type": "subslide"
    },
    "slide_helper": "subslide_end",
    "slideshow": {
     "slide_type": "subslide"
    }
   },
   "source": [
    "- *Advantages*: templating with iPython notebooks (fast dev), well-structured for EGRIN 2.0 datatypes (flexible schema), incredibly fast queries, centralized, extensible, content is <u>**dynamic**</u>, quickly becoming a <a href = \"http://nbviewer.ipython.org/github/idekerlab/cy-rest-python/blob/develop/cytoscape-js/CytoscapeJsDemo.ipynb\">standard for data analysis in systems biology.</a>"
   ]
  },
  {
   "cell_type": "markdown",
   "metadata": {
    "internals": {
     "frag_helper": "fragment_end",
     "frag_number": 13,
     "slide_helper": "subslide_end",
     "slide_type": "subslide"
    },
    "slide_helper": "subslide_end",
    "slideshow": {
     "slide_type": "subslide"
    }
   },
   "source": [
    "- *Disadvantages*: something new to learn, requires some investment from user"
   ]
  },
  {
   "cell_type": "markdown",
   "metadata": {
    "internals": {
     "frag_helper": "fragment_end",
     "frag_number": 13,
     "slide_helper": "subslide_end",
     "slide_type": "subslide"
    },
    "slide_helper": "slide_end",
    "slideshow": {
     "slide_type": "slide"
    }
   },
   "source": [
    "<div align=\"center\" vertical-align=\"middle\">\n",
    "    <img src=\"./docs/iconmonstr-puzzle-icon-text.png\" height = \"400\" width = \"400\" style=\"display:inline\">\n",
    "    <br>\n",
    "    <h2>*Tools to build EGRIN 2.0: configure cMonkey2*</h2>\n",
    "</div>"
   ]
  },
  {
   "cell_type": "markdown",
   "metadata": {
    "slideshow": {
     "slide_type": "subslide"
    }
   },
   "source": [
    "`python cMonkeyQSub.py`\n",
    "<br> \n",
    "`--organism` *org*\n",
    "<br>\n",
    "`--ratios` *myRatiosFile.tgz* \n",
    "<br>\n",
    "`--targetdir` */path/to/myOutputDir*\n",
    "<br>\n",
    "`--numruns` *123* \n",
    "<br>\n",
    "`--blocks` *blocks.csv*\n",
    "<br>\n",
    "`--inclusion` *inclusion.blocks.csv* \n",
    "<br>\n",
    "`--exclusion` *exclusion.blocks.csv* \n",
    "<br>\n",
    "`--pipeline` *setenrich_pipeline.json* \n",
    "<br>\n",
    "`--setenrich` *chipseq,tfoe* \n",
    "<br>\n",
    "`--setenrich_files` *ChIPSeq.csv,DE.csv* \n",
    "<br>\n",
    "`--csh`\n"
   ]
  },
  {
   "cell_type": "code",
   "execution_count": 24,
   "metadata": {
    "collapsed": false,
    "scrolled": true,
    "slideshow": {
     "slide_type": "subslide"
    }
   },
   "outputs": [
    {
     "name": "stdout",
     "output_type": "stream",
     "text": [
      "usage: cMonkeyQSub.py [-h] --organism ORGANISM --ratios RATIOS --targetdir\n",
      "                      TARGETDIR [--numruns NUMRUNS] [--ncbi_code NCBI_CODE]\n",
      "                      [--mincols MINCOLS] [--num_cores NUM_CORES]\n",
      "                      [--max_tasks MAX_TASKS] [--user USER] [--csh]\n",
      "                      [--blocks BLOCKS] [--inclusion INCLUSION]\n",
      "                      [--exclusion EXCLUSION] [--pipeline PIPELINE]\n",
      "                      [--setenrich SETENRICH]\n",
      "                      [--setenrich_files SETENRICH_FILES]\n",
      "\n",
      "cMonkeyQSub.py - prepare cluster runs\n",
      "\n",
      "optional arguments:\n",
      "  -h, --help            show this help message and exit\n",
      "  --organism ORGANISM   3 letter organism code\n",
      "  --ratios RATIOS       Path to ratios file\n",
      "  --targetdir TARGETDIR\n",
      "                        Path to output directory\n",
      "  --numruns NUMRUNS     Number of cMonkey2 runs to configure\n",
      "  --ncbi_code NCBI_CODE\n",
      "                        NCBI organism code\n",
      "  --mincols MINCOLS     Minimum number of experiments to include in a cMonkey2\n",
      "                        run\n",
      "  --num_cores NUM_CORES\n",
      "                        Number of cores on cluster to request\n",
      "  --max_tasks MAX_TASKS\n",
      "                        Maximum number of jobs to be sent to the cluster at a\n",
      "                        time\n",
      "  --user USER           Cluster user name\n",
      "  --csh                 Flag to indicate C Shell\n",
      "  --blocks BLOCKS       Path to block definitions\n",
      "  --inclusion INCLUSION\n",
      "                        Path to inclusion block definitions\n",
      "  --exclusion EXCLUSION\n",
      "                        Path to exclusion block definitions\n",
      "  --pipeline PIPELINE   Path to scoring pipeline config file\n",
      "  --setenrich SETENRICH\n",
      "                        Name(s) of set enrichment 'sets' to include. Names\n",
      "                        should be comma separated.\n",
      "  --setenrich_files SETENRICH_FILES\n",
      "                        Set enrichment files. File paths should be comma\n",
      "                        separated.\n"
     ]
    },
    {
     "data": {
      "text/plain": [
       "<matplotlib.figure.Figure at 0x1078344d0>"
      ]
     },
     "metadata": {},
     "output_type": "display_data"
    }
   ],
   "source": [
    "%run ../egrin2-tools/build/cMonkeyQSub.py -h"
   ]
  },
  {
   "cell_type": "markdown",
   "metadata": {
    "slideshow": {
     "slide_type": "fragment"
    }
   },
   "source": [
    "#### `BUILD` scripts include/exclude experiments probabilistically based on the supplied configuration"
   ]
  },
  {
   "cell_type": "markdown",
   "metadata": {
    "slideshow": {
     "slide_type": "subslide"
    }
   },
   "source": [
    "<div align=\"center\" vertical-align=\"middle\">\n",
    "    <h3>Blocks.csv</h3>\n",
    "    <img src=\"./docs/blocks.png\" height = \"90%\" width = \"90%\" style=\"display:inline\">\n",
    "</div>"
   ]
  },
  {
   "cell_type": "markdown",
   "metadata": {
    "slideshow": {
     "slide_type": "subslide"
    }
   },
   "source": [
    "<div align=\"center\" vertical-align=\"middle\">\n",
    "    <h3>Inclusion_Blocks.csv</h3>\n",
    "    <img src=\"./docs/inclusion_blocks.png\" height = \"90%\" width = \"90%\" style=\"display:inline\">\n",
    "    \n",
    "</div>"
   ]
  },
  {
   "cell_type": "markdown",
   "metadata": {
    "slideshow": {
     "slide_type": "subslide"
    }
   },
   "source": [
    "<div align=\"center\" vertical-align=\"middle\">\n",
    "    <h3>Exclusion_Blocks.csv</h3>\n",
    "    <img src=\"./docs/exclusion_blocks.png\" height = \"90%\" width = \"90%\" style=\"display:inline\">\n",
    "</div>"
   ]
  },
  {
   "cell_type": "markdown",
   "metadata": {
    "slideshow": {
     "slide_type": "subslide"
    }
   },
   "source": [
    "### Build scripts automatically configure cMonkey and write all required files"
   ]
  },
  {
   "cell_type": "markdown",
   "metadata": {
    "slideshow": {
     "slide_type": "fragment"
    }
   },
   "source": [
    "#### *You simply run a single QSub script on the cluster*"
   ]
  },
  {
   "cell_type": "markdown",
   "metadata": {
    "slideshow": {
     "slide_type": "subslide"
    }
   },
   "source": [
    "<div align=\"center\" vertical-align=\"middle\">\n",
    "    <h3>Ensemble Reports: Run Config</h3>\n",
    "    <img src=\"./docs/ensembleReport_runs.png\" height = \"90%\" width = \"90%\" style=\"display:inline\">\n",
    "</div>"
   ]
  },
  {
   "cell_type": "markdown",
   "metadata": {
    "slideshow": {
     "slide_type": "subslide"
    }
   },
   "source": [
    "<div align=\"center\" vertical-align=\"middle\">\n",
    "    <h3>Ensemble Reports: Inclusion Blocks</h3>\n",
    "    <img src=\"./docs/ensembleReport_inclusion.png\" height = \"90%\" width = \"90%\" style=\"display:inline\">\n",
    "</div>"
   ]
  },
  {
   "cell_type": "markdown",
   "metadata": {
    "slideshow": {
     "slide_type": "subslide"
    }
   },
   "source": [
    "<div align=\"center\" vertical-align=\"middle\">\n",
    "    <img src=\"./docs/iconmonstr-help-6-icon-256.png\" height = \"25%\" width = \"25%\" style=\"display:inline\">\n",
    "</div>"
   ]
  },
  {
   "cell_type": "markdown",
   "metadata": {
    "internals": {
     "frag_helper": "fragment_end",
     "frag_number": 13,
     "slide_helper": "subslide_end",
     "slide_type": "subslide"
    },
    "slide_helper": "slide_end",
    "slideshow": {
     "slide_type": "slide"
    }
   },
   "source": [
    "<div align=\"center\" vertical-align=\"middle\">\n",
    "    <img src=\"./docs/iconmonstr-puzzle-17-icon-text.png\" height = \"400\" width = \"400\" style=\"display:inline\">\n",
    "    <br>\n",
    "    <h2>*Tools to assemble EGRIN 2.0: compile cMonkey2 runs*</h2>\n",
    "</div>"
   ]
  },
  {
   "cell_type": "markdown",
   "metadata": {
    "slideshow": {
     "slide_type": "subslide"
    }
   },
   "source": [
    "`python assembler.py`\n",
    "<br>\n",
    "`--organism` *org* \n",
    "<br>\n",
    "`--host` *localhost* \n",
    "<br>\n",
    "`--ratios` *myRatiosFile.tgz*\n",
    "<br>\n",
    "`--targetdir` */path/to/myOutputDir* \n",
    "<br>\n",
    "`--ncbi_code` *12345*\n",
    "<br>\n",
    "`--ensembledir` */path/to/ensemble/*\n",
    "<br>\n",
    "`--col_annot` *myExperimentalAnnotations.tgz* \n",
    "<br>\n",
    "`--n_resamples` *10000*"
   ]
  },
  {
   "cell_type": "code",
   "execution_count": 25,
   "metadata": {
    "collapsed": false,
    "scrolled": true,
    "slideshow": {
     "slide_type": "subslide"
    }
   },
   "outputs": [
    {
     "name": "stdout",
     "output_type": "stream",
     "text": [
      "usage: assembler.py [-h] --organism ORGANISM --ratios RATIOS --targetdir\n",
      "                    TARGETDIR --ncbi_code NCBI_CODE [--cores CORES]\n",
      "                    [--ensembledir ENSEMBLEDIR] [--col_annot COL_ANNOT]\n",
      "                    [--host HOST] [--port PORT] [--prefix PREFIX]\n",
      "                    [--row_annot ROW_ANNOT]\n",
      "                    [--row_annot_matchCol ROW_ANNOT_MATCHCOL]\n",
      "                    [--gre2motif GRE2MOTIF] [--db DB]\n",
      "                    [--genome_annot GENOME_ANNOT]\n",
      "                    [--backbone_pval BACKBONE_PVAL]\n",
      "                    [--link_comm_score LINK_COMM_SCORE]\n",
      "                    [--link_comm_increment LINK_COMM_INCREMENT]\n",
      "                    [--link_comm_density_score LINK_COMM_DENSITY_SCORE]\n",
      "                    [--corem_size_threshold COREM_SIZE_THRESHOLD]\n",
      "                    [--n_resamples N_RESAMPLES] [--cluster CLUSTER]\n",
      "                    [--finish_only FINISH_ONLY] [--user USER]\n",
      "\n",
      "assemble.py - prepare cluster runs\n",
      "\n",
      "optional arguments:\n",
      "  -h, --help            show this help message and exit\n",
      "  --organism ORGANISM   3 letter organism code\n",
      "  --ratios RATIOS       Path to ratios file. Should be 'raw' (normalized)\n",
      "                        ratios, not the standardized ratios used by cMonkey\n",
      "  --targetdir TARGETDIR\n",
      "                        Storage path for MongoDB and corem data\n",
      "  --ncbi_code NCBI_CODE\n",
      "                        NCBI organism code\n",
      "  --cores CORES         Number local cores to use for corem C++ scripts\n",
      "  --ensembledir ENSEMBLEDIR\n",
      "                        Path to ensemble runs. Default: cwd\n",
      "  --col_annot COL_ANNOT\n",
      "                        Tab-delimited file with experiment annotations\n",
      "  --host HOST           MongoDB host. Default 'localhost'\n",
      "  --port PORT           MongoDB port\n",
      "  --prefix PREFIX       Ensemble run prefix. Default: *organism*-out-\n",
      "  --row_annot ROW_ANNOT\n",
      "                        Optional row (gene) annotation tab-delimited file. If\n",
      "                        not specified, annotations will be downloaded from\n",
      "                        MicrobesOnline using --ncbi_code.\n",
      "  --row_annot_matchCol ROW_ANNOT_MATCHCOL\n",
      "                        Name of column in row_annot that matches row names in\n",
      "                        ratios file.\n",
      "  --gre2motif GRE2MOTIF\n",
      "                        Motif->GRE clustering file\n",
      "  --db DB               Optional ensemble MongoDB database name\n",
      "  --genome_annot GENOME_ANNOT\n",
      "                        Optional genome annotation file. Automatically\n",
      "                        downloaded from MicrobesOnline using --ncbi_code\n",
      "  --backbone_pval BACKBONE_PVAL\n",
      "                        Significance pvalue for gene-gene backbone. Default =\n",
      "                        0.05.\n",
      "  --link_comm_score LINK_COMM_SCORE\n",
      "                        Scoring metric for link communities\n",
      "  --link_comm_increment LINK_COMM_INCREMENT\n",
      "                        Height increment for cutting agglomerative clustering\n",
      "                        of link communities\n",
      "  --link_comm_density_score LINK_COMM_DENSITY_SCORE\n",
      "                        Density score for evaluating link communities\n",
      "  --corem_size_threshold COREM_SIZE_THRESHOLD\n",
      "                        Defines minimum corem size. Default = 3.\n",
      "  --n_resamples N_RESAMPLES\n",
      "                        Number resamples to compute for corem condition\n",
      "                        assignment. Default = 10,000\n",
      "  --cluster CLUSTER     Run re-samples on cluster? Boolean.\n",
      "  --finish_only FINISH_ONLY\n",
      "                        Finish corems only. In case session gets dropped\n",
      "  --user USER           Cluster user name\n"
     ]
    }
   ],
   "source": [
    "%run ../egrin2-tools/assemble/assembler.py -h"
   ]
  },
  {
   "cell_type": "markdown",
   "metadata": {
    "slideshow": {
     "slide_type": "subslide"
    }
   },
   "source": [
    "<div align=\"center\" vertical-align=\"middle\">\n",
    "    <h3>Experimental Annotations</h3>\n",
    "    <img src=\"./docs/experiment_annotation.png\" height = \"90%\" width = \"90%\" style=\"display:inline\">\n",
    "</div>"
   ]
  },
  {
   "cell_type": "markdown",
   "metadata": {
    "slideshow": {
     "slide_type": "subslide"
    }
   },
   "source": [
    "###If all goes well, you will have a MongoDB database named:\n",
    "\n",
    "yourOrganism**_db**"
   ]
  },
  {
   "cell_type": "markdown",
   "metadata": {
    "slideshow": {
     "slide_type": "fragment"
    }
   },
   "source": [
    "The <a href=\"http://nbviewer.ipython.org/github/scalefreegan/egrin2-tools/blob/master/doc/assemble_docs/mongo_schema.ipynb\">database schema</a> is available on the wiki"
   ]
  },
  {
   "cell_type": "code",
   "execution_count": 26,
   "metadata": {
    "collapsed": false,
    "scrolled": false,
    "slideshow": {
     "slide_type": "subslide"
    }
   },
   "outputs": [
    {
     "data": {
      "text/plain": [
       "[u'system.indexes',\n",
       " u'genome',\n",
       " u'row_info',\n",
       " u'col_info',\n",
       " u'gene_expression',\n",
       " u'ensemble_info',\n",
       " u'bicluster_info',\n",
       " u'motif_info',\n",
       " u'fimo',\n",
       " u'fimo_small',\n",
       " u'row_row',\n",
       " u'corem',\n",
       " u'col_resample',\n",
       " u'rowsCount_mapreduce',\n",
       " u'columnsCount_mapreduce',\n",
       " u'gresCount_mapreduce']"
      ]
     },
     "execution_count": 26,
     "metadata": {},
     "output_type": "execute_result"
    }
   ],
   "source": [
    "from pymongo import MongoClient\n",
    "host = \"primordial\"\n",
    "port = \"27017\"\n",
    "\n",
    "client = MongoClient( 'mongodb://' + host + ':' + str(port) + '/' ) \n",
    "\n",
    "db = \"eco_db\"\n",
    "\n",
    "client[db].collection_names()\n"
   ]
  },
  {
   "cell_type": "markdown",
   "metadata": {
    "slideshow": {
     "slide_type": "subslide"
    }
   },
   "source": [
    "<div align=\"center\" vertical-align=\"middle\">\n",
    "    <img src=\"./docs/iconmonstr-help-6-icon-256.png\" height = \"25%\" width = \"25%\" style=\"display:inline\">\n",
    "</div>"
   ]
  },
  {
   "cell_type": "markdown",
   "metadata": {
    "internals": {
     "frag_helper": "fragment_end",
     "frag_number": 13,
     "slide_helper": "subslide_end",
     "slide_type": "subslide"
    },
    "slide_helper": "subslide_end",
    "slideshow": {
     "slide_type": "slide"
    }
   },
   "source": [
    "<div align=\"center\" vertical-align=\"middle\">\n",
    "    <img src=\"./docs/iconmonstr-flask-3-icon-text.png\" height = \"400\" width = \"400\" style=\"display:inline\">\n",
    "    <br>\n",
    "    <h2>*Tools to query EGRIN 2.0: the money*</h2>\n",
    "</div>"
   ]
  },
  {
   "cell_type": "markdown",
   "metadata": {
    "slideshow": {
     "slide_type": "subslide"
    }
   },
   "source": [
    "<div align=\"center\" vertical-align=\"middle\">\n",
    "    <img src=\"./docs/mine_text.png\" height = \"300\" width = \"300\" style=\"display:inline\">\n",
    "    <img src=\"./docs/iconmonstr-bar-chart-2-icon_text.png\" height = \"300\" width = \"300\" style=\"display:inline\">\n",
    "</div>"
   ]
  },
  {
   "cell_type": "code",
   "execution_count": 2,
   "metadata": {
    "collapsed": false,
    "internals": {
     "frag_helper": "fragment_end",
     "frag_number": 13,
     "slide_helper": "subslide_end",
     "slide_type": "subslide"
    },
    "slide_helper": "subslide_end",
    "slideshow": {
     "slide_type": "fragment"
    }
   },
   "outputs": [],
   "source": [
    "from query.egrin2_query import *\n",
    "from query.egrin2_plot import *"
   ]
  },
  {
   "cell_type": "markdown",
   "metadata": {
    "internals": {
     "frag_helper": "fragment_end",
     "frag_number": 13,
     "slide_helper": "subslide_end",
     "slide_type": "subslide"
    },
    "slide_helper": "subslide_end",
    "slideshow": {
     "slide_type": "subslide"
    }
   },
   "source": [
    "<div align=\"center\" vertical-align=\"middle\">\n",
    "\n",
    "        <img src=\"./docs/egrin2_fig1-03.png\" height = \"100%\" width = \"100%\" style=\"display:inline\">\n",
    "        \n",
    "</div>"
   ]
  },
  {
   "cell_type": "markdown",
   "metadata": {
    "collapsed": false,
    "slideshow": {
     "slide_type": "subslide"
    }
   },
   "source": [
    "# Basic EGRIN 2.0 queries"
   ]
  },
  {
   "cell_type": "markdown",
   "metadata": {
    "collapsed": true,
    "slideshow": {
     "slide_type": "fragment"
    }
   },
   "source": [
    "## `agglom()` "
   ]
  },
  {
   "cell_type": "code",
   "execution_count": 28,
   "metadata": {
    "collapsed": true,
    "slideshow": {
     "slide_type": "fragment"
    }
   },
   "outputs": [],
   "source": [
    "? agglom"
   ]
  },
  {
   "cell_type": "code",
   "execution_count": 3,
   "metadata": {
    "collapsed": false,
    "scrolled": true,
    "slideshow": {
     "slide_type": "subslide"
    }
   },
   "outputs": [
    {
     "name": "stdout",
     "output_type": "stream",
     "text": [
      "Reverting to translation by single matches. Defining 'input_type' will dramatically speed up query.\n"
     ]
    },
    {
     "data": {
      "text/html": [
       "<div style=\"max-height:1000px;max-width:1500px;overflow:auto;\">\n",
       "<table border=\"1\" class=\"dataframe\">\n",
       "  <thead>\n",
       "    <tr style=\"text-align: right;\">\n",
       "      <th></th>\n",
       "      <th>counts</th>\n",
       "      <th>all_counts</th>\n",
       "      <th>pval</th>\n",
       "      <th>qval_BH</th>\n",
       "      <th>qval_bonferroni</th>\n",
       "    </tr>\n",
       "  </thead>\n",
       "  <tbody>\n",
       "    <tr>\n",
       "      <th>b0032</th>\n",
       "      <td> 198</td>\n",
       "      <td> 198</td>\n",
       "      <td>  0.000000e+00</td>\n",
       "      <td>  0.000000e+00</td>\n",
       "      <td>  0.000000e+00</td>\n",
       "    </tr>\n",
       "    <tr>\n",
       "      <th>b0033</th>\n",
       "      <td> 173</td>\n",
       "      <td> 198</td>\n",
       "      <td>  0.000000e+00</td>\n",
       "      <td>  0.000000e+00</td>\n",
       "      <td>  0.000000e+00</td>\n",
       "    </tr>\n",
       "    <tr>\n",
       "      <th>b4245</th>\n",
       "      <td> 169</td>\n",
       "      <td> 198</td>\n",
       "      <td>  0.000000e+00</td>\n",
       "      <td>  0.000000e+00</td>\n",
       "      <td>  0.000000e+00</td>\n",
       "    </tr>\n",
       "    <tr>\n",
       "      <th>b4244</th>\n",
       "      <td> 167</td>\n",
       "      <td> 198</td>\n",
       "      <td>  0.000000e+00</td>\n",
       "      <td>  0.000000e+00</td>\n",
       "      <td>  0.000000e+00</td>\n",
       "    </tr>\n",
       "    <tr>\n",
       "      <th>b0337</th>\n",
       "      <td> 154</td>\n",
       "      <td> 198</td>\n",
       "      <td>  0.000000e+00</td>\n",
       "      <td>  0.000000e+00</td>\n",
       "      <td>  0.000000e+00</td>\n",
       "    </tr>\n",
       "    <tr>\n",
       "      <th>b0336</th>\n",
       "      <td> 153</td>\n",
       "      <td> 198</td>\n",
       "      <td>  0.000000e+00</td>\n",
       "      <td>  0.000000e+00</td>\n",
       "      <td>  0.000000e+00</td>\n",
       "    </tr>\n",
       "    <tr>\n",
       "      <th>b1062</th>\n",
       "      <td> 152</td>\n",
       "      <td> 198</td>\n",
       "      <td>  0.000000e+00</td>\n",
       "      <td>  0.000000e+00</td>\n",
       "      <td>  0.000000e+00</td>\n",
       "    </tr>\n",
       "    <tr>\n",
       "      <th>b2476</th>\n",
       "      <td> 142</td>\n",
       "      <td> 198</td>\n",
       "      <td> 3.783051e-300</td>\n",
       "      <td> 4.073085e-298</td>\n",
       "      <td> 3.665776e-297</td>\n",
       "    </tr>\n",
       "    <tr>\n",
       "      <th>b2499</th>\n",
       "      <td> 142</td>\n",
       "      <td> 198</td>\n",
       "      <td> 3.783051e-300</td>\n",
       "      <td> 4.073085e-298</td>\n",
       "      <td> 3.665776e-297</td>\n",
       "    </tr>\n",
       "    <tr>\n",
       "      <th>b2312</th>\n",
       "      <td> 141</td>\n",
       "      <td> 198</td>\n",
       "      <td> 5.664712e-297</td>\n",
       "      <td> 4.574255e-295</td>\n",
       "      <td> 5.489106e-294</td>\n",
       "    </tr>\n",
       "    <tr>\n",
       "      <th>b2313</th>\n",
       "      <td> 141</td>\n",
       "      <td> 198</td>\n",
       "      <td> 5.664712e-297</td>\n",
       "      <td> 4.574255e-295</td>\n",
       "      <td> 5.489106e-294</td>\n",
       "    </tr>\n",
       "    <tr>\n",
       "      <th>b2557</th>\n",
       "      <td> 141</td>\n",
       "      <td> 198</td>\n",
       "      <td> 5.664712e-297</td>\n",
       "      <td> 4.574255e-295</td>\n",
       "      <td> 5.489106e-294</td>\n",
       "    </tr>\n",
       "    <tr>\n",
       "      <th>b0522</th>\n",
       "      <td> 138</td>\n",
       "      <td> 198</td>\n",
       "      <td> 1.477589e-287</td>\n",
       "      <td> 1.101372e-285</td>\n",
       "      <td> 1.431783e-284</td>\n",
       "    </tr>\n",
       "    <tr>\n",
       "      <th>b1849</th>\n",
       "      <td> 136</td>\n",
       "      <td> 198</td>\n",
       "      <td> 2.280977e-281</td>\n",
       "      <td> 1.578762e-279</td>\n",
       "      <td> 2.210267e-278</td>\n",
       "    </tr>\n",
       "    <tr>\n",
       "      <th>b4006</th>\n",
       "      <td> 132</td>\n",
       "      <td> 198</td>\n",
       "      <td> 3.382871e-269</td>\n",
       "      <td> 2.185335e-267</td>\n",
       "      <td> 3.278002e-266</td>\n",
       "    </tr>\n",
       "    <tr>\n",
       "      <th>b0523</th>\n",
       "      <td> 129</td>\n",
       "      <td> 198</td>\n",
       "      <td> 3.043903e-260</td>\n",
       "      <td> 1.843464e-258</td>\n",
       "      <td> 2.949542e-257</td>\n",
       "    </tr>\n",
       "    <tr>\n",
       "      <th>b3654</th>\n",
       "      <td> 128</td>\n",
       "      <td> 198</td>\n",
       "      <td> 2.728256e-257</td>\n",
       "      <td> 1.555106e-255</td>\n",
       "      <td> 2.643680e-254</td>\n",
       "    </tr>\n",
       "    <tr>\n",
       "      <th>b4246</th>\n",
       "      <td> 126</td>\n",
       "      <td> 198</td>\n",
       "      <td> 1.964952e-251</td>\n",
       "      <td> 1.057799e-249</td>\n",
       "      <td> 1.904038e-248</td>\n",
       "    </tr>\n",
       "    <tr>\n",
       "      <th>b2500</th>\n",
       "      <td> 122</td>\n",
       "      <td> 198</td>\n",
       "      <td> 6.646122e-240</td>\n",
       "      <td> 3.389522e-238</td>\n",
       "      <td> 6.440093e-237</td>\n",
       "    </tr>\n",
       "    <tr>\n",
       "      <th>b2497</th>\n",
       "      <td> 112</td>\n",
       "      <td> 198</td>\n",
       "      <td> 4.061863e-212</td>\n",
       "      <td> 1.967973e-210</td>\n",
       "      <td> 3.935945e-209</td>\n",
       "    </tr>\n",
       "    <tr>\n",
       "      <th>b4064</th>\n",
       "      <td> 102</td>\n",
       "      <td> 198</td>\n",
       "      <td> 9.823972e-186</td>\n",
       "      <td> 4.533061e-184</td>\n",
       "      <td> 9.519429e-183</td>\n",
       "    </tr>\n",
       "    <tr>\n",
       "      <th>b0945</th>\n",
       "      <td>  96</td>\n",
       "      <td> 198</td>\n",
       "      <td> 1.511792e-170</td>\n",
       "      <td> 6.658758e-169</td>\n",
       "      <td> 1.464927e-167</td>\n",
       "    </tr>\n",
       "    <tr>\n",
       "      <th>b4005</th>\n",
       "      <td>  89</td>\n",
       "      <td> 198</td>\n",
       "      <td> 2.020583e-153</td>\n",
       "      <td> 8.512805e-152</td>\n",
       "      <td> 1.957945e-150</td>\n",
       "    </tr>\n",
       "    <tr>\n",
       "      <th>b3941</th>\n",
       "      <td>  58</td>\n",
       "      <td> 198</td>\n",
       "      <td>  3.940658e-85</td>\n",
       "      <td>  1.591041e-83</td>\n",
       "      <td>  3.818498e-82</td>\n",
       "    </tr>\n",
       "    <tr>\n",
       "      <th>b3359</th>\n",
       "      <td>  57</td>\n",
       "      <td> 198</td>\n",
       "      <td>  3.886443e-83</td>\n",
       "      <td>  1.448447e-81</td>\n",
       "      <td>  3.765963e-80</td>\n",
       "    </tr>\n",
       "    <tr>\n",
       "      <th>b3829</th>\n",
       "      <td>  57</td>\n",
       "      <td> 198</td>\n",
       "      <td>  3.886443e-83</td>\n",
       "      <td>  1.448447e-81</td>\n",
       "      <td>  3.765963e-80</td>\n",
       "    </tr>\n",
       "    <tr>\n",
       "      <th>b4024</th>\n",
       "      <td>  56</td>\n",
       "      <td> 198</td>\n",
       "      <td>  3.714681e-81</td>\n",
       "      <td>  1.333158e-79</td>\n",
       "      <td>  3.599526e-78</td>\n",
       "    </tr>\n",
       "    <tr>\n",
       "      <th>b0908</th>\n",
       "      <td>  55</td>\n",
       "      <td> 198</td>\n",
       "      <td>  3.440262e-79</td>\n",
       "      <td>  1.149522e-77</td>\n",
       "      <td>  3.333614e-76</td>\n",
       "    </tr>\n",
       "    <tr>\n",
       "      <th>b3774</th>\n",
       "      <td>  55</td>\n",
       "      <td> 198</td>\n",
       "      <td>  3.440262e-79</td>\n",
       "      <td>  1.149522e-77</td>\n",
       "      <td>  3.333614e-76</td>\n",
       "    </tr>\n",
       "    <tr>\n",
       "      <th>b3008</th>\n",
       "      <td>  54</td>\n",
       "      <td> 198</td>\n",
       "      <td>  3.086539e-77</td>\n",
       "      <td>  9.647922e-76</td>\n",
       "      <td>  2.990856e-74</td>\n",
       "    </tr>\n",
       "    <tr>\n",
       "      <th>...</th>\n",
       "      <td>...</td>\n",
       "      <td>...</td>\n",
       "      <td>...</td>\n",
       "      <td>...</td>\n",
       "      <td>...</td>\n",
       "    </tr>\n",
       "    <tr>\n",
       "      <th>b1603</th>\n",
       "      <td>   3</td>\n",
       "      <td> 198</td>\n",
       "      <td>  3.154301e-02</td>\n",
       "      <td>  1.180123e-01</td>\n",
       "      <td>  1.000000e+00</td>\n",
       "    </tr>\n",
       "    <tr>\n",
       "      <th>b0537</th>\n",
       "      <td>   3</td>\n",
       "      <td> 198</td>\n",
       "      <td>  3.154301e-02</td>\n",
       "      <td>  1.180123e-01</td>\n",
       "      <td>  1.000000e+00</td>\n",
       "    </tr>\n",
       "    <tr>\n",
       "      <th>b0070</th>\n",
       "      <td>   3</td>\n",
       "      <td> 198</td>\n",
       "      <td>  3.154301e-02</td>\n",
       "      <td>  1.180123e-01</td>\n",
       "      <td>  1.000000e+00</td>\n",
       "    </tr>\n",
       "    <tr>\n",
       "      <th>b3574</th>\n",
       "      <td>   3</td>\n",
       "      <td> 198</td>\n",
       "      <td>  3.154301e-02</td>\n",
       "      <td>  1.180123e-01</td>\n",
       "      <td>  1.000000e+00</td>\n",
       "    </tr>\n",
       "    <tr>\n",
       "      <th>b2000</th>\n",
       "      <td>   3</td>\n",
       "      <td> 198</td>\n",
       "      <td>  3.154301e-02</td>\n",
       "      <td>  1.180123e-01</td>\n",
       "      <td>  1.000000e+00</td>\n",
       "    </tr>\n",
       "    <tr>\n",
       "      <th>b1247</th>\n",
       "      <td>   3</td>\n",
       "      <td> 198</td>\n",
       "      <td>  3.154301e-02</td>\n",
       "      <td>  1.180123e-01</td>\n",
       "      <td>  1.000000e+00</td>\n",
       "    </tr>\n",
       "    <tr>\n",
       "      <th>b0854</th>\n",
       "      <td>   3</td>\n",
       "      <td> 198</td>\n",
       "      <td>  3.154301e-02</td>\n",
       "      <td>  1.180123e-01</td>\n",
       "      <td>  1.000000e+00</td>\n",
       "    </tr>\n",
       "    <tr>\n",
       "      <th>b0862</th>\n",
       "      <td>   3</td>\n",
       "      <td> 198</td>\n",
       "      <td>  3.154301e-02</td>\n",
       "      <td>  1.180123e-01</td>\n",
       "      <td>  1.000000e+00</td>\n",
       "    </tr>\n",
       "    <tr>\n",
       "      <th>b2255</th>\n",
       "      <td>   3</td>\n",
       "      <td> 198</td>\n",
       "      <td>  3.154301e-02</td>\n",
       "      <td>  1.180123e-01</td>\n",
       "      <td>  1.000000e+00</td>\n",
       "    </tr>\n",
       "    <tr>\n",
       "      <th>b2924</th>\n",
       "      <td>   3</td>\n",
       "      <td> 198</td>\n",
       "      <td>  3.154301e-02</td>\n",
       "      <td>  1.180123e-01</td>\n",
       "      <td>  1.000000e+00</td>\n",
       "    </tr>\n",
       "    <tr>\n",
       "      <th>b2018</th>\n",
       "      <td>   3</td>\n",
       "      <td> 198</td>\n",
       "      <td>  3.154301e-02</td>\n",
       "      <td>  1.180123e-01</td>\n",
       "      <td>  1.000000e+00</td>\n",
       "    </tr>\n",
       "    <tr>\n",
       "      <th>b0793</th>\n",
       "      <td>   3</td>\n",
       "      <td> 198</td>\n",
       "      <td>  3.154301e-02</td>\n",
       "      <td>  1.180123e-01</td>\n",
       "      <td>  1.000000e+00</td>\n",
       "    </tr>\n",
       "    <tr>\n",
       "      <th>b2290</th>\n",
       "      <td>   3</td>\n",
       "      <td> 198</td>\n",
       "      <td>  3.154301e-02</td>\n",
       "      <td>  1.180123e-01</td>\n",
       "      <td>  1.000000e+00</td>\n",
       "    </tr>\n",
       "    <tr>\n",
       "      <th>b0296</th>\n",
       "      <td>   3</td>\n",
       "      <td> 198</td>\n",
       "      <td>  3.154301e-02</td>\n",
       "      <td>  1.180123e-01</td>\n",
       "      <td>  1.000000e+00</td>\n",
       "    </tr>\n",
       "    <tr>\n",
       "      <th>b2552</th>\n",
       "      <td>   3</td>\n",
       "      <td> 198</td>\n",
       "      <td>  3.154301e-02</td>\n",
       "      <td>  1.180123e-01</td>\n",
       "      <td>  1.000000e+00</td>\n",
       "    </tr>\n",
       "    <tr>\n",
       "      <th>b1473</th>\n",
       "      <td>   3</td>\n",
       "      <td> 198</td>\n",
       "      <td>  3.154301e-02</td>\n",
       "      <td>  1.180123e-01</td>\n",
       "      <td>  1.000000e+00</td>\n",
       "    </tr>\n",
       "    <tr>\n",
       "      <th>b3237</th>\n",
       "      <td>   3</td>\n",
       "      <td> 198</td>\n",
       "      <td>  3.154301e-02</td>\n",
       "      <td>  1.180123e-01</td>\n",
       "      <td>  1.000000e+00</td>\n",
       "    </tr>\n",
       "    <tr>\n",
       "      <th>b3478</th>\n",
       "      <td>   3</td>\n",
       "      <td> 198</td>\n",
       "      <td>  3.154301e-02</td>\n",
       "      <td>  1.180123e-01</td>\n",
       "      <td>  1.000000e+00</td>\n",
       "    </tr>\n",
       "    <tr>\n",
       "      <th>b0450</th>\n",
       "      <td>   3</td>\n",
       "      <td> 198</td>\n",
       "      <td>  3.154301e-02</td>\n",
       "      <td>  1.180123e-01</td>\n",
       "      <td>  1.000000e+00</td>\n",
       "    </tr>\n",
       "    <tr>\n",
       "      <th>b2749</th>\n",
       "      <td>   3</td>\n",
       "      <td> 198</td>\n",
       "      <td>  3.154301e-02</td>\n",
       "      <td>  1.180123e-01</td>\n",
       "      <td>  1.000000e+00</td>\n",
       "    </tr>\n",
       "    <tr>\n",
       "      <th>b2599</th>\n",
       "      <td>   3</td>\n",
       "      <td> 198</td>\n",
       "      <td>  3.154301e-02</td>\n",
       "      <td>  1.180123e-01</td>\n",
       "      <td>  1.000000e+00</td>\n",
       "    </tr>\n",
       "    <tr>\n",
       "      <th>b3715</th>\n",
       "      <td>   3</td>\n",
       "      <td> 198</td>\n",
       "      <td>  3.154301e-02</td>\n",
       "      <td>  1.180123e-01</td>\n",
       "      <td>  1.000000e+00</td>\n",
       "    </tr>\n",
       "    <tr>\n",
       "      <th>b1286</th>\n",
       "      <td>   3</td>\n",
       "      <td> 198</td>\n",
       "      <td>  3.154301e-02</td>\n",
       "      <td>  1.180123e-01</td>\n",
       "      <td>  1.000000e+00</td>\n",
       "    </tr>\n",
       "    <tr>\n",
       "      <th>b3910</th>\n",
       "      <td>   3</td>\n",
       "      <td> 198</td>\n",
       "      <td>  3.154301e-02</td>\n",
       "      <td>  1.180123e-01</td>\n",
       "      <td>  1.000000e+00</td>\n",
       "    </tr>\n",
       "    <tr>\n",
       "      <th>b1913</th>\n",
       "      <td>   3</td>\n",
       "      <td> 198</td>\n",
       "      <td>  3.154301e-02</td>\n",
       "      <td>  1.180123e-01</td>\n",
       "      <td>  1.000000e+00</td>\n",
       "    </tr>\n",
       "    <tr>\n",
       "      <th>b2817</th>\n",
       "      <td>   3</td>\n",
       "      <td> 198</td>\n",
       "      <td>  3.154301e-02</td>\n",
       "      <td>  1.180123e-01</td>\n",
       "      <td>  1.000000e+00</td>\n",
       "    </tr>\n",
       "    <tr>\n",
       "      <th>b2252</th>\n",
       "      <td>   3</td>\n",
       "      <td> 198</td>\n",
       "      <td>  3.154301e-02</td>\n",
       "      <td>  1.180123e-01</td>\n",
       "      <td>  1.000000e+00</td>\n",
       "    </tr>\n",
       "    <tr>\n",
       "      <th>b3426</th>\n",
       "      <td>   3</td>\n",
       "      <td> 198</td>\n",
       "      <td>  3.154301e-02</td>\n",
       "      <td>  1.180123e-01</td>\n",
       "      <td>  1.000000e+00</td>\n",
       "    </tr>\n",
       "    <tr>\n",
       "      <th>b3666</th>\n",
       "      <td>   3</td>\n",
       "      <td> 198</td>\n",
       "      <td>  3.154301e-02</td>\n",
       "      <td>  1.180123e-01</td>\n",
       "      <td>  1.000000e+00</td>\n",
       "    </tr>\n",
       "    <tr>\n",
       "      <th>b3954</th>\n",
       "      <td>   3</td>\n",
       "      <td> 198</td>\n",
       "      <td>  3.154301e-02</td>\n",
       "      <td>  1.180123e-01</td>\n",
       "      <td>  1.000000e+00</td>\n",
       "    </tr>\n",
       "  </tbody>\n",
       "</table>\n",
       "<p>259 rows × 5 columns</p>\n",
       "</div>"
      ],
      "text/plain": [
       "       counts  all_counts           pval        qval_BH  qval_bonferroni\n",
       "b0032     198         198   0.000000e+00   0.000000e+00     0.000000e+00\n",
       "b0033     173         198   0.000000e+00   0.000000e+00     0.000000e+00\n",
       "b4245     169         198   0.000000e+00   0.000000e+00     0.000000e+00\n",
       "b4244     167         198   0.000000e+00   0.000000e+00     0.000000e+00\n",
       "b0337     154         198   0.000000e+00   0.000000e+00     0.000000e+00\n",
       "b0336     153         198   0.000000e+00   0.000000e+00     0.000000e+00\n",
       "b1062     152         198   0.000000e+00   0.000000e+00     0.000000e+00\n",
       "b2476     142         198  3.783051e-300  4.073085e-298    3.665776e-297\n",
       "b2499     142         198  3.783051e-300  4.073085e-298    3.665776e-297\n",
       "b2312     141         198  5.664712e-297  4.574255e-295    5.489106e-294\n",
       "b2313     141         198  5.664712e-297  4.574255e-295    5.489106e-294\n",
       "b2557     141         198  5.664712e-297  4.574255e-295    5.489106e-294\n",
       "b0522     138         198  1.477589e-287  1.101372e-285    1.431783e-284\n",
       "b1849     136         198  2.280977e-281  1.578762e-279    2.210267e-278\n",
       "b4006     132         198  3.382871e-269  2.185335e-267    3.278002e-266\n",
       "b0523     129         198  3.043903e-260  1.843464e-258    2.949542e-257\n",
       "b3654     128         198  2.728256e-257  1.555106e-255    2.643680e-254\n",
       "b4246     126         198  1.964952e-251  1.057799e-249    1.904038e-248\n",
       "b2500     122         198  6.646122e-240  3.389522e-238    6.440093e-237\n",
       "b2497     112         198  4.061863e-212  1.967973e-210    3.935945e-209\n",
       "b4064     102         198  9.823972e-186  4.533061e-184    9.519429e-183\n",
       "b0945      96         198  1.511792e-170  6.658758e-169    1.464927e-167\n",
       "b4005      89         198  2.020583e-153  8.512805e-152    1.957945e-150\n",
       "b3941      58         198   3.940658e-85   1.591041e-83     3.818498e-82\n",
       "b3359      57         198   3.886443e-83   1.448447e-81     3.765963e-80\n",
       "b3829      57         198   3.886443e-83   1.448447e-81     3.765963e-80\n",
       "b4024      56         198   3.714681e-81   1.333158e-79     3.599526e-78\n",
       "b0908      55         198   3.440262e-79   1.149522e-77     3.333614e-76\n",
       "b3774      55         198   3.440262e-79   1.149522e-77     3.333614e-76\n",
       "b3008      54         198   3.086539e-77   9.647922e-76     2.990856e-74\n",
       "...       ...         ...            ...            ...              ...\n",
       "b1603       3         198   3.154301e-02   1.180123e-01     1.000000e+00\n",
       "b0537       3         198   3.154301e-02   1.180123e-01     1.000000e+00\n",
       "b0070       3         198   3.154301e-02   1.180123e-01     1.000000e+00\n",
       "b3574       3         198   3.154301e-02   1.180123e-01     1.000000e+00\n",
       "b2000       3         198   3.154301e-02   1.180123e-01     1.000000e+00\n",
       "b1247       3         198   3.154301e-02   1.180123e-01     1.000000e+00\n",
       "b0854       3         198   3.154301e-02   1.180123e-01     1.000000e+00\n",
       "b0862       3         198   3.154301e-02   1.180123e-01     1.000000e+00\n",
       "b2255       3         198   3.154301e-02   1.180123e-01     1.000000e+00\n",
       "b2924       3         198   3.154301e-02   1.180123e-01     1.000000e+00\n",
       "b2018       3         198   3.154301e-02   1.180123e-01     1.000000e+00\n",
       "b0793       3         198   3.154301e-02   1.180123e-01     1.000000e+00\n",
       "b2290       3         198   3.154301e-02   1.180123e-01     1.000000e+00\n",
       "b0296       3         198   3.154301e-02   1.180123e-01     1.000000e+00\n",
       "b2552       3         198   3.154301e-02   1.180123e-01     1.000000e+00\n",
       "b1473       3         198   3.154301e-02   1.180123e-01     1.000000e+00\n",
       "b3237       3         198   3.154301e-02   1.180123e-01     1.000000e+00\n",
       "b3478       3         198   3.154301e-02   1.180123e-01     1.000000e+00\n",
       "b0450       3         198   3.154301e-02   1.180123e-01     1.000000e+00\n",
       "b2749       3         198   3.154301e-02   1.180123e-01     1.000000e+00\n",
       "b2599       3         198   3.154301e-02   1.180123e-01     1.000000e+00\n",
       "b3715       3         198   3.154301e-02   1.180123e-01     1.000000e+00\n",
       "b1286       3         198   3.154301e-02   1.180123e-01     1.000000e+00\n",
       "b3910       3         198   3.154301e-02   1.180123e-01     1.000000e+00\n",
       "b1913       3         198   3.154301e-02   1.180123e-01     1.000000e+00\n",
       "b2817       3         198   3.154301e-02   1.180123e-01     1.000000e+00\n",
       "b2252       3         198   3.154301e-02   1.180123e-01     1.000000e+00\n",
       "b3426       3         198   3.154301e-02   1.180123e-01     1.000000e+00\n",
       "b3666       3         198   3.154301e-02   1.180123e-01     1.000000e+00\n",
       "b3954       3         198   3.154301e-02   1.180123e-01     1.000000e+00\n",
       "\n",
       "[259 rows x 5 columns]"
      ]
     },
     "execution_count": 3,
     "metadata": {},
     "output_type": "execute_result"
    }
   ],
   "source": [
    "host = \"primordial\"\n",
    "db = \"eco_db\"\n",
    "\n",
    "x = \"b0032\"\n",
    "x_type = \"gene\"\n",
    "y_type = \"gene\"\n",
    "\n",
    "agglom( x, x_type, y_type , host=host, db=db )"
   ]
  },
  {
   "cell_type": "code",
   "execution_count": 36,
   "metadata": {
    "collapsed": false,
    "scrolled": true,
    "slideshow": {
     "slide_type": "subslide"
    }
   },
   "outputs": [
    {
     "name": "stdout",
     "output_type": "stream",
     "text": [
      "Reverting to translation by single matches. Defining 'input_type' will dramatically speed up query.\n"
     ]
    },
    {
     "data": {
      "text/html": [
       "<div style=\"max-height:1000px;max-width:1500px;overflow:auto;\">\n",
       "<table border=\"1\" class=\"dataframe\">\n",
       "  <thead>\n",
       "    <tr style=\"text-align: right;\">\n",
       "      <th></th>\n",
       "      <th>counts</th>\n",
       "      <th>all_counts</th>\n",
       "      <th>pval</th>\n",
       "      <th>qval_BH</th>\n",
       "      <th>qval_bonferroni</th>\n",
       "    </tr>\n",
       "  </thead>\n",
       "  <tbody>\n",
       "    <tr>\n",
       "      <th>11 </th>\n",
       "      <td> 105</td>\n",
       "      <td> 231</td>\n",
       "      <td> 2.223672e-179</td>\n",
       "      <td> 2.446039e-178</td>\n",
       "      <td> 2.446039e-178</td>\n",
       "    </tr>\n",
       "    <tr>\n",
       "      <th>81 </th>\n",
       "      <td>  29</td>\n",
       "      <td>  48</td>\n",
       "      <td>  1.234321e-54</td>\n",
       "      <td>  6.788768e-54</td>\n",
       "      <td>  1.357754e-53</td>\n",
       "    </tr>\n",
       "    <tr>\n",
       "      <th>197</th>\n",
       "      <td>  12</td>\n",
       "      <td>  27</td>\n",
       "      <td>  3.913275e-22</td>\n",
       "      <td>  1.434868e-21</td>\n",
       "      <td>  4.304603e-21</td>\n",
       "    </tr>\n",
       "    <tr>\n",
       "      <th>309</th>\n",
       "      <td>   8</td>\n",
       "      <td>  19</td>\n",
       "      <td>  1.339647e-15</td>\n",
       "      <td>  3.684029e-15</td>\n",
       "      <td>  1.473612e-14</td>\n",
       "    </tr>\n",
       "    <tr>\n",
       "      <th>12 </th>\n",
       "      <td>  14</td>\n",
       "      <td> 211</td>\n",
       "      <td>  8.518882e-12</td>\n",
       "      <td>  1.874154e-11</td>\n",
       "      <td>  9.370770e-11</td>\n",
       "    </tr>\n",
       "    <tr>\n",
       "      <th>45 </th>\n",
       "      <td>   6</td>\n",
       "      <td>  68</td>\n",
       "      <td>  2.792820e-07</td>\n",
       "      <td>  5.120169e-07</td>\n",
       "      <td>  3.072102e-06</td>\n",
       "    </tr>\n",
       "    <tr>\n",
       "      <th>585</th>\n",
       "      <td>   3</td>\n",
       "      <td>  11</td>\n",
       "      <td>  5.217592e-07</td>\n",
       "      <td>  8.199072e-07</td>\n",
       "      <td>  5.739351e-06</td>\n",
       "    </tr>\n",
       "    <tr>\n",
       "      <th>243</th>\n",
       "      <td>   2</td>\n",
       "      <td>  23</td>\n",
       "      <td>  4.177092e-04</td>\n",
       "      <td>  5.743501e-04</td>\n",
       "      <td>  4.594801e-03</td>\n",
       "    </tr>\n",
       "    <tr>\n",
       "      <th>142</th>\n",
       "      <td>   2</td>\n",
       "      <td>  35</td>\n",
       "      <td>  1.458832e-03</td>\n",
       "      <td>  1.783016e-03</td>\n",
       "      <td>  1.604715e-02</td>\n",
       "    </tr>\n",
       "    <tr>\n",
       "      <th>364</th>\n",
       "      <td>   1</td>\n",
       "      <td>  17</td>\n",
       "      <td>  5.214995e-03</td>\n",
       "      <td>  5.736494e-03</td>\n",
       "      <td>  5.736494e-02</td>\n",
       "    </tr>\n",
       "    <tr>\n",
       "      <th>284</th>\n",
       "      <td>   1</td>\n",
       "      <td>  21</td>\n",
       "      <td>  7.918280e-03</td>\n",
       "      <td>  7.918280e-03</td>\n",
       "      <td>  8.710108e-02</td>\n",
       "    </tr>\n",
       "  </tbody>\n",
       "</table>\n",
       "</div>"
      ],
      "text/plain": [
       "     counts  all_counts           pval        qval_BH  qval_bonferroni\n",
       "11      105         231  2.223672e-179  2.446039e-178    2.446039e-178\n",
       "81       29          48   1.234321e-54   6.788768e-54     1.357754e-53\n",
       "197      12          27   3.913275e-22   1.434868e-21     4.304603e-21\n",
       "309       8          19   1.339647e-15   3.684029e-15     1.473612e-14\n",
       "12       14         211   8.518882e-12   1.874154e-11     9.370770e-11\n",
       "45        6          68   2.792820e-07   5.120169e-07     3.072102e-06\n",
       "585       3          11   5.217592e-07   8.199072e-07     5.739351e-06\n",
       "243       2          23   4.177092e-04   5.743501e-04     4.594801e-03\n",
       "142       2          35   1.458832e-03   1.783016e-03     1.604715e-02\n",
       "364       1          17   5.214995e-03   5.736494e-03     5.736494e-02\n",
       "284       1          21   7.918280e-03   7.918280e-03     8.710108e-02"
      ]
     },
     "execution_count": 36,
     "metadata": {},
     "output_type": "execute_result"
    }
   ],
   "source": [
    "host = \"primordial\"\n",
    "db = \"eco_db\"\n",
    "\n",
    "x = [\"carA\",\"carB\",\"pyrL\",\"pyrB\"]\n",
    "x_type = \"gene\"\n",
    "y_type = \"gre\"\n",
    "\n",
    "logic = \"and\"\n",
    "\n",
    "agglom( x, x_type, y_type , host=host, db=db, logic=logic )"
   ]
  },
  {
   "cell_type": "markdown",
   "metadata": {
    "slideshow": {
     "slide_type": "subslide"
    }
   },
   "source": [
    "## Aside: experimental annotations"
   ]
  },
  {
   "cell_type": "code",
   "execution_count": 37,
   "metadata": {
    "collapsed": false,
    "scrolled": true,
    "slideshow": {
     "slide_type": "fragment"
    }
   },
   "outputs": [
    {
     "data": {
      "text/plain": [
       "{u'additional_info': [{u'name': u'aeration',\n",
       "   u'units': nan,\n",
       "   u'value': u'assumed_aerobic'},\n",
       "  {u'name': u'Ampicillin', u'units': u'mM', u'value': u'0.1431'},\n",
       "  {u'name': u'arabinose', u'units': u'mM', u'value': u'8.3261'},\n",
       "  {u'name': u'cell_density', u'units': u'OD600', u'value': u'0.3'},\n",
       "  {u'name': u'culture_shaking', u'units': u'RPM', u'value': u'300'},\n",
       "  {u'name': u'culture_temperature', u'units': u'Celsius', u'value': u'37'},\n",
       "  {u'name': u'culture_type', u'units': nan, u'value': u'batch'},\n",
       "  {u'name': u'culture_vessel', u'units': nan, u'value': u'96_deep_well_plate'},\n",
       "  {u'name': u'culture_vessel_volume', u'units': u'ml', u'value': u'2'},\n",
       "  {u'name': u'culture_volume', u'units': u'ml', u'value': u'1.6'},\n",
       "  {u'name': u'experimenter', u'units': nan, u'value': u'Wierzbowski J'},\n",
       "  {u'name': u'Norfloxacin', u'units': u'mM', u'value': u'7.8289e-05'},\n",
       "  {u'name': u'note',\n",
       "   u'units': nan,\n",
       "   u'value': u'pBADx53 is a modified pBAD30 vector, has a low copy SC101 origin of replication, does not contain araC, and yields low and consistent levels of expression, generally 2-10 fold above native expression levels'},\n",
       "  {u'name': u'peptone', u'units': u'mg/mL', u'value': u'10'},\n",
       "  {u'name': u'perturbation', u'units': nan, u'value': u'over_expression'},\n",
       "  {u'name': u'perturbation_gene', u'units': nan, u'value': u'dinI'},\n",
       "  {u'name': u'plasmid', u'units': nan, u'value': u'pBADx53'},\n",
       "  {u'name': u'resistant_to', u'units': nan, u'value': u'ampicillin'},\n",
       "  {u'name': u'RNA_prep_type', u'units': nan, u'value': u'RNeasy'},\n",
       "  {u'name': u'RNA_stop_solution', u'units': nan, u'value': u'RNAprotect'},\n",
       "  {u'name': u'sodium_chloride', u'units': u'mM', u'value': u'171.1'},\n",
       "  {u'name': u'strain', u'units': nan, u'value': u'MG1655_yale'},\n",
       "  {u'name': u'structured_metadata', u'units': nan, u'value': u'complete'},\n",
       "  {u'name': u'yeast_extract', u'units': u'mg/mL', u'value': u'5'}]}"
      ]
     },
     "execution_count": 37,
     "metadata": {},
     "output_type": "execute_result"
    }
   ],
   "source": [
    "client[db].col_info.find_one( { }, {\"_id\":0, \"additional_info\":1 } )"
   ]
  },
  {
   "cell_type": "code",
   "execution_count": 40,
   "metadata": {
    "collapsed": false,
    "scrolled": true,
    "slideshow": {
     "slide_type": "subslide"
    }
   },
   "outputs": [
    {
     "data": {
      "text/html": [
       "<div style=\"max-height:1000px;max-width:1500px;overflow:auto;\">\n",
       "<table border=\"1\" class=\"dataframe\">\n",
       "  <thead>\n",
       "    <tr style=\"text-align: right;\">\n",
       "      <th></th>\n",
       "      <th>egrin2_col_name</th>\n",
       "    </tr>\n",
       "  </thead>\n",
       "  <tbody>\n",
       "    <tr>\n",
       "      <th>0 </th>\n",
       "      <td>                 har_S0_noIPTG</td>\n",
       "    </tr>\n",
       "    <tr>\n",
       "      <th>1 </th>\n",
       "      <td>               har_S0_R_noIPTG</td>\n",
       "    </tr>\n",
       "    <tr>\n",
       "      <th>2 </th>\n",
       "      <td>                  W3110_K_luxS</td>\n",
       "    </tr>\n",
       "    <tr>\n",
       "      <th>3 </th>\n",
       "      <td>                 W3110_wt_luxS</td>\n",
       "    </tr>\n",
       "    <tr>\n",
       "      <th>4 </th>\n",
       "      <td>          W3110_K_luxS_glucose</td>\n",
       "    </tr>\n",
       "    <tr>\n",
       "      <th>5 </th>\n",
       "      <td>         W3110_wt_luxS_glucose</td>\n",
       "    </tr>\n",
       "    <tr>\n",
       "      <th>6 </th>\n",
       "      <td>                  wt_rpoS_stat</td>\n",
       "    </tr>\n",
       "    <tr>\n",
       "      <th>7 </th>\n",
       "      <td>                   K_rpoS_stat</td>\n",
       "    </tr>\n",
       "    <tr>\n",
       "      <th>8 </th>\n",
       "      <td>       rb_del_rpoS_exponential</td>\n",
       "    </tr>\n",
       "    <tr>\n",
       "      <th>9 </th>\n",
       "      <td>             rb_wt_exponential</td>\n",
       "    </tr>\n",
       "    <tr>\n",
       "      <th>10</th>\n",
       "      <td>              rb_wt_stationary</td>\n",
       "    </tr>\n",
       "    <tr>\n",
       "      <th>11</th>\n",
       "      <td>        rb_del_rpoS_stationary</td>\n",
       "    </tr>\n",
       "    <tr>\n",
       "      <th>12</th>\n",
       "      <td>              rpoS_min_wt_stat</td>\n",
       "    </tr>\n",
       "    <tr>\n",
       "      <th>13</th>\n",
       "      <td>          rpoS_min_K_rpoS_stat</td>\n",
       "    </tr>\n",
       "    <tr>\n",
       "      <th>14</th>\n",
       "      <td> high_density_serine_hydrox_t1</td>\n",
       "    </tr>\n",
       "    <tr>\n",
       "      <th>15</th>\n",
       "      <td>                   Fp_K12_stat</td>\n",
       "    </tr>\n",
       "    <tr>\n",
       "      <th>16</th>\n",
       "      <td>                Fp_MG1655_stat</td>\n",
       "    </tr>\n",
       "  </tbody>\n",
       "</table>\n",
       "</div>"
      ],
      "text/plain": [
       "                  egrin2_col_name\n",
       "0                   har_S0_noIPTG\n",
       "1                 har_S0_R_noIPTG\n",
       "2                    W3110_K_luxS\n",
       "3                   W3110_wt_luxS\n",
       "4            W3110_K_luxS_glucose\n",
       "5           W3110_wt_luxS_glucose\n",
       "6                    wt_rpoS_stat\n",
       "7                     K_rpoS_stat\n",
       "8         rb_del_rpoS_exponential\n",
       "9               rb_wt_exponential\n",
       "10               rb_wt_stationary\n",
       "11         rb_del_rpoS_stationary\n",
       "12               rpoS_min_wt_stat\n",
       "13           rpoS_min_K_rpoS_stat\n",
       "14  high_density_serine_hydrox_t1\n",
       "15                    Fp_K12_stat\n",
       "16                 Fp_MG1655_stat"
      ]
     },
     "execution_count": 40,
     "metadata": {},
     "output_type": "execute_result"
    }
   ],
   "source": [
    "pd.DataFrame( list( client[db].col_info.find( { \"additional_info\": { \"$elemMatch\": { \"name\":\"cell_density\", \"value\": {\"$gte\": \"1\" } } } }, {\"_id\":0, \"egrin2_col_name\":1 } ) ) )"
   ]
  },
  {
   "cell_type": "code",
   "execution_count": null,
   "metadata": {
    "collapsed": false,
    "scrolled": true,
    "slideshow": {
     "slide_type": "subslide"
    }
   },
   "outputs": [],
   "source": [
    "x = pd.DataFrame( list( client[db].col_info.find( { \"additional_info\": { \"$elemMatch\": { \"name\":\"cell_density\", \"value\": {\"$gte\": \"0.3\" } } } }, {\"_id\":0, \"egrin2_col_name\":1 } ) ) ).egrin2_col_name.tolist()\n",
    "x_type = \"columns\"\n",
    "y_type = \"gene\"\n",
    "\n",
    "logic = \"or\"\n",
    "\n",
    "agglom( x, x_type, y_type , host=host, db=db, logic=logic )"
   ]
  },
  {
   "cell_type": "markdown",
   "metadata": {
    "slideshow": {
     "slide_type": "subslide"
    }
   },
   "source": [
    "# Corem related \n",
    "\n"
   ]
  },
  {
   "cell_type": "markdown",
   "metadata": {
    "slideshow": {
     "slide_type": "fragment"
    }
   },
   "source": [
    "## `coremFinder()`\n",
    "## `expressionFinder()`"
   ]
  },
  {
   "cell_type": "code",
   "execution_count": 42,
   "metadata": {
    "collapsed": true,
    "slideshow": {
     "slide_type": "fragment"
    }
   },
   "outputs": [],
   "source": [
    "? coremFinder"
   ]
  },
  {
   "cell_type": "markdown",
   "metadata": {
    "internals": {
     "frag_helper": "fragment_end",
     "frag_number": 13,
     "slide_helper": "subslide_end",
     "slide_type": "subslide"
    },
    "slide_helper": "subslide_end",
    "slideshow": {
     "slide_type": "subslide"
    }
   },
   "source": [
    "<div align=\"center\" vertical-align=\"middle\">\n",
    "    <img src=\"./docs/corem-01.png\" height = \"100%\" width = \"100%\" style=\"display:inline\">\n",
    "</div>"
   ]
  },
  {
   "cell_type": "code",
   "execution_count": 50,
   "metadata": {
    "collapsed": false,
    "internals": {
     "frag_helper": "fragment_end",
     "frag_number": 13,
     "slide_helper": "subslide_end",
     "slide_type": "subslide"
    },
    "slide_helper": "subslide_end",
    "slideshow": {
     "slide_type": "subslide"
    }
   },
   "outputs": [
    {
     "name": "stdout",
     "output_type": "stream",
     "text": [
      "b3313 is also called NP_417772.1\n",
      "b3314 is also called NP_417773.1\n",
      "b3315 is also called NP_417774.1\n",
      "b3316 is also called NP_417775.1\n",
      "b3317 is also called NP_417776.1\n",
      "b3318 is also called NP_417777.1\n",
      "b3319 is also called NP_417778.1\n",
      "b3320 is also called NP_417779.1\n",
      "b3321 is also called NP_417780.1\n"
     ]
    }
   ],
   "source": [
    "host = \"primordial\"\n",
    "db = \"eco_db\"\n",
    "\n",
    "corem = 1\n",
    "\n",
    "# find the genes\n",
    "corem_genes =  coremFinder(corem, x_type = \"corem_id\", y_type=\"rows\", host=host, db=db)\n",
    "# print a summary\n",
    "corem_genes.sort()\n",
    "for i in corem_genes:\n",
    "    print i + \" is also called \" + str( row2id( i, host=host, db=db, return_field = \"accession\" ) )"
   ]
  },
  {
   "cell_type": "code",
   "execution_count": 51,
   "metadata": {
    "collapsed": false,
    "internals": {
     "frag_helper": "fragment_end",
     "frag_number": 13,
     "slide_helper": "subslide_end",
     "slide_type": "subslide"
    },
    "slide_helper": "subslide_end",
    "slideshow": {
     "slide_type": "subslide"
    }
   },
   "outputs": [
    {
     "name": "stdout",
     "output_type": "stream",
     "text": [
      "ATCC25404_wt_24hr_biofilm\n",
      "ATCC25404_wt_R1drd19_24hr_biofilm\n",
      "B178_mutant_Hsp60\n",
      "B178_wt_Hsp60\n",
      "BW25113_30C_biofilm\n",
      "BW25113_R1drd19_15hr_biofilm\n",
      "BW25113_R1drd19_24hr_biofilm\n",
      "BW25113_uninduced_t0\n",
      "BW25113_uninduced_t120\n",
      "BW25113_uninduced_t180\n",
      "\n",
      "There are 418 other conditions\n"
     ]
    }
   ],
   "source": [
    "# find the conditions\n",
    "corem_conditions =  coremFinder( x = corem,x_type = \"corem_id\", y_type=\"conds\", host=host, db=db )\n",
    "# print a summary\n",
    "corem_conditions.sort()\n",
    "for i in corem_conditions[0:10]:\n",
    "    print i\n",
    "print \"\\nThere are %s other conditions\" % len(corem_conditions)"
   ]
  },
  {
   "cell_type": "code",
   "execution_count": 52,
   "metadata": {
    "collapsed": false,
    "internals": {
     "frag_helper": "fragment_end",
     "frag_number": 13,
     "slide_helper": "subslide_end",
     "slide_type": "subslide"
    },
    "slide_helper": "subslide_end",
    "slideshow": {
     "slide_type": "subslide"
    }
   },
   "outputs": [
    {
     "data": {
      "text/html": [
       "<div style=\"max-height:1000px;max-width:1500px;overflow:auto;\">\n",
       "<table border=\"1\" class=\"dataframe\">\n",
       "  <thead>\n",
       "    <tr style=\"text-align: right;\">\n",
       "      <th></th>\n",
       "      <th>ATCC25404_wt_24hr_biofilm</th>\n",
       "      <th>ATCC25404_wt_R1drd19_24hr_biofilm</th>\n",
       "      <th>B178_mutant_Hsp60</th>\n",
       "      <th>B178_wt_Hsp60</th>\n",
       "      <th>BW25113_30C_biofilm</th>\n",
       "      <th>BW25113_R1drd19_15hr_biofilm</th>\n",
       "      <th>BW25113_R1drd19_24hr_biofilm</th>\n",
       "      <th>BW25113_uninduced_t0</th>\n",
       "      <th>BW25113_uninduced_t120</th>\n",
       "      <th>BW25113_uninduced_t180</th>\n",
       "      <th>...</th>\n",
       "      <th>suspension_7hr</th>\n",
       "      <th>tannin_1_pct</th>\n",
       "      <th>umuD_U_N0025</th>\n",
       "      <th>uspA_U_N0075</th>\n",
       "      <th>uvrA_U_N0025</th>\n",
       "      <th>wt_rpoS_exp</th>\n",
       "      <th>wt_rpoS_stat</th>\n",
       "      <th>yebF_U_N0075</th>\n",
       "      <th>yoeB_U_N0075</th>\n",
       "      <th>zipA_U_N0075</th>\n",
       "    </tr>\n",
       "  </thead>\n",
       "  <tbody>\n",
       "    <tr>\n",
       "      <th>b3313</th>\n",
       "      <td>-3.334106</td>\n",
       "      <td>-3.408359</td>\n",
       "      <td>-0.450594</td>\n",
       "      <td>-1.392963</td>\n",
       "      <td>-0.656695</td>\n",
       "      <td>-2.399590</td>\n",
       "      <td>-2.875495</td>\n",
       "      <td> 0.347473</td>\n",
       "      <td>-0.520087</td>\n",
       "      <td>-0.877234</td>\n",
       "      <td>...</td>\n",
       "      <td>-0.228388</td>\n",
       "      <td>-0.721349</td>\n",
       "      <td> 0.790535</td>\n",
       "      <td> 0.613707</td>\n",
       "      <td> 0.725325</td>\n",
       "      <td> 0.795929</td>\n",
       "      <td>-1.488160</td>\n",
       "      <td> 0.671539</td>\n",
       "      <td> 0.751584</td>\n",
       "      <td> 0.594192</td>\n",
       "    </tr>\n",
       "    <tr>\n",
       "      <th>b3314</th>\n",
       "      <td>-3.402193</td>\n",
       "      <td>-3.455090</td>\n",
       "      <td>-0.338512</td>\n",
       "      <td>-1.167017</td>\n",
       "      <td>-0.333845</td>\n",
       "      <td>-2.605842</td>\n",
       "      <td>-3.230387</td>\n",
       "      <td> 0.529183</td>\n",
       "      <td>-0.354070</td>\n",
       "      <td>-0.678271</td>\n",
       "      <td>...</td>\n",
       "      <td>-0.203750</td>\n",
       "      <td>-0.846002</td>\n",
       "      <td> 0.649499</td>\n",
       "      <td> 0.635275</td>\n",
       "      <td> 0.649425</td>\n",
       "      <td> 0.776853</td>\n",
       "      <td>-1.627684</td>\n",
       "      <td> 0.655426</td>\n",
       "      <td> 0.748700</td>\n",
       "      <td> 0.624014</td>\n",
       "    </tr>\n",
       "    <tr>\n",
       "      <th>b3315</th>\n",
       "      <td>-3.257544</td>\n",
       "      <td>-3.450675</td>\n",
       "      <td>-0.333333</td>\n",
       "      <td>-1.328032</td>\n",
       "      <td>-0.290964</td>\n",
       "      <td>-2.304091</td>\n",
       "      <td>-2.892766</td>\n",
       "      <td> 0.416734</td>\n",
       "      <td>-0.510594</td>\n",
       "      <td>-0.807626</td>\n",
       "      <td>...</td>\n",
       "      <td>-0.124557</td>\n",
       "      <td>-0.533800</td>\n",
       "      <td> 0.412766</td>\n",
       "      <td> 0.669900</td>\n",
       "      <td> 0.451841</td>\n",
       "      <td> 0.853524</td>\n",
       "      <td>-1.762801</td>\n",
       "      <td> 0.571238</td>\n",
       "      <td> 0.872313</td>\n",
       "      <td> 0.539798</td>\n",
       "    </tr>\n",
       "    <tr>\n",
       "      <th>b3316</th>\n",
       "      <td>-3.388749</td>\n",
       "      <td>-3.505219</td>\n",
       "      <td>-0.326330</td>\n",
       "      <td>-1.356453</td>\n",
       "      <td>-0.289818</td>\n",
       "      <td>-2.275200</td>\n",
       "      <td>-2.984073</td>\n",
       "      <td> 0.305980</td>\n",
       "      <td>-0.547172</td>\n",
       "      <td>-0.837500</td>\n",
       "      <td>...</td>\n",
       "      <td>-0.073859</td>\n",
       "      <td>-0.526581</td>\n",
       "      <td> 0.477078</td>\n",
       "      <td> 0.613078</td>\n",
       "      <td> 0.484720</td>\n",
       "      <td> 0.911119</td>\n",
       "      <td>-1.507525</td>\n",
       "      <td> 0.553003</td>\n",
       "      <td> 0.757783</td>\n",
       "      <td> 0.498447</td>\n",
       "    </tr>\n",
       "    <tr>\n",
       "      <th>b3317</th>\n",
       "      <td>-3.598526</td>\n",
       "      <td>-3.886013</td>\n",
       "      <td>-0.328799</td>\n",
       "      <td>-1.290803</td>\n",
       "      <td>-0.214932</td>\n",
       "      <td>-2.744619</td>\n",
       "      <td>-3.443939</td>\n",
       "      <td> 0.326817</td>\n",
       "      <td>-0.322897</td>\n",
       "      <td>-0.611246</td>\n",
       "      <td>...</td>\n",
       "      <td>-0.020289</td>\n",
       "      <td>-0.911665</td>\n",
       "      <td> 0.571463</td>\n",
       "      <td> 0.634531</td>\n",
       "      <td> 0.551170</td>\n",
       "      <td> 0.806692</td>\n",
       "      <td>-0.989522</td>\n",
       "      <td> 0.603097</td>\n",
       "      <td> 0.690106</td>\n",
       "      <td> 0.509921</td>\n",
       "    </tr>\n",
       "  </tbody>\n",
       "</table>\n",
       "<p>5 rows × 418 columns</p>\n",
       "</div>"
      ],
      "text/plain": [
       "       ATCC25404_wt_24hr_biofilm  ATCC25404_wt_R1drd19_24hr_biofilm  \\\n",
       "b3313                  -3.334106                          -3.408359   \n",
       "b3314                  -3.402193                          -3.455090   \n",
       "b3315                  -3.257544                          -3.450675   \n",
       "b3316                  -3.388749                          -3.505219   \n",
       "b3317                  -3.598526                          -3.886013   \n",
       "\n",
       "       B178_mutant_Hsp60  B178_wt_Hsp60  BW25113_30C_biofilm  \\\n",
       "b3313          -0.450594      -1.392963            -0.656695   \n",
       "b3314          -0.338512      -1.167017            -0.333845   \n",
       "b3315          -0.333333      -1.328032            -0.290964   \n",
       "b3316          -0.326330      -1.356453            -0.289818   \n",
       "b3317          -0.328799      -1.290803            -0.214932   \n",
       "\n",
       "       BW25113_R1drd19_15hr_biofilm  BW25113_R1drd19_24hr_biofilm  \\\n",
       "b3313                     -2.399590                     -2.875495   \n",
       "b3314                     -2.605842                     -3.230387   \n",
       "b3315                     -2.304091                     -2.892766   \n",
       "b3316                     -2.275200                     -2.984073   \n",
       "b3317                     -2.744619                     -3.443939   \n",
       "\n",
       "       BW25113_uninduced_t0  BW25113_uninduced_t120  BW25113_uninduced_t180  \\\n",
       "b3313              0.347473               -0.520087               -0.877234   \n",
       "b3314              0.529183               -0.354070               -0.678271   \n",
       "b3315              0.416734               -0.510594               -0.807626   \n",
       "b3316              0.305980               -0.547172               -0.837500   \n",
       "b3317              0.326817               -0.322897               -0.611246   \n",
       "\n",
       "           ...       suspension_7hr  tannin_1_pct  umuD_U_N0025  uspA_U_N0075  \\\n",
       "b3313      ...            -0.228388     -0.721349      0.790535      0.613707   \n",
       "b3314      ...            -0.203750     -0.846002      0.649499      0.635275   \n",
       "b3315      ...            -0.124557     -0.533800      0.412766      0.669900   \n",
       "b3316      ...            -0.073859     -0.526581      0.477078      0.613078   \n",
       "b3317      ...            -0.020289     -0.911665      0.571463      0.634531   \n",
       "\n",
       "       uvrA_U_N0025  wt_rpoS_exp  wt_rpoS_stat  yebF_U_N0075  yoeB_U_N0075  \\\n",
       "b3313      0.725325     0.795929     -1.488160      0.671539      0.751584   \n",
       "b3314      0.649425     0.776853     -1.627684      0.655426      0.748700   \n",
       "b3315      0.451841     0.853524     -1.762801      0.571238      0.872313   \n",
       "b3316      0.484720     0.911119     -1.507525      0.553003      0.757783   \n",
       "b3317      0.551170     0.806692     -0.989522      0.603097      0.690106   \n",
       "\n",
       "       zipA_U_N0075  \n",
       "b3313      0.594192  \n",
       "b3314      0.624014  \n",
       "b3315      0.539798  \n",
       "b3316      0.498447  \n",
       "b3317      0.509921  \n",
       "\n",
       "[5 rows x 418 columns]"
      ]
     },
     "execution_count": 52,
     "metadata": {},
     "output_type": "execute_result"
    }
   ],
   "source": [
    "gene_expression = expressionFinder( rows=corem_genes, cols=corem_conditions, host=host, db=db )\n",
    "\n",
    "# preview the first 5 rows\n",
    "gene_expression.head()"
   ]
  },
  {
   "cell_type": "markdown",
   "metadata": {
    "slideshow": {
     "slide_type": "subslide"
    }
   },
   "source": [
    "<div align=\"center\" vertical-align=\"middle\">\n",
    "    <img src=\"./docs/iconmonstr-bar-chart-2-icon_text.png\" height = \"300\" width = \"300\" style=\"display:inline\">\n",
    "</div>"
   ]
  },
  {
   "cell_type": "markdown",
   "metadata": {
    "collapsed": true,
    "slideshow": {
     "slide_type": "subslide"
    }
   },
   "source": [
    "## `plotExpression()`"
   ]
  },
  {
   "cell_type": "code",
   "execution_count": 53,
   "metadata": {
    "collapsed": true,
    "slideshow": {
     "slide_type": "fragment"
    }
   },
   "outputs": [],
   "source": [
    "? plotExpression"
   ]
  },
  {
   "cell_type": "code",
   "execution_count": 57,
   "metadata": {
    "collapsed": false,
    "internals": {
     "frag_helper": "fragment_end",
     "frag_number": 13,
     "slide_helper": "subslide_end",
     "slide_type": "subslide"
    },
    "slide_helper": "slide_end",
    "slideshow": {
     "slide_type": "subslide"
    }
   },
   "outputs": [
    {
     "data": {
      "text/html": [
       "<iframe id=\"igraph\" scrolling=\"no\" style=\"border:none;\"seamless=\"seamless\" src=\"https://plot.ly/~scalefreegan/241.embed\" height=\"525\" width=\"100%\"></iframe>"
      ],
      "text/plain": [
       "<plotly.tools.PlotlyDisplay object>"
      ]
     },
     "execution_count": 57,
     "metadata": {},
     "output_type": "execute_result"
    }
   ],
   "source": [
    "plot = plotExpression( gene_expression, plot_type = \"line\", ipynb = True, sort = True )\n",
    "py.iplot( plot )"
   ]
  },
  {
   "cell_type": "markdown",
   "metadata": {
    "slideshow": {
     "slide_type": "subslide"
    }
   },
   "source": [
    "# Let's put it all together"
   ]
  },
  {
   "cell_type": "code",
   "execution_count": 62,
   "metadata": {
    "collapsed": false,
    "internals": {
     "frag_helper": "fragment_end",
     "frag_number": 13,
     "slide_helper": "subslide_end",
     "slide_type": "subslide"
    },
    "slide_helper": "slide_end",
    "slideshow": {
     "slide_type": "subslide"
    }
   },
   "outputs": [],
   "source": [
    "from query.egrin2_query import *\n",
    "from query.egrin2_plot import *\n",
    "\n",
    "host = \"primordial\"\n",
    "db = \"mtu_db\"\n",
    "\n",
    "corem = 125\n",
    "# find genes\n",
    "genes =  coremFinder(x = corem,x_type = \"corem_id\", y_type=\"rows\",host=host,db=db)\n",
    "# find conditions\n",
    "conditions =  coremFinder(x = corem,x_type = \"corem_id\", y_type=\"conds\",host=host,db=db)\n",
    "# get expression\n",
    "gene_expression = expressionFinder(rows=genes,cols=conditions,host=host,db=db)"
   ]
  },
  {
   "cell_type": "code",
   "execution_count": 63,
   "metadata": {
    "collapsed": false
   },
   "outputs": [
    {
     "data": {
      "text/html": [
       "<iframe id=\"igraph\" scrolling=\"no\" style=\"border:none;\"seamless=\"seamless\" src=\"https://plot.ly/~scalefreegan/243.embed\" height=\"525\" width=\"100%\"></iframe>"
      ],
      "text/plain": [
       "<plotly.tools.PlotlyDisplay object>"
      ]
     },
     "execution_count": 63,
     "metadata": {},
     "output_type": "execute_result"
    }
   ],
   "source": [
    "# plot\n",
    "plot = plotExpression( gene_expression, plot_type = \"line\", ipynb = True, sort = False )\n",
    "py.iplot( plot )"
   ]
  },
  {
   "cell_type": "markdown",
   "metadata": {
    "slideshow": {
     "slide_type": "subslide"
    }
   },
   "source": [
    "<h2> An iPython notebook can be <a href=\"http://nbviewer.ipython.org/github/scalefreegan/egrin2-tools/blob/master/doc/query_docs/plot_expression_tutorial_blank.ipynb\">downloaded!!</a> </h2>"
   ]
  },
  {
   "cell_type": "code",
   "execution_count": 61,
   "metadata": {
    "collapsed": false,
    "internals": {
     "frag_helper": "fragment_end",
     "frag_number": 13,
     "slide_helper": "subslide_end",
     "slide_type": "subslide"
    },
    "slide_helper": "slide_end",
    "slideshow": {
     "slide_type": "subslide"
    }
   },
   "outputs": [
    {
     "data": {
      "text/html": [
       "<iframe height=\"600px\" width=\"1000px\" src=\"http://nbviewer.ipython.org/github/scalefreegan/egrin2-tools/blob/master/doc/index.ipynb\"</iframe>"
      ],
      "text/plain": [
       "<IPython.core.display.HTML object>"
      ]
     },
     "execution_count": 61,
     "metadata": {},
     "output_type": "execute_result"
    }
   ],
   "source": [
    "HTML('<iframe height=\"600px\" width=\"1000px\" src=\"http://nbviewer.ipython.org/github/scalefreegan/egrin2-tools/blob/master/doc/index.ipynb\"</iframe>')"
   ]
  },
  {
   "cell_type": "markdown",
   "metadata": {
    "slideshow": {
     "slide_type": "subslide"
    }
   },
   "source": [
    "<div align=\"center\" vertical-align=\"middle\">\n",
    "    <img src=\"./docs/iconmonstr-help-6-icon-256.png\" height = \"25%\" width = \"25%\" style=\"display:inline\">\n",
    "</div>"
   ]
  },
  {
   "cell_type": "markdown",
   "metadata": {
    "slideshow": {
     "slide_type": "slide"
    }
   },
   "source": [
    "# The FUTURE"
   ]
  },
  {
   "cell_type": "markdown",
   "metadata": {
    "slideshow": {
     "slide_type": "fragment"
    }
   },
   "source": [
    "### My vision for the future of the EGRIN \"*ecosystem*\""
   ]
  },
  {
   "cell_type": "markdown",
   "metadata": {
    "slideshow": {
     "slide_type": "subslide"
    }
   },
   "source": [
    "### GGBweb: Gaggle Genome Browser for the Web"
   ]
  },
  {
   "cell_type": "markdown",
   "metadata": {
    "internals": {
     "frag_helper": "fragment_end",
     "frag_number": 13,
     "slide_helper": "subslide_end",
     "slide_type": "subslide"
    },
    "slide_helper": "slide_end",
    "slideshow": {
     "slide_type": "fragment"
    }
   },
   "source": [
    "<div align=\"center\" vertical-align=\"middle\">\n",
    "    <img src=\"./docs/ggbweb_new.png\" height = \"100%\" width = \"100%\" style=\"display:inline\">\n",
    "</div>"
   ]
  },
  {
   "cell_type": "markdown",
   "metadata": {
    "slideshow": {
     "slide_type": "slide"
    }
   },
   "source": [
    "##Thank you all!\n",
    "\n",
    "- Antoine Allard\n",
    "- Justin Ashworth\n",
    "- Karlyn Beer\n",
    "- Adrian Garcia Lopez de Lomana\n",
    "- Saheed Imam\n",
    "- Ning Jiang\n",
    "- Amardeep Kaur\n",
    "- Chris Lausted\n",
    "- Fang Yin Lo\n",
    "- Claudia Ludwig\n",
    "- Diego Martinez Salvanha\n",
    "- Min Pan\n",
    "- Eliza Peterson\n",
    "- Chris Plaisier\n",
    "- David Reiss\n",
    "- Serdar Turkarslan\n",
    "- Wei-ju Wu\n",
    "\n",
    "- Nitin Baliga\n",
    "\n"
   ]
  },
  {
   "cell_type": "markdown",
   "metadata": {
    "slideshow": {
     "slide_type": "slide"
    }
   },
   "source": [
    "#Auf Wiedersehen!"
   ]
  },
  {
   "cell_type": "markdown",
   "metadata": {
    "slideshow": {
     "slide_type": "fragment"
    }
   },
   "source": [
    "###*Teal and I are moving to Heidelberg in April*"
   ]
  },
  {
   "cell_type": "markdown",
   "metadata": {
    "collapsed": true,
    "slideshow": {
     "slide_type": "subslide"
    }
   },
   "source": [
    "##Where is Heidelberg?"
   ]
  },
  {
   "cell_type": "code",
   "execution_count": 64,
   "metadata": {
    "collapsed": false,
    "internals": {
     "frag_helper": "fragment_end",
     "frag_number": 13,
     "slide_helper": "subslide_end",
     "slide_type": "subslide"
    },
    "slide_helper": "subslide_end",
    "slideshow": {
     "slide_type": "fragment"
    }
   },
   "outputs": [
    {
     "data": {
      "text/html": [
       "<iframe src=\"https://www.google.com/maps/embed?pb=!1m18!1m12!1m3!1d2581670.4146216605!2d9.007024184179672!3d50.8096276135968!2m3!1f0!2f0!3f0!3m2!1i1024!2i768!4f13.1!3m3!1m2!1s0x4797c1050eccdccd%3A0xefe6ea0044243ad7!2sHeidelberg%2C+Germany!5e0!3m2!1sen!2sus!4v1424921444369\" width=\"800\" height=\"650\" frameborder=\"0\" style=\"border:0\"></iframe>"
      ],
      "text/plain": [
       "<IPython.core.display.HTML object>"
      ]
     },
     "execution_count": 64,
     "metadata": {},
     "output_type": "execute_result"
    }
   ],
   "source": [
    "HTML('<iframe src=\"https://www.google.com/maps/embed?pb=!1m18!1m12!1m3!1d2581670.4146216605!2d9.007024184179672!3d50.8096276135968!2m3!1f0!2f0!3f0!3m2!1i1024!2i768!4f13.1!3m3!1m2!1s0x4797c1050eccdccd%3A0xefe6ea0044243ad7!2sHeidelberg%2C+Germany!5e0!3m2!1sen!2sus!4v1424921444369\" width=\"800\" height=\"650\" frameborder=\"0\" style=\"border:0\"></iframe>')"
   ]
  },
  {
   "cell_type": "code",
   "execution_count": 65,
   "metadata": {
    "collapsed": false,
    "internals": {
     "frag_helper": "fragment_end",
     "frag_number": 13,
     "slide_type": "subslide"
    },
    "slideshow": {
     "slide_type": "subslide"
    }
   },
   "outputs": [
    {
     "data": {
      "text/html": [
       "<iframe width=\"840\" height=\"575\" src=\"https://www.youtube.com/embed/D_6p6IeBYSA\" frameborder=\"0\" allowfullscreen></iframe>"
      ],
      "text/plain": [
       "<IPython.core.display.HTML object>"
      ]
     },
     "execution_count": 65,
     "metadata": {},
     "output_type": "execute_result"
    }
   ],
   "source": [
    "HTML('<iframe width=\"840\" height=\"575\" src=\"https://www.youtube.com/embed/D_6p6IeBYSA\" frameborder=\"0\" allowfullscreen></iframe>')"
   ]
  }
 ],
 "metadata": {
  "kernelspec": {
   "display_name": "Python 2",
   "language": "python",
   "name": "python2"
  },
  "language_info": {
   "codemirror_mode": {
    "name": "ipython",
    "version": 2
   },
   "file_extension": ".py",
   "mimetype": "text/x-python",
   "name": "python",
   "nbconvert_exporter": "python",
   "pygments_lexer": "ipython2",
   "version": "2.7.6"
  }
 },
 "nbformat": 4,
 "nbformat_minor": 0
}
