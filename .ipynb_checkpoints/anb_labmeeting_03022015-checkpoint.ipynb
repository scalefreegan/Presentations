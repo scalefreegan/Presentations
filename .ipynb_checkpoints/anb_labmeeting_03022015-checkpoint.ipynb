{
 "cells": [
  {
   "cell_type": "markdown",
   "metadata": {
    "internals": {
     "frag_helper": "fragment_end",
     "frag_number": 2,
     "slide_type": "subslide"
    },
    "slideshow": {
     "slide_type": "slide"
    }
   },
   "source": [
    "# <div align=\"center\" vertical-align=\"middle\">      <img src=\"./docs/header-photo.jpg\" height = \"100%\" width = \"100%\" style=\"display:inline\">     <br>     <br> </div> EGRIN *2.0*"
   ]
  },
  {
   "cell_type": "markdown",
   "metadata": {
    "internals": {
     "frag_helper": "fragment_end",
     "frag_number": 1
    },
    "slideshow": {
     "slide_type": "fragment"
    }
   },
   "source": [
    "## Past, Present, and Future"
   ]
  },
  {
   "cell_type": "markdown",
   "metadata": {
    "internals": {
     "frag_helper": "fragment_end",
     "frag_number": 2,
     "slide_helper": "subslide_end"
    },
    "slide_helper": "slide_end",
    "slideshow": {
     "slide_type": "fragment"
    }
   },
   "source": [
    "### *MongoDB, iPython, GGBweb/ChromeGoose*"
   ]
  },
  {
   "cell_type": "markdown",
   "metadata": {
    "internals": {
     "frag_helper": "fragment_end",
     "frag_number": 2,
     "slide_helper": "subslide_end",
     "slide_type": "subslide"
    },
    "slide_helper": "subslide_end",
    "slideshow": {
     "slide_type": "slide"
    }
   },
   "source": [
    "# What is EGRIN *2.0* ?"
   ]
  },
  {
   "cell_type": "markdown",
   "metadata": {
    "internals": {
     "frag_helper": "fragment_end",
     "frag_number": 2,
     "slide_helper": "subslide_end",
     "slide_type": "subslide"
    },
    "slide_helper": "slide_end",
    "slideshow": {
     "slide_type": "subslide"
    }
   },
   "source": [
    "<div align=\"center\" vertical-align=\"middle\">\n",
    "\n",
    "        <img src=\"./docs/egrin2_fig1-03.png\" height = \"100%\" width = \"100%\" style=\"display:inline\">\n",
    "        \n",
    "</div>"
   ]
  },
  {
   "cell_type": "markdown",
   "metadata": {
    "internals": {
     "frag_helper": "fragment_end",
     "frag_number": 2,
     "slide_type": "subslide"
    },
    "slideshow": {
     "slide_type": "slide"
    }
   },
   "source": [
    "# EGRIN *2.0* ( Web *1.0* )"
   ]
  },
  {
   "cell_type": "markdown",
   "metadata": {
    "internals": {
     "frag_helper": "fragment_end",
     "frag_number": 6,
     "slide_helper": "subslide_end"
    },
    "slide_helper": "slide_end",
    "slideshow": {
     "slide_type": "fragment"
    }
   },
   "source": [
    "The first EGRIN 2.0 website is a Django/Javascript powered webapp with a PostgreSQL backend\n"
   ]
  },
  {
   "cell_type": "code",
   "execution_count": null,
   "metadata": {
    "collapsed": false,
    "internals": {
     "frag_helper": "fragment_end",
     "frag_number": 6,
     "slide_helper": "subslide_end",
     "slide_type": "subslide"
    },
    "slide_helper": "subslide_end",
    "slideshow": {
     "slide_type": "slide"
    }
   },
   "outputs": [],
   "source": [
    "from IPython.display import HTML\n",
    "HTML('<iframe height=\"600px\" width=\"1000px\" src=\"http://egrin2.systemsbiology.net/\"</iframe>')"
   ]
  },
  {
   "cell_type": "markdown",
   "metadata": {
    "internals": {
     "frag_helper": "fragment_end",
     "frag_number": 6,
     "slide_helper": "subslide_end",
     "slide_type": "subslide"
    },
    "slide_helper": "subslide_end",
    "slideshow": {
     "slide_type": "subslide"
    }
   },
   "source": [
    "- *Advantages*: templating (fast dev), well-structured for EGRIN 2.0 datatypes, fast queries, extensible"
   ]
  },
  {
   "cell_type": "markdown",
   "metadata": {
    "internals": {
     "frag_helper": "fragment_end",
     "frag_number": 6,
     "slide_helper": "subslide_end",
     "slide_type": "subslide"
    },
    "slide_helper": "slide_end",
    "slideshow": {
     "slide_type": "subslide"
    }
   },
   "source": [
    "- *Disadvantages*: db backend is HUGE! (not scalable), content is **static** (it is BORING!!!)"
   ]
  },
  {
   "cell_type": "markdown",
   "metadata": {
    "slideshow": {
     "slide_type": "subslide"
    }
   },
   "source": [
    "## The first EGRIN 2.0 website is a failure"
   ]
  },
  {
   "cell_type": "markdown",
   "metadata": {
    "slideshow": {
     "slide_type": "fragment"
    }
   },
   "source": [
    "- It took a long time to develop (months)"
   ]
  },
  {
   "cell_type": "markdown",
   "metadata": {
    "slideshow": {
     "slide_type": "fragment"
    }
   },
   "source": [
    "- Not a single reviewer for the paper visited the site"
   ]
  },
  {
   "cell_type": "markdown",
   "metadata": {
    "slideshow": {
     "slide_type": "fragment"
    }
   },
   "source": [
    "- Few people use the site currently"
   ]
  },
  {
   "cell_type": "markdown",
   "metadata": {
    "slideshow": {
     "slide_type": "subslide"
    }
   },
   "source": [
    "<div align=\"center\" vertical-align=\"middle\">\n",
    "        Jan 27-Feb 26 <br><br>\n",
    "        <img src=\"./docs/egrin2_countries.png\" height = \"100%\" width = \"100%\" style=\"display:inline\">\n",
    "        \n",
    "</div>"
   ]
  },
  {
   "cell_type": "markdown",
   "metadata": {
    "slideshow": {
     "slide_type": "subslide"
    }
   },
   "source": [
    "<div align=\"center\" vertical-align=\"middle\">\n",
    "        Jan 27-Feb 26 <br><br>\n",
    "        <img src=\"./docs/egrin2_us.png\" height = \"100%\" width = \"100%\" style=\"display:inline\">\n",
    "        \n",
    "</div>"
   ]
  },
  {
   "cell_type": "markdown",
   "metadata": {
    "slideshow": {
     "slide_type": "subslide"
    }
   },
   "source": [
    "# <div align=\"center\" vertical-align=\"middle\">          *We should learn from this...*          </div>"
   ]
  },
  {
   "cell_type": "markdown",
   "metadata": {
    "internals": {
     "frag_helper": "fragment_end",
     "frag_number": 6,
     "slide_type": "subslide"
    },
    "slideshow": {
     "slide_type": "slide"
    }
   },
   "source": [
    "## EGRIN *2.0* ( Web *2.0* )"
   ]
  },
  {
   "cell_type": "markdown",
   "metadata": {
    "internals": {
     "frag_helper": "fragment_end",
     "frag_number": 11
    },
    "slideshow": {
     "slide_type": "fragment"
    }
   },
   "source": [
    "The second generation EGRIN 2.0 website is an iPython powered notebook with a MongoDB backend \n"
   ]
  },
  {
   "cell_type": "markdown",
   "metadata": {
    "internals": {
     "frag_helper": "fragment_end",
     "frag_number": 12
    },
    "slideshow": {
     "slide_type": "fragment"
    }
   },
   "source": [
    "<div align=\"center\" vertical-align=\"middle\">\n",
    "\n",
    "        <img src=\"./docs/iconmonstr-puzzle-icon-text.png\" height = \"300\" width = \"300\" style=\"display:inline\">\n",
    "\n",
    "        <img src=\"./docs/iconmonstr-puzzle-17-icon-text.png\" height = \"300\" width = \"300\" style=\"display:inline\">\n",
    "\n",
    "        <img src=\"./docs/iconmonstr-flask-3-icon-text.png\" height = \"300\" width = \"300\" style=\"display:inline\">\n",
    "</div>"
   ]
  },
  {
   "cell_type": "markdown",
   "metadata": {
    "internals": {
     "frag_helper": "fragment_end",
     "frag_number": 13,
     "slide_helper": "subslide_end"
    },
    "slide_helper": "subslide_end",
    "slideshow": {
     "slide_type": "fragment"
    }
   },
   "source": [
    "<div align=\"center\" vertical-align=\"middle\">\n",
    "<h3>Notice: *I'm blurring the distinction between constructing an ensemble and using it.*</h3>\n",
    "</div>"
   ]
  },
  {
   "cell_type": "code",
   "execution_count": null,
   "metadata": {
    "collapsed": false,
    "internals": {
     "frag_helper": "fragment_end",
     "frag_number": 13,
     "slide_helper": "subslide_end",
     "slide_type": "subslide"
    },
    "slide_helper": "slide_end",
    "slideshow": {
     "slide_type": "subslide"
    }
   },
   "outputs": [],
   "source": [
    "HTML('<iframe width=\"840\" height=\"375\" src=\"https://www.youtube.com/embed/b2F-DItXtZs\" frameborder=\"0\" allowfullscreen></iframe>')"
   ]
  },
  {
   "cell_type": "markdown",
   "metadata": {
    "internals": {
     "frag_helper": "fragment_end",
     "frag_number": 13,
     "slide_helper": "subslide_end",
     "slide_type": "subslide"
    },
    "slide_helper": "subslide_end",
    "slideshow": {
     "slide_type": "subslide"
    }
   },
   "source": [
    "- *Advantages*: templating with iPython notebooks (fast dev), well-structured for EGRIN 2.0 datatypes (flexible schema), incredibly fast queries, centralized, extensible, content is <u>**dynamic**</u>, quickly becoming a <a href = \"http://nbviewer.ipython.org/github/idekerlab/cy-rest-python/blob/develop/cytoscape-js/CytoscapeJsDemo.ipynb\">standard for data analysis in systems biology.</a>"
   ]
  },
  {
   "cell_type": "markdown",
   "metadata": {
    "internals": {
     "frag_helper": "fragment_end",
     "frag_number": 13,
     "slide_helper": "subslide_end",
     "slide_type": "subslide"
    },
    "slide_helper": "subslide_end",
    "slideshow": {
     "slide_type": "subslide"
    }
   },
   "source": [
    "- *Disadvantages*: something new to learn, requires some investment from user"
   ]
  },
  {
   "cell_type": "markdown",
   "metadata": {
    "internals": {
     "frag_helper": "fragment_end",
     "frag_number": 13,
     "slide_helper": "subslide_end",
     "slide_type": "subslide"
    },
    "slide_helper": "slide_end",
    "slideshow": {
     "slide_type": "slide"
    }
   },
   "source": [
    "<div align=\"center\" vertical-align=\"middle\">\n",
    "    <img src=\"./docs/iconmonstr-puzzle-icon-text.png\" height = \"400\" width = \"400\" style=\"display:inline\">\n",
    "    <br>\n",
    "    <h2>*Tools to build EGRIN 2.0: configure cMonkey2*</h2>\n",
    "</div>"
   ]
  },
  {
   "cell_type": "markdown",
   "metadata": {
    "slideshow": {
     "slide_type": "subslide"
    }
   },
   "source": [
    "`python cMonkeyQSub.py`\n",
    "<br> \n",
    "`--organism` *org*\n",
    "<br>\n",
    "`--ratios` *myRatiosFile.tgz* \n",
    "<br>\n",
    "`--targetdir` */path/to/myOutputDir*\n",
    "<br>\n",
    "`--numruns` *123* \n",
    "<br>\n",
    "`--blocks` *blocks.csv*\n",
    "<br>\n",
    "`--inclusion` *inclusion.blocks.csv* \n",
    "<br>\n",
    "`--exclusion` *exclusion.blocks.csv* \n",
    "<br>\n",
    "`--pipeline` *setenrich_pipeline.json* \n",
    "<br>\n",
    "`--setenrich` *chipseq,tfoe* \n",
    "<br>\n",
    "`--setenrich_files` *ChIPSeq.csv,DE.csv* \n",
    "<br>\n",
    "`--csh`\n"
   ]
  },
  {
   "cell_type": "code",
   "execution_count": null,
   "metadata": {
    "collapsed": false,
    "scrolled": true,
    "slideshow": {
     "slide_type": "subslide"
    }
   },
   "outputs": [],
   "source": [
    "%run ../egrin2-tools/build/cMonkeyQSub.py -h"
   ]
  },
  {
   "cell_type": "markdown",
   "metadata": {
    "slideshow": {
     "slide_type": "fragment"
    }
   },
   "source": [
    "#### `BUILD` scripts include/exclude experiments probabilistically based on the supplied configuration"
   ]
  },
  {
   "cell_type": "markdown",
   "metadata": {
    "slideshow": {
     "slide_type": "subslide"
    }
   },
   "source": [
    "<div align=\"center\" vertical-align=\"middle\">\n",
    "    <h3>Blocks.csv</h3>\n",
    "    <img src=\"./docs/blocks.png\" height = \"90%\" width = \"90%\" style=\"display:inline\">\n",
    "</div>"
   ]
  },
  {
   "cell_type": "markdown",
   "metadata": {
    "slideshow": {
     "slide_type": "subslide"
    }
   },
   "source": [
    "<div align=\"center\" vertical-align=\"middle\">\n",
    "    <h3>Inclusion_Blocks.csv</h3>\n",
    "    <img src=\"./docs/inclusion_blocks.png\" height = \"90%\" width = \"90%\" style=\"display:inline\">\n",
    "    \n",
    "</div>"
   ]
  },
  {
   "cell_type": "markdown",
   "metadata": {
    "slideshow": {
     "slide_type": "subslide"
    }
   },
   "source": [
    "<div align=\"center\" vertical-align=\"middle\">\n",
    "    <h3>Exclusion_Blocks.csv</h3>\n",
    "    <img src=\"./docs/exclusion_blocks.png\" height = \"90%\" width = \"90%\" style=\"display:inline\">\n",
    "</div>"
   ]
  },
  {
   "cell_type": "markdown",
   "metadata": {
    "slideshow": {
     "slide_type": "subslide"
    }
   },
   "source": [
    "### Build scripts automatically configure cMonkey and write all required files"
   ]
  },
  {
   "cell_type": "markdown",
   "metadata": {
    "slideshow": {
     "slide_type": "fragment"
    }
   },
   "source": [
    "#### *You simply run a single QSub script on the cluster*"
   ]
  },
  {
   "cell_type": "markdown",
   "metadata": {
    "slideshow": {
     "slide_type": "subslide"
    }
   },
   "source": [
    "<div align=\"center\" vertical-align=\"middle\">\n",
    "    <h3>Ensemble Reports: Run Config</h3>\n",
    "    <img src=\"./docs/ensembleReport_runs.png\" height = \"90%\" width = \"90%\" style=\"display:inline\">\n",
    "</div>"
   ]
  },
  {
   "cell_type": "markdown",
   "metadata": {
    "slideshow": {
     "slide_type": "subslide"
    }
   },
   "source": [
    "<div align=\"center\" vertical-align=\"middle\">\n",
    "    <h3>Ensemble Reports: Inclusion Blocks</h3>\n",
    "    <img src=\"./docs/ensembleReport_inclusion.png\" height = \"90%\" width = \"90%\" style=\"display:inline\">\n",
    "</div>"
   ]
  },
  {
   "cell_type": "markdown",
   "metadata": {
    "slideshow": {
     "slide_type": "subslide"
    }
   },
   "source": [
    "<div align=\"center\" vertical-align=\"middle\">\n",
    "    <img src=\"./docs/iconmonstr-help-6-icon-256.png\" height = \"25%\" width = \"25%\" style=\"display:inline\">\n",
    "</div>"
   ]
  },
  {
   "cell_type": "markdown",
   "metadata": {
    "internals": {
     "frag_helper": "fragment_end",
     "frag_number": 13,
     "slide_helper": "subslide_end",
     "slide_type": "subslide"
    },
    "slide_helper": "slide_end",
    "slideshow": {
     "slide_type": "slide"
    }
   },
   "source": [
    "<div align=\"center\" vertical-align=\"middle\">\n",
    "    <img src=\"./docs/iconmonstr-puzzle-17-icon-text.png\" height = \"400\" width = \"400\" style=\"display:inline\">\n",
    "    <br>\n",
    "    <h2>*Tools to assemble EGRIN 2.0: compile cMonkey2 runs*</h2>\n",
    "</div>"
   ]
  },
  {
   "cell_type": "markdown",
   "metadata": {
    "slideshow": {
     "slide_type": "subslide"
    }
   },
   "source": [
    "`python assembler.py`\n",
    "<br>\n",
    "`--organism` *org* \n",
    "<br>\n",
    "`--host` *localhost* \n",
    "<br>\n",
    "`--ratios` *myRatiosFile.tgz*\n",
    "<br>\n",
    "`--targetdir` */path/to/myOutputDir* \n",
    "<br>\n",
    "`--ncbi_code` *12345*\n",
    "<br>\n",
    "`--ensembledir` */path/to/ensemble/*\n",
    "<br>\n",
    "`--col_annot` *myExperimentalAnnotations.tgz* \n",
    "<br>\n",
    "`--n_resamples` *10000*"
   ]
  },
  {
   "cell_type": "code",
   "execution_count": null,
   "metadata": {
    "collapsed": false,
    "scrolled": true,
    "slideshow": {
     "slide_type": "subslide"
    }
   },
   "outputs": [],
   "source": [
    "%run ../egrin2-tools/assemble/assembler.py -h"
   ]
  },
  {
   "cell_type": "markdown",
   "metadata": {
    "slideshow": {
     "slide_type": "subslide"
    }
   },
   "source": [
    "<div align=\"center\" vertical-align=\"middle\">\n",
    "    <h3>Experimental Annotations</h3>\n",
    "    <img src=\"./docs/experiment_annotation.png\" height = \"90%\" width = \"90%\" style=\"display:inline\">\n",
    "</div>"
   ]
  },
  {
   "cell_type": "markdown",
   "metadata": {
    "slideshow": {
     "slide_type": "subslide"
    }
   },
   "source": [
    "###If all goes well, you will have a MongoDB database named:\n",
    "\n",
    "yourOrganism**_db**"
   ]
  },
  {
   "cell_type": "markdown",
   "metadata": {
    "slideshow": {
     "slide_type": "fragment"
    }
   },
   "source": [
    "The <a href=\"http://nbviewer.ipython.org/github/scalefreegan/egrin2-tools/blob/master/doc/assemble_docs/mongo_schema.ipynb\">database schema</a> is available on the wiki"
   ]
  },
  {
   "cell_type": "code",
   "execution_count": null,
   "metadata": {
    "collapsed": false,
    "scrolled": false,
    "slideshow": {
     "slide_type": "subslide"
    }
   },
   "outputs": [],
   "source": [
    "from pymongo import MongoClient\n",
    "host = \"primordial\"\n",
    "port = \"27017\"\n",
    "\n",
    "client = MongoClient( 'mongodb://' + host + ':' + str(port) + '/' ) \n",
    "\n",
    "db = \"eco_db\"\n",
    "\n",
    "client[db].collection_names()\n"
   ]
  },
  {
   "cell_type": "markdown",
   "metadata": {
    "slideshow": {
     "slide_type": "subslide"
    }
   },
   "source": [
    "<div align=\"center\" vertical-align=\"middle\">\n",
    "    <img src=\"./docs/iconmonstr-help-6-icon-256.png\" height = \"25%\" width = \"25%\" style=\"display:inline\">\n",
    "</div>"
   ]
  },
  {
   "cell_type": "markdown",
   "metadata": {
    "internals": {
     "frag_helper": "fragment_end",
     "frag_number": 13,
     "slide_helper": "subslide_end",
     "slide_type": "subslide"
    },
    "slide_helper": "subslide_end",
    "slideshow": {
     "slide_type": "slide"
    }
   },
   "source": [
    "<div align=\"center\" vertical-align=\"middle\">\n",
    "    <img src=\"./docs/iconmonstr-flask-3-icon-text.png\" height = \"400\" width = \"400\" style=\"display:inline\">\n",
    "    <br>\n",
    "    <h2>*Tools to query EGRIN 2.0: the money*</h2>\n",
    "</div>"
   ]
  },
  {
   "cell_type": "markdown",
   "metadata": {
    "slideshow": {
     "slide_type": "subslide"
    }
   },
   "source": [
    "<div align=\"center\" vertical-align=\"middle\">\n",
    "    <img src=\"./docs/mine_text.png\" height = \"300\" width = \"300\" style=\"display:inline\">\n",
    "    <img src=\"./docs/iconmonstr-bar-chart-2-icon_text.png\" height = \"300\" width = \"300\" style=\"display:inline\">\n",
    "</div>"
   ]
  },
  {
   "cell_type": "code",
   "execution_count": null,
   "metadata": {
    "collapsed": false,
    "internals": {
     "frag_helper": "fragment_end",
     "frag_number": 13,
     "slide_helper": "subslide_end",
     "slide_type": "subslide"
    },
    "slide_helper": "subslide_end",
    "slideshow": {
     "slide_type": "fragment"
    }
   },
   "outputs": [],
   "source": [
    "from query.egrin2_query import *\n",
    "from query.egrin2_plot import *"
   ]
  },
  {
   "cell_type": "markdown",
   "metadata": {
    "internals": {
     "frag_helper": "fragment_end",
     "frag_number": 13,
     "slide_helper": "subslide_end",
     "slide_type": "subslide"
    },
    "slide_helper": "subslide_end",
    "slideshow": {
     "slide_type": "subslide"
    }
   },
   "source": [
    "<div align=\"center\" vertical-align=\"middle\">\n",
    "\n",
    "        <img src=\"./docs/egrin2_fig1-03.png\" height = \"100%\" width = \"100%\" style=\"display:inline\">\n",
    "        \n",
    "</div>"
   ]
  },
  {
   "cell_type": "markdown",
   "metadata": {
    "collapsed": false,
    "slideshow": {
     "slide_type": "subslide"
    }
   },
   "source": [
    "# Basic EGRIN 2.0 queries"
   ]
  },
  {
   "cell_type": "markdown",
   "metadata": {
    "collapsed": true,
    "slideshow": {
     "slide_type": "fragment"
    }
   },
   "source": [
    "## `agglom()` "
   ]
  },
  {
   "cell_type": "code",
   "execution_count": null,
   "metadata": {
    "collapsed": true,
    "slideshow": {
     "slide_type": "fragment"
    }
   },
   "outputs": [],
   "source": [
    "? agglom"
   ]
  },
  {
   "cell_type": "code",
   "execution_count": null,
   "metadata": {
    "collapsed": false,
    "scrolled": true,
    "slideshow": {
     "slide_type": "subslide"
    }
   },
   "outputs": [],
   "source": [
    "host = \"primordial\"\n",
    "db = \"eco_db\"\n",
    "\n",
    "x = \"b0032\"\n",
    "x_type = \"gene\"\n",
    "y_type = \"gene\"\n",
    "\n",
    "agglom( x, x_type, y_type , host=host, db=db )"
   ]
  },
  {
   "cell_type": "code",
   "execution_count": 8,
   "metadata": {
    "collapsed": false,
    "scrolled": true,
    "slideshow": {
     "slide_type": "subslide"
    }
   },
   "outputs": [
    {
     "name": "stdout",
     "output_type": "stream",
     "text": [
      "Reverting to translation by single matches. Defining 'input_type' will dramatically speed up query.\n"
     ]
    },
    {
     "data": {
      "text/html": [
       "<div style=\"max-height:1000px;max-width:1500px;overflow:auto;\">\n",
       "<table border=\"1\" class=\"dataframe\">\n",
       "  <thead>\n",
       "    <tr style=\"text-align: right;\">\n",
       "      <th></th>\n",
       "      <th>counts</th>\n",
       "      <th>all_counts</th>\n",
       "      <th>pval</th>\n",
       "      <th>qval_BH</th>\n",
       "      <th>qval_bonferroni</th>\n",
       "    </tr>\n",
       "  </thead>\n",
       "  <tbody>\n",
       "    <tr>\n",
       "      <th>b0033</th>\n",
       "      <td> 198</td>\n",
       "      <td> 198</td>\n",
       "      <td>  0.000000e+00</td>\n",
       "      <td>  0.000000e+00</td>\n",
       "      <td>  0.000000e+00</td>\n",
       "    </tr>\n",
       "    <tr>\n",
       "      <th>b2476</th>\n",
       "      <td> 165</td>\n",
       "      <td> 198</td>\n",
       "      <td>  0.000000e+00</td>\n",
       "      <td>  0.000000e+00</td>\n",
       "      <td>  0.000000e+00</td>\n",
       "    </tr>\n",
       "    <tr>\n",
       "      <th>b2557</th>\n",
       "      <td> 166</td>\n",
       "      <td> 198</td>\n",
       "      <td>  0.000000e+00</td>\n",
       "      <td>  0.000000e+00</td>\n",
       "      <td>  0.000000e+00</td>\n",
       "    </tr>\n",
       "    <tr>\n",
       "      <th>b2313</th>\n",
       "      <td> 167</td>\n",
       "      <td> 198</td>\n",
       "      <td>  0.000000e+00</td>\n",
       "      <td>  0.000000e+00</td>\n",
       "      <td>  0.000000e+00</td>\n",
       "    </tr>\n",
       "    <tr>\n",
       "      <th>b0337</th>\n",
       "      <td> 171</td>\n",
       "      <td> 198</td>\n",
       "      <td>  0.000000e+00</td>\n",
       "      <td>  0.000000e+00</td>\n",
       "      <td>  0.000000e+00</td>\n",
       "    </tr>\n",
       "    <tr>\n",
       "      <th>b0336</th>\n",
       "      <td> 171</td>\n",
       "      <td> 198</td>\n",
       "      <td>  0.000000e+00</td>\n",
       "      <td>  0.000000e+00</td>\n",
       "      <td>  0.000000e+00</td>\n",
       "    </tr>\n",
       "    <tr>\n",
       "      <th>b2499</th>\n",
       "      <td> 166</td>\n",
       "      <td> 198</td>\n",
       "      <td>  0.000000e+00</td>\n",
       "      <td>  0.000000e+00</td>\n",
       "      <td>  0.000000e+00</td>\n",
       "    </tr>\n",
       "    <tr>\n",
       "      <th>b4244</th>\n",
       "      <td> 188</td>\n",
       "      <td> 198</td>\n",
       "      <td>  0.000000e+00</td>\n",
       "      <td>  0.000000e+00</td>\n",
       "      <td>  0.000000e+00</td>\n",
       "    </tr>\n",
       "    <tr>\n",
       "      <th>b4245</th>\n",
       "      <td> 198</td>\n",
       "      <td> 198</td>\n",
       "      <td>  0.000000e+00</td>\n",
       "      <td>  0.000000e+00</td>\n",
       "      <td>  0.000000e+00</td>\n",
       "    </tr>\n",
       "    <tr>\n",
       "      <th>b0032</th>\n",
       "      <td> 198</td>\n",
       "      <td> 198</td>\n",
       "      <td>  0.000000e+00</td>\n",
       "      <td>  0.000000e+00</td>\n",
       "      <td>  0.000000e+00</td>\n",
       "    </tr>\n",
       "    <tr>\n",
       "      <th>b4246</th>\n",
       "      <td> 198</td>\n",
       "      <td> 198</td>\n",
       "      <td>  0.000000e+00</td>\n",
       "      <td>  0.000000e+00</td>\n",
       "      <td>  0.000000e+00</td>\n",
       "    </tr>\n",
       "    <tr>\n",
       "      <th>b1062</th>\n",
       "      <td> 173</td>\n",
       "      <td> 198</td>\n",
       "      <td>  0.000000e+00</td>\n",
       "      <td>  0.000000e+00</td>\n",
       "      <td>  0.000000e+00</td>\n",
       "    </tr>\n",
       "    <tr>\n",
       "      <th>b4006</th>\n",
       "      <td> 163</td>\n",
       "      <td> 198</td>\n",
       "      <td> 2.967852e-320</td>\n",
       "      <td> 4.303386e-318</td>\n",
       "      <td> 5.594402e-317</td>\n",
       "    </tr>\n",
       "    <tr>\n",
       "      <th>b0522</th>\n",
       "      <td> 161</td>\n",
       "      <td> 198</td>\n",
       "      <td> 3.373812e-314</td>\n",
       "      <td> 4.542597e-312</td>\n",
       "      <td> 6.359635e-311</td>\n",
       "    </tr>\n",
       "    <tr>\n",
       "      <th>b2312</th>\n",
       "      <td> 159</td>\n",
       "      <td> 198</td>\n",
       "      <td> 3.260034e-308</td>\n",
       "      <td> 4.096776e-306</td>\n",
       "      <td> 6.145164e-305</td>\n",
       "    </tr>\n",
       "    <tr>\n",
       "      <th>b1849</th>\n",
       "      <td> 158</td>\n",
       "      <td> 198</td>\n",
       "      <td> 3.020733e-305</td>\n",
       "      <td> 3.558801e-303</td>\n",
       "      <td> 5.694081e-302</td>\n",
       "    </tr>\n",
       "    <tr>\n",
       "      <th>b0523</th>\n",
       "      <td> 156</td>\n",
       "      <td> 198</td>\n",
       "      <td> 2.312168e-299</td>\n",
       "      <td> 2.563787e-297</td>\n",
       "      <td> 4.358438e-296</td>\n",
       "    </tr>\n",
       "    <tr>\n",
       "      <th>b2500</th>\n",
       "      <td> 150</td>\n",
       "      <td> 198</td>\n",
       "      <td> 4.314536e-282</td>\n",
       "      <td> 4.518278e-280</td>\n",
       "      <td> 8.132901e-279</td>\n",
       "    </tr>\n",
       "    <tr>\n",
       "      <th>b3654</th>\n",
       "      <td> 149</td>\n",
       "      <td> 198</td>\n",
       "      <td> 2.885602e-279</td>\n",
       "      <td> 2.862821e-277</td>\n",
       "      <td> 5.439359e-276</td>\n",
       "    </tr>\n",
       "    <tr>\n",
       "      <th>b2497</th>\n",
       "      <td> 127</td>\n",
       "      <td> 198</td>\n",
       "      <td> 1.474513e-220</td>\n",
       "      <td> 1.323551e-218</td>\n",
       "      <td> 2.779458e-217</td>\n",
       "    </tr>\n",
       "    <tr>\n",
       "      <th>b4064</th>\n",
       "      <td> 127</td>\n",
       "      <td> 198</td>\n",
       "      <td> 1.474513e-220</td>\n",
       "      <td> 1.323551e-218</td>\n",
       "      <td> 2.779458e-217</td>\n",
       "    </tr>\n",
       "    <tr>\n",
       "      <th>b0945</th>\n",
       "      <td> 112</td>\n",
       "      <td> 198</td>\n",
       "      <td> 6.095901e-184</td>\n",
       "      <td> 5.223079e-182</td>\n",
       "      <td> 1.149077e-180</td>\n",
       "    </tr>\n",
       "    <tr>\n",
       "      <th>b4005</th>\n",
       "      <td> 106</td>\n",
       "      <td> 198</td>\n",
       "      <td> 5.221446e-170</td>\n",
       "      <td> 4.279315e-168</td>\n",
       "      <td> 9.842425e-167</td>\n",
       "    </tr>\n",
       "    <tr>\n",
       "      <th>b0198</th>\n",
       "      <td>  76</td>\n",
       "      <td> 198</td>\n",
       "      <td> 3.080061e-106</td>\n",
       "      <td> 2.419131e-104</td>\n",
       "      <td> 5.805915e-103</td>\n",
       "    </tr>\n",
       "    <tr>\n",
       "      <th>b3941</th>\n",
       "      <td>  70</td>\n",
       "      <td> 198</td>\n",
       "      <td>  1.145976e-94</td>\n",
       "      <td>  8.640661e-93</td>\n",
       "      <td>  2.160165e-91</td>\n",
       "    </tr>\n",
       "    <tr>\n",
       "      <th>b2600</th>\n",
       "      <td>  69</td>\n",
       "      <td> 198</td>\n",
       "      <td>  8.874779e-93</td>\n",
       "      <td>  6.434215e-91</td>\n",
       "      <td>  1.672896e-89</td>\n",
       "    </tr>\n",
       "    <tr>\n",
       "      <th>b0197</th>\n",
       "      <td>  68</td>\n",
       "      <td> 198</td>\n",
       "      <td>  6.694818e-91</td>\n",
       "      <td>  4.673974e-89</td>\n",
       "      <td>  1.261973e-87</td>\n",
       "    </tr>\n",
       "    <tr>\n",
       "      <th>b4024</th>\n",
       "      <td>  67</td>\n",
       "      <td> 198</td>\n",
       "      <td>  4.918863e-89</td>\n",
       "      <td>  3.311449e-87</td>\n",
       "      <td>  9.272057e-86</td>\n",
       "    </tr>\n",
       "    <tr>\n",
       "      <th>b0908</th>\n",
       "      <td>  65</td>\n",
       "      <td> 198</td>\n",
       "      <td>  2.451985e-85</td>\n",
       "      <td>  1.540664e-83</td>\n",
       "      <td>  4.621993e-82</td>\n",
       "    </tr>\n",
       "    <tr>\n",
       "      <th>b2601</th>\n",
       "      <td>  65</td>\n",
       "      <td> 198</td>\n",
       "      <td>  2.451985e-85</td>\n",
       "      <td>  1.540664e-83</td>\n",
       "      <td>  4.621993e-82</td>\n",
       "    </tr>\n",
       "    <tr>\n",
       "      <th>...</th>\n",
       "      <td>...</td>\n",
       "      <td>...</td>\n",
       "      <td>...</td>\n",
       "      <td>...</td>\n",
       "      <td>...</td>\n",
       "    </tr>\n",
       "    <tr>\n",
       "      <th>b2134</th>\n",
       "      <td>   4</td>\n",
       "      <td> 198</td>\n",
       "      <td>  3.657609e-02</td>\n",
       "      <td>  1.603394e-01</td>\n",
       "      <td>  1.000000e+00</td>\n",
       "    </tr>\n",
       "    <tr>\n",
       "      <th>b1206</th>\n",
       "      <td>   4</td>\n",
       "      <td> 198</td>\n",
       "      <td>  3.657609e-02</td>\n",
       "      <td>  1.603394e-01</td>\n",
       "      <td>  1.000000e+00</td>\n",
       "    </tr>\n",
       "    <tr>\n",
       "      <th>b2631</th>\n",
       "      <td>   4</td>\n",
       "      <td> 198</td>\n",
       "      <td>  3.657609e-02</td>\n",
       "      <td>  1.603394e-01</td>\n",
       "      <td>  1.000000e+00</td>\n",
       "    </tr>\n",
       "    <tr>\n",
       "      <th>b0819</th>\n",
       "      <td>   4</td>\n",
       "      <td> 198</td>\n",
       "      <td>  3.657609e-02</td>\n",
       "      <td>  1.603394e-01</td>\n",
       "      <td>  1.000000e+00</td>\n",
       "    </tr>\n",
       "    <tr>\n",
       "      <th>b0111</th>\n",
       "      <td>   4</td>\n",
       "      <td> 198</td>\n",
       "      <td>  3.657609e-02</td>\n",
       "      <td>  1.603394e-01</td>\n",
       "      <td>  1.000000e+00</td>\n",
       "    </tr>\n",
       "    <tr>\n",
       "      <th>b4544</th>\n",
       "      <td>   4</td>\n",
       "      <td> 198</td>\n",
       "      <td>  3.657609e-02</td>\n",
       "      <td>  1.603394e-01</td>\n",
       "      <td>  1.000000e+00</td>\n",
       "    </tr>\n",
       "    <tr>\n",
       "      <th>b1198</th>\n",
       "      <td>   4</td>\n",
       "      <td> 198</td>\n",
       "      <td>  3.657609e-02</td>\n",
       "      <td>  1.603394e-01</td>\n",
       "      <td>  1.000000e+00</td>\n",
       "    </tr>\n",
       "    <tr>\n",
       "      <th>b1286</th>\n",
       "      <td>   4</td>\n",
       "      <td> 198</td>\n",
       "      <td>  3.657609e-02</td>\n",
       "      <td>  1.603394e-01</td>\n",
       "      <td>  1.000000e+00</td>\n",
       "    </tr>\n",
       "    <tr>\n",
       "      <th>b0376</th>\n",
       "      <td>   4</td>\n",
       "      <td> 198</td>\n",
       "      <td>  3.657609e-02</td>\n",
       "      <td>  1.603394e-01</td>\n",
       "      <td>  1.000000e+00</td>\n",
       "    </tr>\n",
       "    <tr>\n",
       "      <th>b0576</th>\n",
       "      <td>   4</td>\n",
       "      <td> 198</td>\n",
       "      <td>  3.657609e-02</td>\n",
       "      <td>  1.603394e-01</td>\n",
       "      <td>  1.000000e+00</td>\n",
       "    </tr>\n",
       "    <tr>\n",
       "      <th>b3076</th>\n",
       "      <td>   4</td>\n",
       "      <td> 198</td>\n",
       "      <td>  3.657609e-02</td>\n",
       "      <td>  1.603394e-01</td>\n",
       "      <td>  1.000000e+00</td>\n",
       "    </tr>\n",
       "    <tr>\n",
       "      <th>b1445</th>\n",
       "      <td>   4</td>\n",
       "      <td> 198</td>\n",
       "      <td>  3.657609e-02</td>\n",
       "      <td>  1.603394e-01</td>\n",
       "      <td>  1.000000e+00</td>\n",
       "    </tr>\n",
       "    <tr>\n",
       "      <th>b0864</th>\n",
       "      <td>   4</td>\n",
       "      <td> 198</td>\n",
       "      <td>  3.657609e-02</td>\n",
       "      <td>  1.603394e-01</td>\n",
       "      <td>  1.000000e+00</td>\n",
       "    </tr>\n",
       "    <tr>\n",
       "      <th>b4550</th>\n",
       "      <td>   4</td>\n",
       "      <td> 198</td>\n",
       "      <td>  3.657609e-02</td>\n",
       "      <td>  1.603394e-01</td>\n",
       "      <td>  1.000000e+00</td>\n",
       "    </tr>\n",
       "    <tr>\n",
       "      <th>b4614</th>\n",
       "      <td>   4</td>\n",
       "      <td> 198</td>\n",
       "      <td>  3.657609e-02</td>\n",
       "      <td>  1.603394e-01</td>\n",
       "      <td>  1.000000e+00</td>\n",
       "    </tr>\n",
       "    <tr>\n",
       "      <th>b4111</th>\n",
       "      <td>   4</td>\n",
       "      <td> 198</td>\n",
       "      <td>  3.657609e-02</td>\n",
       "      <td>  1.603394e-01</td>\n",
       "      <td>  1.000000e+00</td>\n",
       "    </tr>\n",
       "    <tr>\n",
       "      <th>b4429</th>\n",
       "      <td>   4</td>\n",
       "      <td> 198</td>\n",
       "      <td>  3.657609e-02</td>\n",
       "      <td>  1.603394e-01</td>\n",
       "      <td>  1.000000e+00</td>\n",
       "    </tr>\n",
       "    <tr>\n",
       "      <th>b2938</th>\n",
       "      <td>   4</td>\n",
       "      <td> 198</td>\n",
       "      <td>  3.657609e-02</td>\n",
       "      <td>  1.603394e-01</td>\n",
       "      <td>  1.000000e+00</td>\n",
       "    </tr>\n",
       "    <tr>\n",
       "      <th>b3438</th>\n",
       "      <td>   4</td>\n",
       "      <td> 198</td>\n",
       "      <td>  3.657609e-02</td>\n",
       "      <td>  1.603394e-01</td>\n",
       "      <td>  1.000000e+00</td>\n",
       "    </tr>\n",
       "    <tr>\n",
       "      <th>b2937</th>\n",
       "      <td>   4</td>\n",
       "      <td> 198</td>\n",
       "      <td>  3.657609e-02</td>\n",
       "      <td>  1.603394e-01</td>\n",
       "      <td>  1.000000e+00</td>\n",
       "    </tr>\n",
       "    <tr>\n",
       "      <th>b1244</th>\n",
       "      <td>   4</td>\n",
       "      <td> 198</td>\n",
       "      <td>  3.657609e-02</td>\n",
       "      <td>  1.603394e-01</td>\n",
       "      <td>  1.000000e+00</td>\n",
       "    </tr>\n",
       "    <tr>\n",
       "      <th>b1261</th>\n",
       "      <td>   4</td>\n",
       "      <td> 198</td>\n",
       "      <td>  3.657609e-02</td>\n",
       "      <td>  1.603394e-01</td>\n",
       "      <td>  1.000000e+00</td>\n",
       "    </tr>\n",
       "    <tr>\n",
       "      <th>b2592</th>\n",
       "      <td>   4</td>\n",
       "      <td> 198</td>\n",
       "      <td>  3.657609e-02</td>\n",
       "      <td>  1.603394e-01</td>\n",
       "      <td>  1.000000e+00</td>\n",
       "    </tr>\n",
       "    <tr>\n",
       "      <th>b3543</th>\n",
       "      <td>   4</td>\n",
       "      <td> 198</td>\n",
       "      <td>  3.657609e-02</td>\n",
       "      <td>  1.603394e-01</td>\n",
       "      <td>  1.000000e+00</td>\n",
       "    </tr>\n",
       "    <tr>\n",
       "      <th>b0619</th>\n",
       "      <td>   4</td>\n",
       "      <td> 198</td>\n",
       "      <td>  3.657609e-02</td>\n",
       "      <td>  1.603394e-01</td>\n",
       "      <td>  1.000000e+00</td>\n",
       "    </tr>\n",
       "    <tr>\n",
       "      <th>b2628</th>\n",
       "      <td>   4</td>\n",
       "      <td> 198</td>\n",
       "      <td>  3.657609e-02</td>\n",
       "      <td>  1.603394e-01</td>\n",
       "      <td>  1.000000e+00</td>\n",
       "    </tr>\n",
       "    <tr>\n",
       "      <th>b0570</th>\n",
       "      <td>   4</td>\n",
       "      <td> 198</td>\n",
       "      <td>  3.657609e-02</td>\n",
       "      <td>  1.603394e-01</td>\n",
       "      <td>  1.000000e+00</td>\n",
       "    </tr>\n",
       "    <tr>\n",
       "      <th>b4456</th>\n",
       "      <td>   4</td>\n",
       "      <td> 198</td>\n",
       "      <td>  3.657609e-02</td>\n",
       "      <td>  1.603394e-01</td>\n",
       "      <td>  1.000000e+00</td>\n",
       "    </tr>\n",
       "    <tr>\n",
       "      <th>b0627</th>\n",
       "      <td>   4</td>\n",
       "      <td> 198</td>\n",
       "      <td>  3.657609e-02</td>\n",
       "      <td>  1.603394e-01</td>\n",
       "      <td>  1.000000e+00</td>\n",
       "    </tr>\n",
       "    <tr>\n",
       "      <th>b0713</th>\n",
       "      <td>   4</td>\n",
       "      <td> 198</td>\n",
       "      <td>  3.657609e-02</td>\n",
       "      <td>  1.603394e-01</td>\n",
       "      <td>  1.000000e+00</td>\n",
       "    </tr>\n",
       "  </tbody>\n",
       "</table>\n",
       "<p>430 rows × 5 columns</p>\n",
       "</div>"
      ],
      "text/plain": [
       "       counts  all_counts           pval        qval_BH  qval_bonferroni\n",
       "b0033     198         198   0.000000e+00   0.000000e+00     0.000000e+00\n",
       "b2476     165         198   0.000000e+00   0.000000e+00     0.000000e+00\n",
       "b2557     166         198   0.000000e+00   0.000000e+00     0.000000e+00\n",
       "b2313     167         198   0.000000e+00   0.000000e+00     0.000000e+00\n",
       "b0337     171         198   0.000000e+00   0.000000e+00     0.000000e+00\n",
       "b0336     171         198   0.000000e+00   0.000000e+00     0.000000e+00\n",
       "b2499     166         198   0.000000e+00   0.000000e+00     0.000000e+00\n",
       "b4244     188         198   0.000000e+00   0.000000e+00     0.000000e+00\n",
       "b4245     198         198   0.000000e+00   0.000000e+00     0.000000e+00\n",
       "b0032     198         198   0.000000e+00   0.000000e+00     0.000000e+00\n",
       "b4246     198         198   0.000000e+00   0.000000e+00     0.000000e+00\n",
       "b1062     173         198   0.000000e+00   0.000000e+00     0.000000e+00\n",
       "b4006     163         198  2.967852e-320  4.303386e-318    5.594402e-317\n",
       "b0522     161         198  3.373812e-314  4.542597e-312    6.359635e-311\n",
       "b2312     159         198  3.260034e-308  4.096776e-306    6.145164e-305\n",
       "b1849     158         198  3.020733e-305  3.558801e-303    5.694081e-302\n",
       "b0523     156         198  2.312168e-299  2.563787e-297    4.358438e-296\n",
       "b2500     150         198  4.314536e-282  4.518278e-280    8.132901e-279\n",
       "b3654     149         198  2.885602e-279  2.862821e-277    5.439359e-276\n",
       "b2497     127         198  1.474513e-220  1.323551e-218    2.779458e-217\n",
       "b4064     127         198  1.474513e-220  1.323551e-218    2.779458e-217\n",
       "b0945     112         198  6.095901e-184  5.223079e-182    1.149077e-180\n",
       "b4005     106         198  5.221446e-170  4.279315e-168    9.842425e-167\n",
       "b0198      76         198  3.080061e-106  2.419131e-104    5.805915e-103\n",
       "b3941      70         198   1.145976e-94   8.640661e-93     2.160165e-91\n",
       "b2600      69         198   8.874779e-93   6.434215e-91     1.672896e-89\n",
       "b0197      68         198   6.694818e-91   4.673974e-89     1.261973e-87\n",
       "b4024      67         198   4.918863e-89   3.311449e-87     9.272057e-86\n",
       "b0908      65         198   2.451985e-85   1.540664e-83     4.621993e-82\n",
       "b2601      65         198   2.451985e-85   1.540664e-83     4.621993e-82\n",
       "...       ...         ...            ...            ...              ...\n",
       "b2134       4         198   3.657609e-02   1.603394e-01     1.000000e+00\n",
       "b1206       4         198   3.657609e-02   1.603394e-01     1.000000e+00\n",
       "b2631       4         198   3.657609e-02   1.603394e-01     1.000000e+00\n",
       "b0819       4         198   3.657609e-02   1.603394e-01     1.000000e+00\n",
       "b0111       4         198   3.657609e-02   1.603394e-01     1.000000e+00\n",
       "b4544       4         198   3.657609e-02   1.603394e-01     1.000000e+00\n",
       "b1198       4         198   3.657609e-02   1.603394e-01     1.000000e+00\n",
       "b1286       4         198   3.657609e-02   1.603394e-01     1.000000e+00\n",
       "b0376       4         198   3.657609e-02   1.603394e-01     1.000000e+00\n",
       "b0576       4         198   3.657609e-02   1.603394e-01     1.000000e+00\n",
       "b3076       4         198   3.657609e-02   1.603394e-01     1.000000e+00\n",
       "b1445       4         198   3.657609e-02   1.603394e-01     1.000000e+00\n",
       "b0864       4         198   3.657609e-02   1.603394e-01     1.000000e+00\n",
       "b4550       4         198   3.657609e-02   1.603394e-01     1.000000e+00\n",
       "b4614       4         198   3.657609e-02   1.603394e-01     1.000000e+00\n",
       "b4111       4         198   3.657609e-02   1.603394e-01     1.000000e+00\n",
       "b4429       4         198   3.657609e-02   1.603394e-01     1.000000e+00\n",
       "b2938       4         198   3.657609e-02   1.603394e-01     1.000000e+00\n",
       "b3438       4         198   3.657609e-02   1.603394e-01     1.000000e+00\n",
       "b2937       4         198   3.657609e-02   1.603394e-01     1.000000e+00\n",
       "b1244       4         198   3.657609e-02   1.603394e-01     1.000000e+00\n",
       "b1261       4         198   3.657609e-02   1.603394e-01     1.000000e+00\n",
       "b2592       4         198   3.657609e-02   1.603394e-01     1.000000e+00\n",
       "b3543       4         198   3.657609e-02   1.603394e-01     1.000000e+00\n",
       "b0619       4         198   3.657609e-02   1.603394e-01     1.000000e+00\n",
       "b2628       4         198   3.657609e-02   1.603394e-01     1.000000e+00\n",
       "b0570       4         198   3.657609e-02   1.603394e-01     1.000000e+00\n",
       "b4456       4         198   3.657609e-02   1.603394e-01     1.000000e+00\n",
       "b0627       4         198   3.657609e-02   1.603394e-01     1.000000e+00\n",
       "b0713       4         198   3.657609e-02   1.603394e-01     1.000000e+00\n",
       "\n",
       "[430 rows x 5 columns]"
      ]
     },
     "execution_count": 8,
     "metadata": {},
     "output_type": "execute_result"
    }
   ],
   "source": [
    "host = \"primordial\"\n",
    "db = \"eco_db\"\n",
    "\n",
    "x = [\"carA\",\"carB\",\"pyrL\",\"pyrB\"]\n",
    "x_type = \"gene\"\n",
    "y_type = \"gene\"\n",
    "\n",
    "logic = \"or\"\n",
    "\n",
    "agglom( x, x_type, y_type , host=host, db=db, logic=logic )"
   ]
  },
  {
   "cell_type": "markdown",
   "metadata": {
    "slideshow": {
     "slide_type": "subslide"
    }
   },
   "source": [
    "## Aside: experimental annotations"
   ]
  },
  {
   "cell_type": "code",
   "execution_count": null,
   "metadata": {
    "collapsed": false,
    "scrolled": true,
    "slideshow": {
     "slide_type": "fragment"
    }
   },
   "outputs": [],
   "source": [
    "client[db].col_info.find_one( { }, {\"_id\":0, \"additional_info\":1 } )"
   ]
  },
  {
   "cell_type": "code",
   "execution_count": null,
   "metadata": {
    "collapsed": false,
    "scrolled": true,
    "slideshow": {
     "slide_type": "subslide"
    }
   },
   "outputs": [],
   "source": [
    "pd.DataFrame( list( client[db].col_info.find( { \"additional_info\": { \"$elemMatch\": { \"name\":\"cell_density\", \"value\": {\"$gte\": \"0.3\" } } } }, {\"_id\":0, \"egrin2_col_name\":1 } ) ) )"
   ]
  },
  {
   "cell_type": "code",
   "execution_count": null,
   "metadata": {
    "collapsed": false,
    "scrolled": true,
    "slideshow": {
     "slide_type": "subslide"
    }
   },
   "outputs": [],
   "source": [
    "x = pd.DataFrame( list( client[db].col_info.find( { \"additional_info\": { \"$elemMatch\": { \"name\":\"cell_density\", \"value\": {\"$gte\": \"0.3\" } } } }, {\"_id\":0, \"egrin2_col_name\":1 } ) ) ).egrin2_col_name.tolist()\n",
    "x_type = \"columns\"\n",
    "y_type = \"gene\"\n",
    "\n",
    "logic = \"or\"\n",
    "\n",
    "agglom( x, x_type, y_type , host=host, db=db, logic=logic )"
   ]
  },
  {
   "cell_type": "markdown",
   "metadata": {
    "slideshow": {
     "slide_type": "subslide"
    }
   },
   "source": [
    "# Corem related \n",
    "\n"
   ]
  },
  {
   "cell_type": "markdown",
   "metadata": {
    "slideshow": {
     "slide_type": "fragment"
    }
   },
   "source": [
    "## `coremFinder()`\n",
    "## `expressionFinder()`"
   ]
  },
  {
   "cell_type": "code",
   "execution_count": null,
   "metadata": {
    "collapsed": true,
    "slideshow": {
     "slide_type": "fragment"
    }
   },
   "outputs": [],
   "source": [
    "? coremFinder"
   ]
  },
  {
   "cell_type": "markdown",
   "metadata": {
    "internals": {
     "frag_helper": "fragment_end",
     "frag_number": 13,
     "slide_helper": "subslide_end",
     "slide_type": "subslide"
    },
    "slide_helper": "subslide_end",
    "slideshow": {
     "slide_type": "subslide"
    }
   },
   "source": [
    "<div align=\"center\" vertical-align=\"middle\">\n",
    "    <img src=\"./docs/corem-01.png\" height = \"100%\" width = \"100%\" style=\"display:inline\">\n",
    "</div>"
   ]
  },
  {
   "cell_type": "code",
   "execution_count": null,
   "metadata": {
    "collapsed": false,
    "internals": {
     "frag_helper": "fragment_end",
     "frag_number": 13,
     "slide_helper": "subslide_end",
     "slide_type": "subslide"
    },
    "slide_helper": "subslide_end",
    "slideshow": {
     "slide_type": "subslide"
    }
   },
   "outputs": [],
   "source": [
    "host = \"primordial\"\n",
    "db = \"eco_db\"\n",
    "\n",
    "corem = 1\n",
    "\n",
    "# find the genes\n",
    "corem_genes =  coremFinder(corem, x_type = \"corem_id\", y_type=\"rows\", host=host, db=db)\n",
    "# print a summary\n",
    "corem_genes.sort()\n",
    "for i in corem_genes:\n",
    "    print i + \" is also called \" + str( row2id( i, host=host, db=db, return_field = \"name\" ) )"
   ]
  },
  {
   "cell_type": "code",
   "execution_count": null,
   "metadata": {
    "collapsed": false,
    "internals": {
     "frag_helper": "fragment_end",
     "frag_number": 13,
     "slide_helper": "subslide_end",
     "slide_type": "subslide"
    },
    "slide_helper": "subslide_end",
    "slideshow": {
     "slide_type": "subslide"
    }
   },
   "outputs": [],
   "source": [
    "# find the conditions\n",
    "corem_conditions =  coremFinder( x = corem,x_type = \"corem_id\", y_type=\"conds\", host=host, db=db )\n",
    "# print a summary\n",
    "corem_conditions.sort()\n",
    "for i in corem_conditions[0:10]:\n",
    "    print i\n",
    "print \"\\nThere are %s other conditions\" % len(corem_conditions)"
   ]
  },
  {
   "cell_type": "code",
   "execution_count": null,
   "metadata": {
    "collapsed": false,
    "internals": {
     "frag_helper": "fragment_end",
     "frag_number": 13,
     "slide_helper": "subslide_end",
     "slide_type": "subslide"
    },
    "slide_helper": "subslide_end",
    "slideshow": {
     "slide_type": "subslide"
    }
   },
   "outputs": [],
   "source": [
    "gene_expression = expressionFinder( rows=corem_genes, cols=corem_conditions, host=host, db=db )\n",
    "\n",
    "# preview the first 5 rows\n",
    "gene_expression.head()"
   ]
  },
  {
   "cell_type": "markdown",
   "metadata": {
    "slideshow": {
     "slide_type": "subslide"
    }
   },
   "source": [
    "<div align=\"center\" vertical-align=\"middle\">\n",
    "    <img src=\"./docs/iconmonstr-bar-chart-2-icon_text.png\" height = \"300\" width = \"300\" style=\"display:inline\">\n",
    "</div>"
   ]
  },
  {
   "cell_type": "markdown",
   "metadata": {
    "collapsed": true,
    "slideshow": {
     "slide_type": "subslide"
    }
   },
   "source": [
    "## `plotExpression()`"
   ]
  },
  {
   "cell_type": "code",
   "execution_count": null,
   "metadata": {
    "collapsed": true,
    "slideshow": {
     "slide_type": "fragment"
    }
   },
   "outputs": [],
   "source": [
    "? plotExpression"
   ]
  },
  {
   "cell_type": "code",
   "execution_count": null,
   "metadata": {
    "collapsed": false,
    "internals": {
     "frag_helper": "fragment_end",
     "frag_number": 13,
     "slide_helper": "subslide_end",
     "slide_type": "subslide"
    },
    "slide_helper": "slide_end",
    "slideshow": {
     "slide_type": "subslide"
    }
   },
   "outputs": [],
   "source": [
    "plot = plotExpression( gene_expression, plot_type = \"line\", ipynb = True, sort = False )\n",
    "py.iplot( plot )"
   ]
  },
  {
   "cell_type": "markdown",
   "metadata": {
    "slideshow": {
     "slide_type": "subslide"
    }
   },
   "source": [
    "# Let's put it all together"
   ]
  },
  {
   "cell_type": "code",
   "execution_count": 21,
   "metadata": {
    "collapsed": false,
    "internals": {
     "frag_helper": "fragment_end",
     "frag_number": 13,
     "slide_helper": "subslide_end",
     "slide_type": "subslide"
    },
    "slide_helper": "slide_end",
    "slideshow": {
     "slide_type": "subslide"
    }
   },
   "outputs": [],
   "source": [
    "from query.egrin2_query import *\n",
    "from query.egrin2_plot import *\n",
    "\n",
    "host = \"primordial\"\n",
    "db = \"eco_db\"\n",
    "\n",
    "corem = 1\n",
    "# find genes\n",
    "genes =  coremFinder(x = corem,x_type = \"corem_id\", y_type=\"rows\",host=host,db=db)\n",
    "# find conditions\n",
    "conditions =  coremFinder(x = corem,x_type = \"corem_id\", y_type=\"conds\",host=host,db=db)\n",
    "# get expression\n",
    "gene_expression = expressionFinder(rows=genes,cols=conditions,host=host,db=db)"
   ]
  },
  {
   "cell_type": "code",
   "execution_count": 20,
   "metadata": {
    "collapsed": false
   },
   "outputs": [
    {
     "data": {
      "text/html": [
       "<iframe id=\"igraph\" scrolling=\"no\" style=\"border:none;\"seamless=\"seamless\" src=\"https://plot.ly/~scalefreegan/232.embed\" height=\"525\" width=\"100%\"></iframe>"
      ],
      "text/plain": [
       "<plotly.tools.PlotlyDisplay object>"
      ]
     },
     "execution_count": 20,
     "metadata": {},
     "output_type": "execute_result"
    }
   ],
   "source": [
    "# plot\n",
    "plot = plotExpression( gene_expression, plot_type = \"line\", ipynb = True, sort = False )\n",
    "py.iplot( plot )"
   ]
  },
  {
   "cell_type": "markdown",
   "metadata": {
    "slideshow": {
     "slide_type": "subslide"
    }
   },
   "source": [
    "<h2> An iPython notebook can be <a href=\"http://nbviewer.ipython.org/github/scalefreegan/egrin2-tools/blob/master/doc/query_docs/expression_viz_tutorial_blank.ipynb\">downloaded!!</a> </h2>"
   ]
  },
  {
   "cell_type": "code",
   "execution_count": null,
   "metadata": {
    "collapsed": false,
    "internals": {
     "frag_helper": "fragment_end",
     "frag_number": 13,
     "slide_helper": "subslide_end",
     "slide_type": "subslide"
    },
    "slide_helper": "slide_end",
    "slideshow": {
     "slide_type": "subslide"
    }
   },
   "outputs": [],
   "source": [
    "HTML('<iframe height=\"600px\" width=\"1000px\" src=\"http://nbviewer.ipython.org/github/scalefreegan/egrin2-tools/blob/master/doc/index.ipynb\"</iframe>')"
   ]
  },
  {
   "cell_type": "markdown",
   "metadata": {
    "slideshow": {
     "slide_type": "subslide"
    }
   },
   "source": [
    "<div align=\"center\" vertical-align=\"middle\">\n",
    "    <img src=\"./docs/iconmonstr-help-6-icon-256.png\" height = \"25%\" width = \"25%\" style=\"display:inline\">\n",
    "</div>"
   ]
  },
  {
   "cell_type": "markdown",
   "metadata": {
    "slideshow": {
     "slide_type": "slide"
    }
   },
   "source": [
    "# The FUTURE"
   ]
  },
  {
   "cell_type": "markdown",
   "metadata": {
    "slideshow": {
     "slide_type": "fragment"
    }
   },
   "source": [
    "### My vision for the future of the EGRIN \"*ecosystem*\""
   ]
  },
  {
   "cell_type": "markdown",
   "metadata": {
    "slideshow": {
     "slide_type": "subslide"
    }
   },
   "source": [
    "### GGBweb: Gaggle Genome Browser for the Web"
   ]
  },
  {
   "cell_type": "markdown",
   "metadata": {
    "internals": {
     "frag_helper": "fragment_end",
     "frag_number": 13,
     "slide_helper": "subslide_end",
     "slide_type": "subslide"
    },
    "slide_helper": "slide_end",
    "slideshow": {
     "slide_type": "fragment"
    }
   },
   "source": [
    "<div align=\"center\" vertical-align=\"middle\">\n",
    "    <img src=\"./docs/ggbweb_new.png\" height = \"100%\" width = \"100%\" style=\"display:inline\">\n",
    "</div>"
   ]
  },
  {
   "cell_type": "markdown",
   "metadata": {
    "slideshow": {
     "slide_type": "slide"
    }
   },
   "source": [
    "##Thank you all!\n",
    "\n",
    "- Antoine Allard\n",
    "- Justin Ashworth\n",
    "- Karlyn Beer\n",
    "- Adrian Garcia Lopez de Lomana\n",
    "- Saheed Imam\n",
    "- Ning Jiang\n",
    "- Amardeep Kaur\n",
    "- Chris Lausted\n",
    "- Fang Yin Lo\n",
    "- Claudia Ludwig\n",
    "- Diego Martinez Salvanha\n",
    "- Min Pan\n",
    "- Eliza Peterson\n",
    "- Chris Plaisier\n",
    "- David Reiss\n",
    "- Serdar Turkarslan\n",
    "- Wei-ju Wu\n",
    "\n",
    "- Nitin Baliga\n",
    "\n"
   ]
  },
  {
   "cell_type": "markdown",
   "metadata": {
    "slideshow": {
     "slide_type": "slide"
    }
   },
   "source": [
    "#Auf Wiedersehen!"
   ]
  },
  {
   "cell_type": "markdown",
   "metadata": {
    "slideshow": {
     "slide_type": "fragment"
    }
   },
   "source": [
    "###*Teal and I are moving to Heidelberg in April*"
   ]
  },
  {
   "cell_type": "markdown",
   "metadata": {
    "collapsed": true,
    "slideshow": {
     "slide_type": "subslide"
    }
   },
   "source": [
    "##Where is Heidelberg?"
   ]
  },
  {
   "cell_type": "code",
   "execution_count": null,
   "metadata": {
    "collapsed": false,
    "internals": {
     "frag_helper": "fragment_end",
     "frag_number": 13,
     "slide_helper": "subslide_end",
     "slide_type": "subslide"
    },
    "slide_helper": "subslide_end",
    "slideshow": {
     "slide_type": "fragment"
    }
   },
   "outputs": [],
   "source": [
    "HTML('<iframe src=\"https://www.google.com/maps/embed?pb=!1m18!1m12!1m3!1d2581670.4146216605!2d9.007024184179672!3d50.8096276135968!2m3!1f0!2f0!3f0!3m2!1i1024!2i768!4f13.1!3m3!1m2!1s0x4797c1050eccdccd%3A0xefe6ea0044243ad7!2sHeidelberg%2C+Germany!5e0!3m2!1sen!2sus!4v1424921444369\" width=\"800\" height=\"650\" frameborder=\"0\" style=\"border:0\"></iframe>')"
   ]
  },
  {
   "cell_type": "code",
   "execution_count": null,
   "metadata": {
    "collapsed": false,
    "internals": {
     "frag_helper": "fragment_end",
     "frag_number": 13,
     "slide_type": "subslide"
    },
    "slideshow": {
     "slide_type": "subslide"
    }
   },
   "outputs": [],
   "source": [
    "HTML('<iframe width=\"840\" height=\"575\" src=\"https://www.youtube.com/embed/D_6p6IeBYSA\" frameborder=\"0\" allowfullscreen></iframe>')"
   ]
  }
 ],
 "metadata": {
  "kernelspec": {
   "display_name": "Python 2",
   "language": "python",
   "name": "python2"
  },
  "language_info": {
   "codemirror_mode": {
    "name": "ipython",
    "version": 2
   },
   "file_extension": ".py",
   "mimetype": "text/x-python",
   "name": "python",
   "nbconvert_exporter": "python",
   "pygments_lexer": "ipython2",
   "version": "2.7.6"
  }
 },
 "nbformat": 4,
 "nbformat_minor": 0
}
