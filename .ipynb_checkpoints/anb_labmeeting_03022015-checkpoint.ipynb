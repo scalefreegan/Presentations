{
 "cells": [
  {
   "cell_type": "markdown",
   "metadata": {
    "internals": {
     "frag_helper": "fragment_end",
     "frag_number": 2,
     "slide_type": "subslide"
    },
    "slideshow": {
     "slide_type": "slide"
    }
   },
   "source": [
    "# <div align=\"center\" vertical-align=\"middle\">      <img src=\"./docs/header-photo.jpg\" height = \"100%\" width = \"100%\" style=\"display:inline\">     <br>     <br> </div> EGRIN *2.0*"
   ]
  },
  {
   "cell_type": "markdown",
   "metadata": {
    "internals": {
     "frag_helper": "fragment_end",
     "frag_number": 1
    },
    "slideshow": {
     "slide_type": "fragment"
    }
   },
   "source": [
    "## Past, Present, and Future"
   ]
  },
  {
   "cell_type": "markdown",
   "metadata": {
    "internals": {
     "frag_helper": "fragment_end",
     "frag_number": 2,
     "slide_helper": "subslide_end"
    },
    "slide_helper": "slide_end",
    "slideshow": {
     "slide_type": "fragment"
    }
   },
   "source": [
    "### *MongoDB, iPython, GGBweb/ChromeGoose*"
   ]
  },
  {
   "cell_type": "markdown",
   "metadata": {
    "internals": {
     "frag_helper": "fragment_end",
     "frag_number": 2,
     "slide_helper": "subslide_end",
     "slide_type": "subslide"
    },
    "slide_helper": "subslide_end",
    "slideshow": {
     "slide_type": "slide"
    }
   },
   "source": [
    "# What is EGRIN *2.0* ?"
   ]
  },
  {
   "cell_type": "markdown",
   "metadata": {
    "internals": {
     "frag_helper": "fragment_end",
     "frag_number": 2,
     "slide_helper": "subslide_end",
     "slide_type": "subslide"
    },
    "slide_helper": "slide_end",
    "slideshow": {
     "slide_type": "subslide"
    }
   },
   "source": [
    "<div align=\"center\" vertical-align=\"middle\">\n",
    "\n",
    "        <img src=\"./docs/egrin2_fig1-03.png\" height = \"100%\" width = \"100%\" style=\"display:inline\">\n",
    "        \n",
    "</div>"
   ]
  },
  {
   "cell_type": "markdown",
   "metadata": {
    "internals": {
     "frag_helper": "fragment_end",
     "frag_number": 2,
     "slide_type": "subslide"
    },
    "slideshow": {
     "slide_type": "slide"
    }
   },
   "source": [
    "# EGRIN *2.0* ( Web *1.0* )"
   ]
  },
  {
   "cell_type": "markdown",
   "metadata": {
    "internals": {
     "frag_helper": "fragment_end",
     "frag_number": 6,
     "slide_helper": "subslide_end"
    },
    "slide_helper": "slide_end",
    "slideshow": {
     "slide_type": "fragment"
    }
   },
   "source": [
    "The first EGRIN 2.0 website is a Django/Javascript powered webapp with a PostgreSQL backend\n"
   ]
  },
  {
   "cell_type": "code",
   "execution_count": 1,
   "metadata": {
    "collapsed": false,
    "internals": {
     "frag_helper": "fragment_end",
     "frag_number": 6,
     "slide_helper": "subslide_end",
     "slide_type": "subslide"
    },
    "slide_helper": "subslide_end",
    "slideshow": {
     "slide_type": "slide"
    }
   },
   "outputs": [
    {
     "data": {
      "text/html": [
       "<iframe height=\"600px\" width=\"1000px\" src=\"http://egrin2.systemsbiology.net/\"</iframe>"
      ],
      "text/plain": [
       "<IPython.core.display.HTML object>"
      ]
     },
     "execution_count": 1,
     "metadata": {},
     "output_type": "execute_result"
    }
   ],
   "source": [
    "from IPython.display import HTML\n",
    "HTML('<iframe height=\"600px\" width=\"1000px\" src=\"http://egrin2.systemsbiology.net/\"</iframe>')"
   ]
  },
  {
   "cell_type": "markdown",
   "metadata": {
    "internals": {
     "frag_helper": "fragment_end",
     "frag_number": 6,
     "slide_helper": "subslide_end",
     "slide_type": "subslide"
    },
    "slide_helper": "subslide_end",
    "slideshow": {
     "slide_type": "subslide"
    }
   },
   "source": [
    "- *Advantages*: templating (fast dev), well-structured for EGRIN 2.0 datatypes, fast queries, extensible"
   ]
  },
  {
   "cell_type": "markdown",
   "metadata": {
    "internals": {
     "frag_helper": "fragment_end",
     "frag_number": 6,
     "slide_helper": "subslide_end",
     "slide_type": "subslide"
    },
    "slide_helper": "slide_end",
    "slideshow": {
     "slide_type": "subslide"
    }
   },
   "source": [
    "- *Disadvantages*: db backend is HUGE! (not scalable), content is **static** (it is BORING!!!)"
   ]
  },
  {
   "cell_type": "markdown",
   "metadata": {
    "slideshow": {
     "slide_type": "subslide"
    }
   },
   "source": [
    "## The first EGRIN 2.0 website is a failure"
   ]
  },
  {
   "cell_type": "markdown",
   "metadata": {
    "slideshow": {
     "slide_type": "fragment"
    }
   },
   "source": [
    "- It took a long time to develop (months)"
   ]
  },
  {
   "cell_type": "markdown",
   "metadata": {
    "slideshow": {
     "slide_type": "fragment"
    }
   },
   "source": [
    "- Not a single reviewer for the paper visited the site"
   ]
  },
  {
   "cell_type": "markdown",
   "metadata": {
    "slideshow": {
     "slide_type": "fragment"
    }
   },
   "source": [
    "- Few people use the site currently"
   ]
  },
  {
   "cell_type": "markdown",
   "metadata": {
    "slideshow": {
     "slide_type": "subslide"
    }
   },
   "source": [
    "<div align=\"center\" vertical-align=\"middle\">\n",
    "        Jan 27-Feb 26 <br><br>\n",
    "        <img src=\"./docs/egrin2_countries.png\" height = \"100%\" width = \"100%\" style=\"display:inline\">\n",
    "        \n",
    "</div>"
   ]
  },
  {
   "cell_type": "markdown",
   "metadata": {
    "slideshow": {
     "slide_type": "subslide"
    }
   },
   "source": [
    "<div align=\"center\" vertical-align=\"middle\">\n",
    "        Jan 27-Feb 26 <br><br>\n",
    "        <img src=\"./docs/egrin2_us.png\" height = \"100%\" width = \"100%\" style=\"display:inline\">\n",
    "        \n",
    "</div>"
   ]
  },
  {
   "cell_type": "markdown",
   "metadata": {
    "slideshow": {
     "slide_type": "subslide"
    }
   },
   "source": [
    "# <div align=\"center\" vertical-align=\"middle\">          *We should learn from this...*          </div>"
   ]
  },
  {
   "cell_type": "markdown",
   "metadata": {
    "internals": {
     "frag_helper": "fragment_end",
     "frag_number": 6,
     "slide_type": "subslide"
    },
    "slideshow": {
     "slide_type": "slide"
    }
   },
   "source": [
    "## EGRIN *2.0* ( Web *2.0* )"
   ]
  },
  {
   "cell_type": "markdown",
   "metadata": {
    "internals": {
     "frag_helper": "fragment_end",
     "frag_number": 11
    },
    "slideshow": {
     "slide_type": "fragment"
    }
   },
   "source": [
    "The second generation EGRIN 2.0 website is an iPython powered notebook with a MongoDB backend \n"
   ]
  },
  {
   "cell_type": "markdown",
   "metadata": {
    "internals": {
     "frag_helper": "fragment_end",
     "frag_number": 12
    },
    "slideshow": {
     "slide_type": "fragment"
    }
   },
   "source": [
    "<div align=\"center\" vertical-align=\"middle\">\n",
    "\n",
    "        <img src=\"./docs/iconmonstr-puzzle-icon-text.png\" height = \"300\" width = \"300\" style=\"display:inline\">\n",
    "\n",
    "        <img src=\"./docs/iconmonstr-puzzle-17-icon-text.png\" height = \"300\" width = \"300\" style=\"display:inline\">\n",
    "\n",
    "        <img src=\"./docs/iconmonstr-flask-3-icon-text.png\" height = \"300\" width = \"300\" style=\"display:inline\">\n",
    "</div>"
   ]
  },
  {
   "cell_type": "markdown",
   "metadata": {
    "internals": {
     "frag_helper": "fragment_end",
     "frag_number": 13,
     "slide_helper": "subslide_end"
    },
    "slide_helper": "subslide_end",
    "slideshow": {
     "slide_type": "fragment"
    }
   },
   "source": [
    "<div align=\"center\" vertical-align=\"middle\">\n",
    "<h3>Notice: *I'm blurring the distinction between constructing an ensemble and using it.*</h3>\n",
    "</div>"
   ]
  },
  {
   "cell_type": "markdown",
   "metadata": {
    "internals": {
     "frag_helper": "fragment_end",
     "frag_number": 13,
     "slide_helper": "subslide_end",
     "slide_type": "subslide"
    },
    "slide_helper": "subslide_end",
    "slideshow": {
     "slide_type": "subslide"
    }
   },
   "source": [
    "- *Advantages*: templating with iPython notebooks (fast dev), well-structured for EGRIN 2.0 datatypes (flexible schema), incredibly fast queries, centralized, extensible, content is <u>**dynamic**</u>, quickly becoming a <a href = \"http://nbviewer.ipython.org/github/idekerlab/cy-rest-python/blob/develop/cytoscape-js/CytoscapeJsDemo.ipynb\">standard for data analysis in systems biology.</a>"
   ]
  },
  {
   "cell_type": "markdown",
   "metadata": {
    "internals": {
     "frag_helper": "fragment_end",
     "frag_number": 13,
     "slide_helper": "subslide_end",
     "slide_type": "subslide"
    },
    "slide_helper": "subslide_end",
    "slideshow": {
     "slide_type": "subslide"
    }
   },
   "source": [
    "- *Disadvantages*: something new to learn, requires some investment from user"
   ]
  },
  {
   "cell_type": "code",
   "execution_count": 2,
   "metadata": {
    "collapsed": false,
    "internals": {
     "frag_helper": "fragment_end",
     "frag_number": 13,
     "slide_helper": "subslide_end",
     "slide_type": "subslide"
    },
    "slide_helper": "slide_end",
    "slideshow": {
     "slide_type": "subslide"
    }
   },
   "outputs": [
    {
     "data": {
      "text/html": [
       "<iframe width=\"840\" height=\"375\" src=\"https://www.youtube.com/embed/b2F-DItXtZs\" frameborder=\"0\" allowfullscreen></iframe>"
      ],
      "text/plain": [
       "<IPython.core.display.HTML object>"
      ]
     },
     "execution_count": 2,
     "metadata": {},
     "output_type": "execute_result"
    }
   ],
   "source": [
    "HTML('<iframe width=\"840\" height=\"375\" src=\"https://www.youtube.com/embed/b2F-DItXtZs\" frameborder=\"0\" allowfullscreen></iframe>')"
   ]
  },
  {
   "cell_type": "markdown",
   "metadata": {
    "internals": {
     "frag_helper": "fragment_end",
     "frag_number": 13,
     "slide_helper": "subslide_end",
     "slide_type": "subslide"
    },
    "slide_helper": "slide_end",
    "slideshow": {
     "slide_type": "slide"
    }
   },
   "source": [
    "<div align=\"center\" vertical-align=\"middle\">\n",
    "    <img src=\"./docs/iconmonstr-puzzle-icon-text.png\" height = \"400\" width = \"400\" style=\"display:inline\">\n",
    "    <br>\n",
    "    <h2>*Tools to build EGRIN 2.0: configure cMonkey2*</h2>\n",
    "</div>"
   ]
  },
  {
   "cell_type": "markdown",
   "metadata": {
    "slideshow": {
     "slide_type": "subslide"
    }
   },
   "source": [
    "`python cMonkeyQSub.py`\n",
    "<br> \n",
    "`--organism` *org*\n",
    "<br>\n",
    "`--ratios` *myRatiosFile.tgz* \n",
    "<br>\n",
    "`--targetdir` */path/to/myOutputDir*\n",
    "<br>\n",
    "`--numruns` *123* \n",
    "<br>\n",
    "`--blocks` *blocks.csv*\n",
    "<br>\n",
    "`--inclusion` *inclusion.blocks.csv* \n",
    "<br>\n",
    "`--exclusion` *exclusion.blocks.csv* \n",
    "<br>\n",
    "`--pipeline` *setenrich_pipeline.json* \n",
    "<br>\n",
    "`--setenrich` *chipseq,tfoe* \n",
    "<br>\n",
    "`--setenrich_files` *ChIPSeq.csv,DE.csv* \n",
    "<br>\n",
    "`--csh`\n"
   ]
  },
  {
   "cell_type": "code",
   "execution_count": 3,
   "metadata": {
    "collapsed": false,
    "scrolled": true,
    "slideshow": {
     "slide_type": "subslide"
    }
   },
   "outputs": [
    {
     "name": "stdout",
     "output_type": "stream",
     "text": [
      "usage: cMonkeyQSub.py [-h] --organism ORGANISM --ratios RATIOS --targetdir\n",
      "                      TARGETDIR [--numruns NUMRUNS] [--ncbi_code NCBI_CODE]\n",
      "                      [--mincols MINCOLS] [--num_cores NUM_CORES]\n",
      "                      [--max_tasks MAX_TASKS] [--user USER] [--csh]\n",
      "                      [--blocks BLOCKS] [--inclusion INCLUSION]\n",
      "                      [--exclusion EXCLUSION] [--pipeline PIPELINE]\n",
      "                      [--setenrich SETENRICH]\n",
      "                      [--setenrich_files SETENRICH_FILES]\n",
      "\n",
      "cMonkeyQSub.py - prepare cluster runs\n",
      "\n",
      "optional arguments:\n",
      "  -h, --help            show this help message and exit\n",
      "  --organism ORGANISM   3 letter organism code\n",
      "  --ratios RATIOS       Path to ratios file\n",
      "  --targetdir TARGETDIR\n",
      "                        Path to output directory\n",
      "  --numruns NUMRUNS     Number of cMonkey2 runs to configure\n",
      "  --ncbi_code NCBI_CODE\n",
      "                        NCBI organism code\n",
      "  --mincols MINCOLS     Minimum number of experiments to include in a cMonkey2\n",
      "                        run\n",
      "  --num_cores NUM_CORES\n",
      "                        Number of cores on cluster to request\n",
      "  --max_tasks MAX_TASKS\n",
      "                        Maximum number of jobs to be sent to the cluster at a\n",
      "                        time\n",
      "  --user USER           Cluster user name\n",
      "  --csh                 Flag to indicate C Shell\n",
      "  --blocks BLOCKS       Path to block definitions\n",
      "  --inclusion INCLUSION\n",
      "                        Path to inclusion block definitions\n",
      "  --exclusion EXCLUSION\n",
      "                        Path to exclusion block definitions\n",
      "  --pipeline PIPELINE   Path to scoring pipeline config file\n",
      "  --setenrich SETENRICH\n",
      "                        Name(s) of set enrichment 'sets' to include. Names\n",
      "                        should be comma separated.\n",
      "  --setenrich_files SETENRICH_FILES\n",
      "                        Set enrichment files. File paths should be comma\n",
      "                        separated.\n"
     ]
    }
   ],
   "source": [
    "%run ../egrin2-tools/build/cMonkeyQSub.py -h"
   ]
  },
  {
   "cell_type": "markdown",
   "metadata": {
    "slideshow": {
     "slide_type": "fragment"
    }
   },
   "source": [
    "### Build scripts choose experiments to include/exclude probabilistically based on the supplied configuration"
   ]
  },
  {
   "cell_type": "markdown",
   "metadata": {
    "slideshow": {
     "slide_type": "subslide"
    }
   },
   "source": [
    "<div align=\"center\" vertical-align=\"middle\">\n",
    "    <h3>Blocks.csv</h3>\n",
    "    <img src=\"./docs/blocks.png\" height = \"90%\" width = \"90%\" style=\"display:inline\">\n",
    "</div>"
   ]
  },
  {
   "cell_type": "markdown",
   "metadata": {
    "slideshow": {
     "slide_type": "subslide"
    }
   },
   "source": [
    "<div align=\"center\" vertical-align=\"middle\">\n",
    "    <h3>Inclusion_Blocks.csv</h3>\n",
    "    <img src=\"./docs/inclusion_blocks.png\" height = \"90%\" width = \"90%\" style=\"display:inline\">\n",
    "    \n",
    "</div>"
   ]
  },
  {
   "cell_type": "markdown",
   "metadata": {
    "slideshow": {
     "slide_type": "subslide"
    }
   },
   "source": [
    "<div align=\"center\" vertical-align=\"middle\">\n",
    "    <h3>Exclusion_Blocks.csv</h3>\n",
    "    <img src=\"./docs/exclusion_blocks.png\" height = \"90%\" width = \"90%\" style=\"display:inline\">\n",
    "</div>"
   ]
  },
  {
   "cell_type": "markdown",
   "metadata": {
    "slideshow": {
     "slide_type": "slide"
    }
   },
   "source": [
    "### Build scripts automatically configure cMonkey and write all required files\n",
    "\n",
    "#### You run a single QSub on the cluster"
   ]
  },
  {
   "cell_type": "code",
   "execution_count": 35,
   "metadata": {
    "collapsed": false,
    "scrolled": true,
    "slideshow": {
     "slide_type": "fragment"
    }
   },
   "outputs": [
    {
     "name": "stdout",
     "output_type": "stream",
     "text": [
      "[General]\r\n",
      "command_line = cmonkey.py --organism mtu --ratios mtu-ens-20150120/ratios-001.tsv.gz --config mtu-ens-20150120/config-001.ini --out mtu-out-001 --minimize_io\r\n",
      "num_iterations = 2000\r\n",
      "start_iteration = 1\r\n",
      "output_dir = mtu-out-001\r\n",
      "cache_dir = cache\r\n",
      "tmp_dir = \r\n",
      "rsat_base_url = http://embnet.ccg.unam.mx/rsa-tools\r\n",
      "dbfile_name = cmonkey_run.db\r\n",
      "use_multiprocessing = True\r\n",
      "case_sensitive = False\r\n",
      "num_cores =\r\n",
      "stats_frequency = 10\r\n",
      "result_frequency = 10\r\n",
      "debug_frequency = 50\r\n",
      "postadjust = True\r\n",
      "add_fuzz = rows\r\n",
      "num_clusters = 523\r\n",
      "random_seed = 1\r\n",
      "log_subresults = True\r\n",
      "organism_code = mtu\r\n",
      "use_operons = True\r\n",
      "use_string = True\r\n",
      "checkratios = False\r\n",
      "\r\n",
      "[Membership]\r\n",
      "probability_row_change = 0.500000\r\n",
      "probability_column_change = 1.000000\r\n",
      "max_changes_per_row = 1\r\n",
      "max_changes_per_column = 5\r\n",
      "min_cluster_rows_allowed = 3\r\n",
      "max_cluster_rows_allowed = 70\r\n",
      "clusters_per_row = 2\r\n",
      "clusters_per_column = 262\r\n",
      "\r\n",
      "[Scoring]\r\n",
      "quantile_normalize = False\r\n",
      "\r\n",
      "[MEME]\r\n",
      "background_order = 5\r\n",
      "use_revcomp = True\r\n",
      "arg_mod = zoops\r",
      "\r\n",
      "schedule = 1,100\r\n",
      "max_width = 13\r\n",
      "nmotifs_rvec = c(rep(1, num_iterations/3), rep(2, num_iterations/3))\r\n",
      "version = 4.9.0\r\n",
      "global_background = True\r\n",
      "\r\n",
      "[Rows]\r\n",
      "scaling_const = 0.821631\r\n",
      "schedule = 1,2\r\n",
      "\r\n",
      "[SetEnrichment-tfoe]\r\n",
      "set_file = 20140725.MTB.DE.csv\r\n",
      "weight = 0.473758507745\r\n",
      "\r\n",
      "[Motifs]\r\n",
      "scaling_rvec = c(rep(1e-5, 100), seq(1e-5, 0.354424661444, length=num_iterations*3/4))\r\n",
      "sequence_types = upstream\r\n",
      "schedule = 2,10\r\n",
      "\r\n",
      "[Weeder]\r\n",
      "schedule = 1,100\r\n",
      "top = 50\r\n",
      "analysis = small\r\n",
      "nmotifs_rvec = c(rep(1, num_iterations/3), rep(2, num_iterations/3))\r\n",
      "freqfile_dir = \r\n",
      "global_background = True\r\n",
      "orgcode = \r\n",
      "\r\n",
      "[SequenceType-upstream]\r\n",
      "search_distance = -10,112\r\n",
      "scan_distance = -11,205\r\n",
      "\r\n",
      "[search_distances]\r\n",
      "upstream = (-10, 112)\r\n",
      "\r\n",
      "[Columns]\r\n",
      "schedule = 1,5\r\n",
      "\r\n",
      "[Networks]\r\n",
      "scaling_rvec = seq(1e-5, 0.167833659474, length=num_iterations*3/4)\r\n",
      "operon_weight = 0.643260497228\r\n",
      "string_weight = 0.299762755576\r\n",
      "schedule = 1,7\r\n",
      "\r\n",
      "[scan_distances]\r\n",
      "upstream = (-11, 205)\r\n",
      "\r\n",
      "[SetEnrichment]\r\n",
      "scaling_rvec = seq(1e-5, 0.303426664225, length=num_iterations*3/4)\r\n",
      "set_types = tfoe\r\n",
      "schedule = 1,7\r\n"
     ]
    }
   ],
   "source": [
    "%cat ./docs/cMonkey_final.ini"
   ]
  },
  {
   "cell_type": "markdown",
   "metadata": {
    "slideshow": {
     "slide_type": "subslide"
    }
   },
   "source": [
    "<div align=\"center\" vertical-align=\"middle\">\n",
    "    <h3>Ensemble Reports: Run Config</h3>\n",
    "    <img src=\"./docs/ensembleReport_runs.png\" height = \"90%\" width = \"90%\" style=\"display:inline\">\n",
    "</div>"
   ]
  },
  {
   "cell_type": "markdown",
   "metadata": {
    "slideshow": {
     "slide_type": "subslide"
    }
   },
   "source": [
    "<div align=\"center\" vertical-align=\"middle\">\n",
    "    <h3>Ensemble Reports: Inclusion Blocks</h3>\n",
    "    <img src=\"./docs/ensembleReport_inclusion.png\" height = \"90%\" width = \"90%\" style=\"display:inline\">\n",
    "</div>"
   ]
  },
  {
   "cell_type": "markdown",
   "metadata": {
    "slideshow": {
     "slide_type": "subslide"
    }
   },
   "source": [
    "<div align=\"center\" vertical-align=\"middle\">\n",
    "    <img src=\"./docs/iconmonstr-help-6-icon-256.png\" height = \"25%\" width = \"25%\" style=\"display:inline\">\n",
    "</div>"
   ]
  },
  {
   "cell_type": "markdown",
   "metadata": {
    "internals": {
     "frag_helper": "fragment_end",
     "frag_number": 13,
     "slide_helper": "subslide_end",
     "slide_type": "subslide"
    },
    "slide_helper": "slide_end",
    "slideshow": {
     "slide_type": "slide"
    }
   },
   "source": [
    "<div align=\"center\" vertical-align=\"middle\">\n",
    "    <img src=\"./docs/iconmonstr-puzzle-17-icon-text.png\" height = \"400\" width = \"400\" style=\"display:inline\">\n",
    "    <br>\n",
    "    <h2>*Tools to assemble EGRIN 2.0: compile cMonkey2 runs*</h2>\n",
    "</div>"
   ]
  },
  {
   "cell_type": "markdown",
   "metadata": {
    "slideshow": {
     "slide_type": "subslide"
    }
   },
   "source": [
    "`python assembler.py`\n",
    "<br>\n",
    "`--organism` *org* \n",
    "<br>\n",
    "`--host` *localhost* \n",
    "<br>\n",
    "`--ratios` *myRatiosFile.tgz*\n",
    "<br>\n",
    "`--targetdir` */path/to/myOutputDir* \n",
    "<br>\n",
    "`--ncbi_code` *12345*\n",
    "<br>\n",
    "`--ensembledir` */path/to/ensemble/*\n",
    "<br>\n",
    "`--col_annot` *myExperimentalAnnotations.tgz* \n",
    "<br>\n",
    "`--n_resamples` *10000*"
   ]
  },
  {
   "cell_type": "code",
   "execution_count": 34,
   "metadata": {
    "collapsed": false,
    "scrolled": true,
    "slideshow": {
     "slide_type": "subslide"
    }
   },
   "outputs": [
    {
     "name": "stdout",
     "output_type": "stream",
     "text": [
      "usage: assembler.py [-h] --organism ORGANISM --ratios RATIOS --targetdir\n",
      "                    TARGETDIR --ncbi_code NCBI_CODE [--cores CORES]\n",
      "                    [--ensembledir ENSEMBLEDIR] [--col_annot COL_ANNOT]\n",
      "                    [--host HOST] [--port PORT] [--prefix PREFIX]\n",
      "                    [--row_annot ROW_ANNOT]\n",
      "                    [--row_annot_matchCol ROW_ANNOT_MATCHCOL]\n",
      "                    [--gre2motif GRE2MOTIF] [--db DB]\n",
      "                    [--genome_annot GENOME_ANNOT]\n",
      "                    [--backbone_pval BACKBONE_PVAL]\n",
      "                    [--link_comm_score LINK_COMM_SCORE]\n",
      "                    [--link_comm_increment LINK_COMM_INCREMENT]\n",
      "                    [--link_comm_density_score LINK_COMM_DENSITY_SCORE]\n",
      "                    [--corem_size_threshold COREM_SIZE_THRESHOLD]\n",
      "                    [--n_resamples N_RESAMPLES] [--cluster CLUSTER]\n",
      "                    [--finish_only FINISH_ONLY] [--user USER]\n",
      "\n",
      "assemble.py - prepare cluster runs\n",
      "\n",
      "optional arguments:\n",
      "  -h, --help            show this help message and exit\n",
      "  --organism ORGANISM   3 letter organism code\n",
      "  --ratios RATIOS       Path to ratios file. Should be 'raw' (normalized)\n",
      "                        ratios, not the standardized ratios used by cMonkey\n",
      "  --targetdir TARGETDIR\n",
      "                        Storage path for MongoDB and corem data\n",
      "  --ncbi_code NCBI_CODE\n",
      "                        NCBI organism code\n",
      "  --cores CORES         Number local cores to use for corem C++ scripts\n",
      "  --ensembledir ENSEMBLEDIR\n",
      "                        Path to ensemble runs. Default: cwd\n",
      "  --col_annot COL_ANNOT\n",
      "                        Tab-delimited file with experiment annotations\n",
      "  --host HOST           MongoDB host. Default 'localhost'\n",
      "  --port PORT           MongoDB port\n",
      "  --prefix PREFIX       Ensemble run prefix. Default: *organism*-out-\n",
      "  --row_annot ROW_ANNOT\n",
      "                        Optional row (gene) annotation tab-delimited file. If\n",
      "                        not specified, annotations will be downloaded from\n",
      "                        MicrobesOnline using --ncbi_code.\n",
      "  --row_annot_matchCol ROW_ANNOT_MATCHCOL\n",
      "                        Name of column in row_annot that matches row names in\n",
      "                        ratios file.\n",
      "  --gre2motif GRE2MOTIF\n",
      "                        Motif->GRE clustering file\n",
      "  --db DB               Optional ensemble MongoDB database name\n",
      "  --genome_annot GENOME_ANNOT\n",
      "                        Optional genome annotation file. Automatically\n",
      "                        downloaded from MicrobesOnline using --ncbi_code\n",
      "  --backbone_pval BACKBONE_PVAL\n",
      "                        Significance pvalue for gene-gene backbone. Default =\n",
      "                        0.05.\n",
      "  --link_comm_score LINK_COMM_SCORE\n",
      "                        Scoring metric for link communities\n",
      "  --link_comm_increment LINK_COMM_INCREMENT\n",
      "                        Height increment for cutting agglomerative clustering\n",
      "                        of link communities\n",
      "  --link_comm_density_score LINK_COMM_DENSITY_SCORE\n",
      "                        Density score for evaluating link communities\n",
      "  --corem_size_threshold COREM_SIZE_THRESHOLD\n",
      "                        Defines minimum corem size. Default = 3.\n",
      "  --n_resamples N_RESAMPLES\n",
      "                        Number resamples to compute for corem condition\n",
      "                        assignment. Default = 10,000\n",
      "  --cluster CLUSTER     Run re-samples on cluster? Boolean.\n",
      "  --finish_only FINISH_ONLY\n",
      "                        Finish corems only. In case session gets dropped\n",
      "  --user USER           Cluster user name\n"
     ]
    }
   ],
   "source": [
    "%run ../egrin2-tools/assemble/assembler.py -h"
   ]
  },
  {
   "cell_type": "markdown",
   "metadata": {
    "slideshow": {
     "slide_type": "subslide"
    }
   },
   "source": [
    "<div align=\"center\" vertical-align=\"middle\">\n",
    "    <h3>Experimental Annotations</h3>\n",
    "    <img src=\"./docs/experiment_annotation.png\" height = \"100%\" width = \"100%\" style=\"display:inline\">\n",
    "</div>"
   ]
  },
  {
   "cell_type": "markdown",
   "metadata": {
    "slideshow": {
     "slide_type": "subslide"
    }
   },
   "source": [
    "###If all goes well, you will have a MongoDB database named:\n",
    "\n",
    "yourOrganism**_db**"
   ]
  },
  {
   "cell_type": "markdown",
   "metadata": {
    "slideshow": {
     "slide_type": "fragment"
    }
   },
   "source": [
    "Database schema is on the wiki"
   ]
  },
  {
   "cell_type": "code",
   "execution_count": 13,
   "metadata": {
    "collapsed": false,
    "scrolled": false
   },
   "outputs": [
    {
     "data": {
      "text/plain": [
       "[u'system.indexes',\n",
       " u'col_resample',\n",
       " u'fimo',\n",
       " u'corem',\n",
       " u'col_info',\n",
       " u'row_row',\n",
       " u'ensemble_info',\n",
       " u'motif_info',\n",
       " u'bicluster_info',\n",
       " u'gene_expression',\n",
       " u'genome',\n",
       " u'fimo_small',\n",
       " u'row_info',\n",
       " u'rowsCount_mapreduce',\n",
       " u'columnsCount_mapreduce',\n",
       " u'gresCount_mapreduce']"
      ]
     },
     "execution_count": 13,
     "metadata": {},
     "output_type": "execute_result"
    }
   ],
   "source": [
    "from pymongo import MongoClient\n",
    "host = \"primordial\"\n",
    "port = \"27017\"\n",
    "\n",
    "client = MongoClient( 'mongodb://'+host+':'+str(port)+'/' ) \n",
    "\n",
    "db = \"eco_db2\"\n",
    "\n",
    "client[db].collection_names()\n"
   ]
  },
  {
   "cell_type": "markdown",
   "metadata": {
    "slideshow": {
     "slide_type": "subslide"
    }
   },
   "source": [
    "<div align=\"center\" vertical-align=\"middle\">\n",
    "    <img src=\"./docs/iconmonstr-help-6-icon-256.png\" height = \"25%\" width = \"25%\" style=\"display:inline\">\n",
    "</div>"
   ]
  },
  {
   "cell_type": "markdown",
   "metadata": {
    "internals": {
     "frag_helper": "fragment_end",
     "frag_number": 13,
     "slide_helper": "subslide_end",
     "slide_type": "subslide"
    },
    "slide_helper": "subslide_end",
    "slideshow": {
     "slide_type": "slide"
    }
   },
   "source": [
    "<div align=\"center\" vertical-align=\"middle\">\n",
    "    <img src=\"./docs/iconmonstr-flask-3-icon-text.png\" height = \"400\" width = \"400\" style=\"display:inline\">\n",
    "    <br>\n",
    "    <h2>*Tools to query EGRIN 2.0: the money*</h2>\n",
    "</div>"
   ]
  },
  {
   "cell_type": "code",
   "execution_count": 22,
   "metadata": {
    "collapsed": false,
    "internals": {
     "frag_helper": "fragment_end",
     "frag_number": 13,
     "slide_helper": "subslide_end",
     "slide_type": "subslide"
    },
    "slide_helper": "subslide_end",
    "slideshow": {
     "slide_type": "subslide"
    }
   },
   "outputs": [],
   "source": [
    "from query.egrin2_query import *\n",
    "from query.egrin2_plot import *"
   ]
  },
  {
   "cell_type": "markdown",
   "metadata": {
    "internals": {
     "frag_helper": "fragment_end",
     "frag_number": 13,
     "slide_helper": "subslide_end",
     "slide_type": "subslide"
    },
    "slide_helper": "subslide_end",
    "slideshow": {
     "slide_type": "subslide"
    }
   },
   "source": [
    "<div align=\"center\" vertical-align=\"middle\">\n",
    "\n",
    "        <img src=\"./docs/egrin2_fig1-03.png\" height = \"100%\" width = \"100%\" style=\"display:inline\">\n",
    "        \n",
    "</div>"
   ]
  },
  {
   "cell_type": "code",
   "execution_count": null,
   "metadata": {
    "collapsed": false
   },
   "outputs": [],
   "source": []
  },
  {
   "cell_type": "markdown",
   "metadata": {
    "internals": {
     "frag_helper": "fragment_end",
     "frag_number": 13,
     "slide_helper": "subslide_end",
     "slide_type": "subslide"
    },
    "slide_helper": "subslide_end",
    "slideshow": {
     "slide_type": "subslide"
    }
   },
   "source": [
    "<div align=\"center\" vertical-align=\"middle\">\n",
    "    <img src=\"./docs/corem-01.png\" height = \"100%\" width = \"100%\" style=\"display:inline\">\n",
    "</div>"
   ]
  },
  {
   "cell_type": "code",
   "execution_count": 21,
   "metadata": {
    "collapsed": false,
    "internals": {
     "frag_helper": "fragment_end",
     "frag_number": 13,
     "slide_helper": "subslide_end",
     "slide_type": "subslide"
    },
    "slide_helper": "subslide_end",
    "slideshow": {
     "slide_type": "subslide"
    }
   },
   "outputs": [
    {
     "name": "stdout",
     "output_type": "stream",
     "text": [
      "b3313 is also called rplP\n",
      "b3314 is also called rpsC\n",
      "b3315 is also called rplV\n",
      "b3316 is also called rpsS\n",
      "b3317 is also called rplB\n",
      "b3318 is also called rplW\n",
      "b3319 is also called rplD\n",
      "b3320 is also called rplC\n",
      "b3321 is also called rpsJ\n"
     ]
    }
   ],
   "source": [
    "corem = 1\n",
    "host = \"primordial\"\n",
    "db = \"eco_db\"\n",
    "\n",
    "# find the genes\n",
    "corem_genes =  coremFinder(corem, x_type = \"corem_id\", y_type=\"rows\", host=host, db=db)\n",
    "# print a summary\n",
    "corem_genes.sort()\n",
    "for i in corem_genes:\n",
    "    print i + \" is also called \" + str( row2id( i, host=host, db=db, return_field = \"name\" ) )"
   ]
  },
  {
   "cell_type": "code",
   "execution_count": 32,
   "metadata": {
    "collapsed": false,
    "internals": {
     "frag_helper": "fragment_end",
     "frag_number": 13,
     "slide_helper": "subslide_end",
     "slide_type": "subslide"
    },
    "slide_helper": "subslide_end",
    "slideshow": {
     "slide_type": "subslide"
    }
   },
   "outputs": [
    {
     "name": "stdout",
     "output_type": "stream",
     "text": [
      "ATCC25404_wt_24hr_biofilm\n",
      "ATCC25404_wt_R1drd19_24hr_biofilm\n",
      "B178_mutant_Hsp60\n",
      "B178_wt_Hsp60\n",
      "BW25113_30C_biofilm\n",
      "\n",
      "There are 418 other conditions\n"
     ]
    }
   ],
   "source": [
    "# find the conditions\n",
    "corem_conditions =  coremFinder( x = corem,x_type = \"corem_id\", y_type=\"conds\", host=host, db=db )\n",
    "# print a summary\n",
    "corem_conditions.sort()\n",
    "for i in corem_conditions[0:5]:\n",
    "    print i\n",
    "print \"\\nThere are %s other conditions\" % len(corem_conditions)"
   ]
  },
  {
   "cell_type": "code",
   "execution_count": null,
   "metadata": {
    "collapsed": false,
    "internals": {
     "frag_helper": "fragment_end",
     "frag_number": 13,
     "slide_helper": "subslide_end",
     "slide_type": "subslide"
    },
    "slide_helper": "subslide_end",
    "slideshow": {
     "slide_type": "subslide"
    }
   },
   "outputs": [],
   "source": [
    "gene_expression = expressionFinder( rows=corem_genes, cols=corem_conditions, host=host, db=db )\n",
    "\n",
    "# preview the first 5 rows\n",
    "gene_expression.head()"
   ]
  },
  {
   "cell_type": "code",
   "execution_count": null,
   "metadata": {
    "collapsed": false,
    "internals": {
     "frag_helper": "fragment_end",
     "frag_number": 13,
     "slide_helper": "subslide_end",
     "slide_type": "subslide"
    },
    "slide_helper": "slide_end",
    "slideshow": {
     "slide_type": "subslide"
    }
   },
   "outputs": [],
   "source": [
    "corem = 1\n",
    "corem_genes =  coremFinder(x = corem,x_type = \"corem_id\", y_type=\"rows\",host=\"primordial\",db=\"eco_db2\")\n",
    "corem_conditions =  coremFinder(x = corem,x_type = \"corem_id\", y_type=\"conds\",host=\"primordial\",db=\"eco_db2\")\n",
    "gene_expression = expressionFinder(rows=corem_genes,cols=corem_conditions,host=\"primordial\",db=\"eco_db2\")"
   ]
  },
  {
   "cell_type": "code",
   "execution_count": null,
   "metadata": {
    "collapsed": false,
    "internals": {
     "frag_helper": "fragment_end",
     "frag_number": 13,
     "slide_helper": "subslide_end",
     "slide_type": "subslide"
    },
    "slide_helper": "slide_end",
    "slideshow": {
     "slide_type": "slide"
    }
   },
   "outputs": [],
   "source": [
    "plot = plotExpression( gene_expression, plot_type = \"line\", ipynb = True, sort = False )\n",
    "py.iplot( line_plot )"
   ]
  },
  {
   "cell_type": "code",
   "execution_count": 4,
   "metadata": {
    "collapsed": false,
    "internals": {
     "frag_helper": "fragment_end",
     "frag_number": 13,
     "slide_helper": "subslide_end",
     "slide_type": "subslide"
    },
    "slide_helper": "slide_end",
    "slideshow": {
     "slide_type": "slide"
    }
   },
   "outputs": [
    {
     "data": {
      "text/html": [
       "<iframe height=\"600px\" width=\"1000px\" src=\"http://nbviewer.ipython.org/github/scalefreegan/egrin2-tools/blob/master/doc/index.ipynb\"</iframe>"
      ],
      "text/plain": [
       "<IPython.core.display.HTML object>"
      ]
     },
     "execution_count": 4,
     "metadata": {},
     "output_type": "execute_result"
    }
   ],
   "source": [
    "HTML('<iframe height=\"600px\" width=\"1000px\" src=\"http://nbviewer.ipython.org/github/scalefreegan/egrin2-tools/blob/master/doc/index.ipynb\"</iframe>')"
   ]
  },
  {
   "cell_type": "markdown",
   "metadata": {
    "slideshow": {
     "slide_type": "subslide"
    }
   },
   "source": [
    "<div align=\"center\" vertical-align=\"middle\">\n",
    "    <img src=\"./docs/iconmonstr-help-6-icon-256.png\" height = \"25%\" width = \"25%\" style=\"display:inline\">\n",
    "</div>"
   ]
  },
  {
   "cell_type": "markdown",
   "metadata": {
    "slideshow": {
     "slide_type": "slide"
    }
   },
   "source": [
    "# My vision for the future of the EGRIN ecosystem"
   ]
  },
  {
   "cell_type": "markdown",
   "metadata": {
    "slideshow": {
     "slide_type": "subslide"
    }
   },
   "source": [
    "## GGBweb: Gaggle Genome Browser for the Web"
   ]
  },
  {
   "cell_type": "markdown",
   "metadata": {
    "internals": {
     "frag_helper": "fragment_end",
     "frag_number": 13,
     "slide_helper": "subslide_end",
     "slide_type": "subslide"
    },
    "slide_helper": "slide_end",
    "slideshow": {
     "slide_type": "fragment"
    }
   },
   "source": [
    "<div align=\"center\" vertical-align=\"middle\">\n",
    "    <img src=\"./docs/ggbweb_new.png\" height = \"100%\" width = \"100%\" style=\"display:inline\">\n",
    "</div>"
   ]
  },
  {
   "cell_type": "markdown",
   "metadata": {
    "slideshow": {
     "slide_type": "slide"
    }
   },
   "source": [
    "#Auf Wiedersehen!"
   ]
  },
  {
   "cell_type": "markdown",
   "metadata": {
    "slideshow": {
     "slide_type": "fragment"
    }
   },
   "source": [
    "###Teal and I are moving to Heidelberg"
   ]
  },
  {
   "cell_type": "markdown",
   "metadata": {
    "collapsed": true,
    "slideshow": {
     "slide_type": "subslide"
    }
   },
   "source": [
    "##Where is Heidelberg?"
   ]
  },
  {
   "cell_type": "code",
   "execution_count": 6,
   "metadata": {
    "collapsed": false,
    "internals": {
     "frag_helper": "fragment_end",
     "frag_number": 13,
     "slide_helper": "subslide_end",
     "slide_type": "subslide"
    },
    "slide_helper": "subslide_end",
    "slideshow": {
     "slide_type": "fragment"
    }
   },
   "outputs": [
    {
     "data": {
      "text/html": [
       "<iframe src=\"https://www.google.com/maps/embed?pb=!1m18!1m12!1m3!1d2581670.4146216605!2d9.007024184179672!3d50.8096276135968!2m3!1f0!2f0!3f0!3m2!1i1024!2i768!4f13.1!3m3!1m2!1s0x4797c1050eccdccd%3A0xefe6ea0044243ad7!2sHeidelberg%2C+Germany!5e0!3m2!1sen!2sus!4v1424921444369\" width=\"600\" height=\"450\" frameborder=\"0\" style=\"border:0\"></iframe>"
      ],
      "text/plain": [
       "<IPython.core.display.HTML object>"
      ]
     },
     "execution_count": 6,
     "metadata": {},
     "output_type": "execute_result"
    }
   ],
   "source": [
    "HTML('<iframe src=\"https://www.google.com/maps/embed?pb=!1m18!1m12!1m3!1d2581670.4146216605!2d9.007024184179672!3d50.8096276135968!2m3!1f0!2f0!3f0!3m2!1i1024!2i768!4f13.1!3m3!1m2!1s0x4797c1050eccdccd%3A0xefe6ea0044243ad7!2sHeidelberg%2C+Germany!5e0!3m2!1sen!2sus!4v1424921444369\" width=\"600\" height=\"450\" frameborder=\"0\" style=\"border:0\"></iframe>')"
   ]
  },
  {
   "cell_type": "code",
   "execution_count": 7,
   "metadata": {
    "collapsed": false,
    "internals": {
     "frag_helper": "fragment_end",
     "frag_number": 13,
     "slide_type": "subslide"
    },
    "slideshow": {
     "slide_type": "subslide"
    }
   },
   "outputs": [
    {
     "data": {
      "text/html": [
       "<iframe width=\"840\" height=\"575\" src=\"https://www.youtube.com/embed/D_6p6IeBYSA\" frameborder=\"0\" allowfullscreen></iframe>"
      ],
      "text/plain": [
       "<IPython.core.display.HTML object>"
      ]
     },
     "execution_count": 7,
     "metadata": {},
     "output_type": "execute_result"
    }
   ],
   "source": [
    "HTML('<iframe width=\"840\" height=\"575\" src=\"https://www.youtube.com/embed/D_6p6IeBYSA\" frameborder=\"0\" allowfullscreen></iframe>')"
   ]
  }
 ],
 "metadata": {
  "celltoolbar": "Slideshow",
  "kernelspec": {
   "display_name": "Python 2",
   "language": "python",
   "name": "python2"
  },
  "language_info": {
   "codemirror_mode": {
    "name": "ipython",
    "version": 2
   },
   "file_extension": ".py",
   "mimetype": "text/x-python",
   "name": "python",
   "nbconvert_exporter": "python",
   "pygments_lexer": "ipython2",
   "version": "2.7.6"
  }
 },
 "nbformat": 4,
 "nbformat_minor": 0
}
