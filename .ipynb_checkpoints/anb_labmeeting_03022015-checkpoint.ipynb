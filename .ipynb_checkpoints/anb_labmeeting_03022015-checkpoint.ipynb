{
 "cells": [
  {
   "cell_type": "markdown",
   "metadata": {
    "internals": {
     "frag_helper": "fragment_end",
     "frag_number": 2,
     "slide_type": "subslide"
    },
    "slideshow": {
     "slide_type": "slide"
    }
   },
   "source": [
    "# <div align=\"center\" vertical-align=\"middle\">      <img src=\"./docs/header-photo.jpg\" height = \"100%\" width = \"100%\" style=\"display:inline\">     <br>     <br> </div> EGRIN *2.0*"
   ]
  },
  {
   "cell_type": "markdown",
   "metadata": {
    "internals": {
     "frag_helper": "fragment_end",
     "frag_number": 1
    },
    "slideshow": {
     "slide_type": "fragment"
    }
   },
   "source": [
    "## Past, Present, and Future"
   ]
  },
  {
   "cell_type": "markdown",
   "metadata": {
    "internals": {
     "frag_helper": "fragment_end",
     "frag_number": 2,
     "slide_helper": "subslide_end"
    },
    "slide_helper": "slide_end",
    "slideshow": {
     "slide_type": "fragment"
    }
   },
   "source": [
    "### *MongoDB, iPython, GGBweb/ChromeGoose*"
   ]
  },
  {
   "cell_type": "markdown",
   "metadata": {
    "internals": {
     "frag_helper": "fragment_end",
     "frag_number": 2,
     "slide_helper": "subslide_end",
     "slide_type": "subslide"
    },
    "slide_helper": "subslide_end",
    "slideshow": {
     "slide_type": "slide"
    }
   },
   "source": [
    "# What is EGRIN *2.0* ?"
   ]
  },
  {
   "cell_type": "markdown",
   "metadata": {
    "internals": {
     "frag_helper": "fragment_end",
     "frag_number": 2,
     "slide_helper": "subslide_end",
     "slide_type": "subslide"
    },
    "slide_helper": "slide_end",
    "slideshow": {
     "slide_type": "subslide"
    }
   },
   "source": [
    "<div align=\"center\" vertical-align=\"middle\">\n",
    "\n",
    "        <img src=\"./docs/egrin2_fig1-03.png\" height = \"100%\" width = \"100%\" style=\"display:inline\">\n",
    "        \n",
    "</div>"
   ]
  },
  {
   "cell_type": "markdown",
   "metadata": {
    "internals": {
     "frag_helper": "fragment_end",
     "frag_number": 2,
     "slide_type": "subslide"
    },
    "slideshow": {
     "slide_type": "slide"
    }
   },
   "source": [
    "# EGRIN *2.0* ( Web *1.0* )"
   ]
  },
  {
   "cell_type": "markdown",
   "metadata": {
    "internals": {
     "frag_helper": "fragment_end",
     "frag_number": 6,
     "slide_helper": "subslide_end"
    },
    "slide_helper": "slide_end",
    "slideshow": {
     "slide_type": "fragment"
    }
   },
   "source": [
    "The first EGRIN 2.0 website is a Django/Javascript powered webapp with a PostgreSQL backend\n"
   ]
  },
  {
   "cell_type": "code",
   "execution_count": null,
   "metadata": {
    "collapsed": false,
    "internals": {
     "frag_helper": "fragment_end",
     "frag_number": 6,
     "slide_helper": "subslide_end",
     "slide_type": "subslide"
    },
    "slide_helper": "subslide_end",
    "slideshow": {
     "slide_type": "slide"
    }
   },
   "outputs": [],
   "source": [
    "from IPython.display import HTML\n",
    "HTML('<iframe height=\"600px\" width=\"1000px\" src=\"http://egrin2.systemsbiology.net/\"</iframe>')"
   ]
  },
  {
   "cell_type": "markdown",
   "metadata": {
    "internals": {
     "frag_helper": "fragment_end",
     "frag_number": 6,
     "slide_helper": "subslide_end",
     "slide_type": "subslide"
    },
    "slide_helper": "subslide_end",
    "slideshow": {
     "slide_type": "subslide"
    }
   },
   "source": [
    "- *Advantages*: templating (fast dev), well-structured for EGRIN 2.0 datatypes, fast queries, extensible"
   ]
  },
  {
   "cell_type": "markdown",
   "metadata": {
    "internals": {
     "frag_helper": "fragment_end",
     "frag_number": 6,
     "slide_helper": "subslide_end",
     "slide_type": "subslide"
    },
    "slide_helper": "slide_end",
    "slideshow": {
     "slide_type": "subslide"
    }
   },
   "source": [
    "- *Disadvantages*: db backend is HUGE! (not scalable), content is **static** (it is BORING!!!)"
   ]
  },
  {
   "cell_type": "markdown",
   "metadata": {
    "slideshow": {
     "slide_type": "subslide"
    }
   },
   "source": [
    "## The first EGRIN 2.0 website is a failure"
   ]
  },
  {
   "cell_type": "markdown",
   "metadata": {
    "slideshow": {
     "slide_type": "fragment"
    }
   },
   "source": [
    "- It took a long time to develop (months)"
   ]
  },
  {
   "cell_type": "markdown",
   "metadata": {
    "slideshow": {
     "slide_type": "fragment"
    }
   },
   "source": [
    "- Not a single reviewer for the paper visited the site"
   ]
  },
  {
   "cell_type": "markdown",
   "metadata": {
    "slideshow": {
     "slide_type": "fragment"
    }
   },
   "source": [
    "- Few people use the site currently"
   ]
  },
  {
   "cell_type": "markdown",
   "metadata": {
    "slideshow": {
     "slide_type": "subslide"
    }
   },
   "source": [
    "<div align=\"center\" vertical-align=\"middle\">\n",
    "        Jan 27-Feb 26 <br><br>\n",
    "        <img src=\"./docs/egrin2_countries.png\" height = \"100%\" width = \"100%\" style=\"display:inline\">\n",
    "        \n",
    "</div>"
   ]
  },
  {
   "cell_type": "markdown",
   "metadata": {
    "slideshow": {
     "slide_type": "subslide"
    }
   },
   "source": [
    "<div align=\"center\" vertical-align=\"middle\">\n",
    "        Jan 27-Feb 26 <br><br>\n",
    "        <img src=\"./docs/egrin2_us.png\" height = \"100%\" width = \"100%\" style=\"display:inline\">\n",
    "        \n",
    "</div>"
   ]
  },
  {
   "cell_type": "markdown",
   "metadata": {
    "slideshow": {
     "slide_type": "subslide"
    }
   },
   "source": [
    "# <div align=\"center\" vertical-align=\"middle\">          *We should learn from this...*          </div>"
   ]
  },
  {
   "cell_type": "markdown",
   "metadata": {
    "internals": {
     "frag_helper": "fragment_end",
     "frag_number": 6,
     "slide_type": "subslide"
    },
    "slideshow": {
     "slide_type": "slide"
    }
   },
   "source": [
    "## EGRIN *2.0* ( Web *2.0* )"
   ]
  },
  {
   "cell_type": "markdown",
   "metadata": {
    "internals": {
     "frag_helper": "fragment_end",
     "frag_number": 11
    },
    "slideshow": {
     "slide_type": "fragment"
    }
   },
   "source": [
    "The second generation EGRIN 2.0 website is an iPython powered notebook with a MongoDB backend \n"
   ]
  },
  {
   "cell_type": "markdown",
   "metadata": {
    "internals": {
     "frag_helper": "fragment_end",
     "frag_number": 12
    },
    "slideshow": {
     "slide_type": "fragment"
    }
   },
   "source": [
    "<div align=\"center\" vertical-align=\"middle\">\n",
    "\n",
    "        <img src=\"./docs/iconmonstr-puzzle-icon-text.png\" height = \"300\" width = \"300\" style=\"display:inline\">\n",
    "\n",
    "        <img src=\"./docs/iconmonstr-puzzle-17-icon-text.png\" height = \"300\" width = \"300\" style=\"display:inline\">\n",
    "\n",
    "        <img src=\"./docs/iconmonstr-flask-3-icon-text.png\" height = \"300\" width = \"300\" style=\"display:inline\">\n",
    "</div>"
   ]
  },
  {
   "cell_type": "markdown",
   "metadata": {
    "internals": {
     "frag_helper": "fragment_end",
     "frag_number": 13,
     "slide_helper": "subslide_end"
    },
    "slide_helper": "subslide_end",
    "slideshow": {
     "slide_type": "fragment"
    }
   },
   "source": [
    "<div align=\"center\" vertical-align=\"middle\">\n",
    "<h3>Notice: *I'm blurring the distinction between constructing an ensemble and using it.*</h3>\n",
    "</div>"
   ]
  },
  {
   "cell_type": "code",
   "execution_count": null,
   "metadata": {
    "collapsed": false,
    "internals": {
     "frag_helper": "fragment_end",
     "frag_number": 13,
     "slide_helper": "subslide_end",
     "slide_type": "subslide"
    },
    "slide_helper": "slide_end",
    "slideshow": {
     "slide_type": "subslide"
    }
   },
   "outputs": [],
   "source": [
    "HTML('<iframe width=\"840\" height=\"375\" src=\"https://www.youtube.com/embed/b2F-DItXtZs\" frameborder=\"0\" allowfullscreen></iframe>')"
   ]
  },
  {
   "cell_type": "markdown",
   "metadata": {
    "internals": {
     "frag_helper": "fragment_end",
     "frag_number": 13,
     "slide_helper": "subslide_end",
     "slide_type": "subslide"
    },
    "slide_helper": "subslide_end",
    "slideshow": {
     "slide_type": "subslide"
    }
   },
   "source": [
    "- *Advantages*: templating with iPython notebooks (fast dev), well-structured for EGRIN 2.0 datatypes (flexible schema), incredibly fast queries, centralized, extensible, content is <u>**dynamic**</u>, quickly becoming a <a href = \"http://nbviewer.ipython.org/github/idekerlab/cy-rest-python/blob/develop/cytoscape-js/CytoscapeJsDemo.ipynb\">standard for data analysis in systems biology.</a>"
   ]
  },
  {
   "cell_type": "markdown",
   "metadata": {
    "internals": {
     "frag_helper": "fragment_end",
     "frag_number": 13,
     "slide_helper": "subslide_end",
     "slide_type": "subslide"
    },
    "slide_helper": "subslide_end",
    "slideshow": {
     "slide_type": "subslide"
    }
   },
   "source": [
    "- *Disadvantages*: something new to learn, requires some investment from user"
   ]
  },
  {
   "cell_type": "markdown",
   "metadata": {
    "internals": {
     "frag_helper": "fragment_end",
     "frag_number": 13,
     "slide_helper": "subslide_end",
     "slide_type": "subslide"
    },
    "slide_helper": "slide_end",
    "slideshow": {
     "slide_type": "slide"
    }
   },
   "source": [
    "<div align=\"center\" vertical-align=\"middle\">\n",
    "    <img src=\"./docs/iconmonstr-puzzle-icon-text.png\" height = \"400\" width = \"400\" style=\"display:inline\">\n",
    "    <br>\n",
    "    <h2>*Tools to build EGRIN 2.0: configure cMonkey2*</h2>\n",
    "</div>"
   ]
  },
  {
   "cell_type": "markdown",
   "metadata": {
    "slideshow": {
     "slide_type": "subslide"
    }
   },
   "source": [
    "`python cMonkeyQSub.py`\n",
    "<br> \n",
    "`--organism` *org*\n",
    "<br>\n",
    "`--ratios` *myRatiosFile.tgz* \n",
    "<br>\n",
    "`--targetdir` */path/to/myOutputDir*\n",
    "<br>\n",
    "`--numruns` *123* \n",
    "<br>\n",
    "`--blocks` *blocks.csv*\n",
    "<br>\n",
    "`--inclusion` *inclusion.blocks.csv* \n",
    "<br>\n",
    "`--exclusion` *exclusion.blocks.csv* \n",
    "<br>\n",
    "`--pipeline` *setenrich_pipeline.json* \n",
    "<br>\n",
    "`--setenrich` *chipseq,tfoe* \n",
    "<br>\n",
    "`--setenrich_files` *ChIPSeq.csv,DE.csv* \n",
    "<br>\n",
    "`--csh`\n"
   ]
  },
  {
   "cell_type": "code",
   "execution_count": null,
   "metadata": {
    "collapsed": false,
    "scrolled": true,
    "slideshow": {
     "slide_type": "subslide"
    }
   },
   "outputs": [],
   "source": [
    "%run ../egrin2-tools/build/cMonkeyQSub.py -h"
   ]
  },
  {
   "cell_type": "markdown",
   "metadata": {
    "slideshow": {
     "slide_type": "fragment"
    }
   },
   "source": [
    "#### `BUILD` scripts include/exclude experiments probabilistically based on the supplied configuration"
   ]
  },
  {
   "cell_type": "markdown",
   "metadata": {
    "slideshow": {
     "slide_type": "subslide"
    }
   },
   "source": [
    "<div align=\"center\" vertical-align=\"middle\">\n",
    "    <h3>Blocks.csv</h3>\n",
    "    <img src=\"./docs/blocks.png\" height = \"90%\" width = \"90%\" style=\"display:inline\">\n",
    "</div>"
   ]
  },
  {
   "cell_type": "markdown",
   "metadata": {
    "slideshow": {
     "slide_type": "subslide"
    }
   },
   "source": [
    "<div align=\"center\" vertical-align=\"middle\">\n",
    "    <h3>Inclusion_Blocks.csv</h3>\n",
    "    <img src=\"./docs/inclusion_blocks.png\" height = \"90%\" width = \"90%\" style=\"display:inline\">\n",
    "    \n",
    "</div>"
   ]
  },
  {
   "cell_type": "markdown",
   "metadata": {
    "slideshow": {
     "slide_type": "subslide"
    }
   },
   "source": [
    "<div align=\"center\" vertical-align=\"middle\">\n",
    "    <h3>Exclusion_Blocks.csv</h3>\n",
    "    <img src=\"./docs/exclusion_blocks.png\" height = \"90%\" width = \"90%\" style=\"display:inline\">\n",
    "</div>"
   ]
  },
  {
   "cell_type": "markdown",
   "metadata": {
    "slideshow": {
     "slide_type": "subslide"
    }
   },
   "source": [
    "### Build scripts automatically configure cMonkey and write all required files"
   ]
  },
  {
   "cell_type": "markdown",
   "metadata": {
    "slideshow": {
     "slide_type": "fragment"
    }
   },
   "source": [
    "#### *You simply run a single QSub script on the cluster*"
   ]
  },
  {
   "cell_type": "markdown",
   "metadata": {
    "slideshow": {
     "slide_type": "subslide"
    }
   },
   "source": [
    "<div align=\"center\" vertical-align=\"middle\">\n",
    "    <h3>Ensemble Reports: Run Config</h3>\n",
    "    <img src=\"./docs/ensembleReport_runs.png\" height = \"90%\" width = \"90%\" style=\"display:inline\">\n",
    "</div>"
   ]
  },
  {
   "cell_type": "markdown",
   "metadata": {
    "slideshow": {
     "slide_type": "subslide"
    }
   },
   "source": [
    "<div align=\"center\" vertical-align=\"middle\">\n",
    "    <h3>Ensemble Reports: Inclusion Blocks</h3>\n",
    "    <img src=\"./docs/ensembleReport_inclusion.png\" height = \"90%\" width = \"90%\" style=\"display:inline\">\n",
    "</div>"
   ]
  },
  {
   "cell_type": "markdown",
   "metadata": {
    "slideshow": {
     "slide_type": "subslide"
    }
   },
   "source": [
    "<div align=\"center\" vertical-align=\"middle\">\n",
    "    <img src=\"./docs/iconmonstr-help-6-icon-256.png\" height = \"25%\" width = \"25%\" style=\"display:inline\">\n",
    "</div>"
   ]
  },
  {
   "cell_type": "markdown",
   "metadata": {
    "internals": {
     "frag_helper": "fragment_end",
     "frag_number": 13,
     "slide_helper": "subslide_end",
     "slide_type": "subslide"
    },
    "slide_helper": "slide_end",
    "slideshow": {
     "slide_type": "slide"
    }
   },
   "source": [
    "<div align=\"center\" vertical-align=\"middle\">\n",
    "    <img src=\"./docs/iconmonstr-puzzle-17-icon-text.png\" height = \"400\" width = \"400\" style=\"display:inline\">\n",
    "    <br>\n",
    "    <h2>*Tools to assemble EGRIN 2.0: compile cMonkey2 runs*</h2>\n",
    "</div>"
   ]
  },
  {
   "cell_type": "markdown",
   "metadata": {
    "slideshow": {
     "slide_type": "subslide"
    }
   },
   "source": [
    "`python assembler.py`\n",
    "<br>\n",
    "`--organism` *org* \n",
    "<br>\n",
    "`--host` *localhost* \n",
    "<br>\n",
    "`--ratios` *myRatiosFile.tgz*\n",
    "<br>\n",
    "`--targetdir` */path/to/myOutputDir* \n",
    "<br>\n",
    "`--ncbi_code` *12345*\n",
    "<br>\n",
    "`--ensembledir` */path/to/ensemble/*\n",
    "<br>\n",
    "`--col_annot` *myExperimentalAnnotations.tgz* \n",
    "<br>\n",
    "`--n_resamples` *10000*"
   ]
  },
  {
   "cell_type": "code",
   "execution_count": null,
   "metadata": {
    "collapsed": false,
    "scrolled": true,
    "slideshow": {
     "slide_type": "subslide"
    }
   },
   "outputs": [],
   "source": [
    "%run ../egrin2-tools/assemble/assembler.py -h"
   ]
  },
  {
   "cell_type": "markdown",
   "metadata": {
    "slideshow": {
     "slide_type": "subslide"
    }
   },
   "source": [
    "<div align=\"center\" vertical-align=\"middle\">\n",
    "    <h3>Experimental Annotations</h3>\n",
    "    <img src=\"./docs/experiment_annotation.png\" height = \"90%\" width = \"90%\" style=\"display:inline\">\n",
    "</div>"
   ]
  },
  {
   "cell_type": "markdown",
   "metadata": {
    "slideshow": {
     "slide_type": "subslide"
    }
   },
   "source": [
    "###If all goes well, you will have a MongoDB database named:\n",
    "\n",
    "yourOrganism**_db**"
   ]
  },
  {
   "cell_type": "markdown",
   "metadata": {
    "slideshow": {
     "slide_type": "fragment"
    }
   },
   "source": [
    "The <a href=\"http://nbviewer.ipython.org/github/scalefreegan/egrin2-tools/blob/master/doc/assemble_docs/mongo_schema.ipynb\">database schema</a> is available on the wiki"
   ]
  },
  {
   "cell_type": "code",
   "execution_count": null,
   "metadata": {
    "collapsed": false,
    "scrolled": false,
    "slideshow": {
     "slide_type": "subslide"
    }
   },
   "outputs": [],
   "source": [
    "from pymongo import MongoClient\n",
    "host = \"primordial\"\n",
    "port = \"27017\"\n",
    "\n",
    "client = MongoClient( 'mongodb://' + host + ':' + str(port) + '/' ) \n",
    "\n",
    "db = \"eco_db\"\n",
    "\n",
    "client[db].collection_names()\n"
   ]
  },
  {
   "cell_type": "markdown",
   "metadata": {
    "slideshow": {
     "slide_type": "subslide"
    }
   },
   "source": [
    "<div align=\"center\" vertical-align=\"middle\">\n",
    "    <img src=\"./docs/iconmonstr-help-6-icon-256.png\" height = \"25%\" width = \"25%\" style=\"display:inline\">\n",
    "</div>"
   ]
  },
  {
   "cell_type": "markdown",
   "metadata": {
    "internals": {
     "frag_helper": "fragment_end",
     "frag_number": 13,
     "slide_helper": "subslide_end",
     "slide_type": "subslide"
    },
    "slide_helper": "subslide_end",
    "slideshow": {
     "slide_type": "slide"
    }
   },
   "source": [
    "<div align=\"center\" vertical-align=\"middle\">\n",
    "    <img src=\"./docs/iconmonstr-flask-3-icon-text.png\" height = \"400\" width = \"400\" style=\"display:inline\">\n",
    "    <br>\n",
    "    <h2>*Tools to query EGRIN 2.0: the money*</h2>\n",
    "</div>"
   ]
  },
  {
   "cell_type": "markdown",
   "metadata": {
    "slideshow": {
     "slide_type": "subslide"
    }
   },
   "source": [
    "<div align=\"center\" vertical-align=\"middle\">\n",
    "    <img src=\"./docs/mine_text.png\" height = \"300\" width = \"300\" style=\"display:inline\">\n",
    "    <img src=\"./docs/iconmonstr-bar-chart-2-icon_text.png\" height = \"300\" width = \"300\" style=\"display:inline\">\n",
    "</div>"
   ]
  },
  {
   "cell_type": "code",
   "execution_count": null,
   "metadata": {
    "collapsed": false,
    "internals": {
     "frag_helper": "fragment_end",
     "frag_number": 13,
     "slide_helper": "subslide_end",
     "slide_type": "subslide"
    },
    "slide_helper": "subslide_end",
    "slideshow": {
     "slide_type": "fragment"
    }
   },
   "outputs": [],
   "source": [
    "from query.egrin2_query import *\n",
    "from query.egrin2_plot import *"
   ]
  },
  {
   "cell_type": "markdown",
   "metadata": {
    "internals": {
     "frag_helper": "fragment_end",
     "frag_number": 13,
     "slide_helper": "subslide_end",
     "slide_type": "subslide"
    },
    "slide_helper": "subslide_end",
    "slideshow": {
     "slide_type": "subslide"
    }
   },
   "source": [
    "<div align=\"center\" vertical-align=\"middle\">\n",
    "\n",
    "        <img src=\"./docs/egrin2_fig1-03.png\" height = \"100%\" width = \"100%\" style=\"display:inline\">\n",
    "        \n",
    "</div>"
   ]
  },
  {
   "cell_type": "markdown",
   "metadata": {
    "collapsed": false,
    "slideshow": {
     "slide_type": "subslide"
    }
   },
   "source": [
    "# Basic EGRIN 2.0 queries"
   ]
  },
  {
   "cell_type": "markdown",
   "metadata": {
    "collapsed": true,
    "slideshow": {
     "slide_type": "fragment"
    }
   },
   "source": [
    "## `agglom()` "
   ]
  },
  {
   "cell_type": "code",
   "execution_count": null,
   "metadata": {
    "collapsed": true,
    "slideshow": {
     "slide_type": "fragment"
    }
   },
   "outputs": [],
   "source": [
    "? agglom"
   ]
  },
  {
   "cell_type": "code",
   "execution_count": null,
   "metadata": {
    "collapsed": false,
    "scrolled": true,
    "slideshow": {
     "slide_type": "subslide"
    }
   },
   "outputs": [],
   "source": [
    "host = \"primordial\"\n",
    "db = \"eco_db\"\n",
    "\n",
    "x = \"b0032\"\n",
    "x_type = \"gene\"\n",
    "y_type = \"gene\"\n",
    "\n",
    "agglom( x, x_type, y_type , host=host, db=db )"
   ]
  },
  {
   "cell_type": "code",
   "execution_count": null,
   "metadata": {
    "collapsed": false,
    "scrolled": true,
    "slideshow": {
     "slide_type": "subslide"
    }
   },
   "outputs": [],
   "source": [
    "host = \"primordial\"\n",
    "db = \"eco_db\"\n",
    "\n",
    "x = [\"carA\",\"carB\",\"pyrL\",\"pyrB\"]\n",
    "x_type = \"gene\"\n",
    "y_type = \"gene\"\n",
    "\n",
    "logic = \"or\"\n",
    "\n",
    "agglom( x, x_type, y_type , host=host, db=db, logic=logic )"
   ]
  },
  {
   "cell_type": "markdown",
   "metadata": {
    "slideshow": {
     "slide_type": "subslide"
    }
   },
   "source": [
    "## Aside: experimental annotations"
   ]
  },
  {
   "cell_type": "code",
   "execution_count": null,
   "metadata": {
    "collapsed": false,
    "scrolled": true,
    "slideshow": {
     "slide_type": "fragment"
    }
   },
   "outputs": [],
   "source": [
    "client[db].col_info.find_one( { }, {\"_id\":0, \"additional_info\":1 } )"
   ]
  },
  {
   "cell_type": "code",
   "execution_count": null,
   "metadata": {
    "collapsed": false,
    "scrolled": true,
    "slideshow": {
     "slide_type": "subslide"
    }
   },
   "outputs": [],
   "source": [
    "pd.DataFrame( list( client[db].col_info.find( { \"additional_info\": { \"$elemMatch\": { \"name\":\"cell_density\", \"value\": {\"$gte\": \"0.3\" } } } }, {\"_id\":0, \"egrin2_col_name\":1 } ) ) )"
   ]
  },
  {
   "cell_type": "code",
   "execution_count": null,
   "metadata": {
    "collapsed": false,
    "scrolled": true,
    "slideshow": {
     "slide_type": "subslide"
    }
   },
   "outputs": [],
   "source": [
    "x = pd.DataFrame( list( client[db].col_info.find( { \"additional_info\": { \"$elemMatch\": { \"name\":\"cell_density\", \"value\": {\"$gte\": \"0.3\" } } } }, {\"_id\":0, \"egrin2_col_name\":1 } ) ) ).egrin2_col_name.tolist()\n",
    "x_type = \"columns\"\n",
    "y_type = \"gene\"\n",
    "\n",
    "logic = \"or\"\n",
    "\n",
    "agglom( x, x_type, y_type , host=host, db=db, logic=logic )"
   ]
  },
  {
   "cell_type": "markdown",
   "metadata": {
    "slideshow": {
     "slide_type": "subslide"
    }
   },
   "source": [
    "# Corem related \n",
    "\n"
   ]
  },
  {
   "cell_type": "markdown",
   "metadata": {
    "slideshow": {
     "slide_type": "fragment"
    }
   },
   "source": [
    "## `coremFinder()`\n",
    "## `expressionFinder()`"
   ]
  },
  {
   "cell_type": "code",
   "execution_count": null,
   "metadata": {
    "collapsed": true,
    "slideshow": {
     "slide_type": "fragment"
    }
   },
   "outputs": [],
   "source": [
    "? coremFinder"
   ]
  },
  {
   "cell_type": "markdown",
   "metadata": {
    "internals": {
     "frag_helper": "fragment_end",
     "frag_number": 13,
     "slide_helper": "subslide_end",
     "slide_type": "subslide"
    },
    "slide_helper": "subslide_end",
    "slideshow": {
     "slide_type": "subslide"
    }
   },
   "source": [
    "<div align=\"center\" vertical-align=\"middle\">\n",
    "    <img src=\"./docs/corem-01.png\" height = \"100%\" width = \"100%\" style=\"display:inline\">\n",
    "</div>"
   ]
  },
  {
   "cell_type": "code",
   "execution_count": null,
   "metadata": {
    "collapsed": false,
    "internals": {
     "frag_helper": "fragment_end",
     "frag_number": 13,
     "slide_helper": "subslide_end",
     "slide_type": "subslide"
    },
    "slide_helper": "subslide_end",
    "slideshow": {
     "slide_type": "subslide"
    }
   },
   "outputs": [],
   "source": [
    "host = \"primordial\"\n",
    "db = \"eco_db\"\n",
    "\n",
    "corem = 1\n",
    "\n",
    "# find the genes\n",
    "corem_genes =  coremFinder(corem, x_type = \"corem_id\", y_type=\"rows\", host=host, db=db)\n",
    "# print a summary\n",
    "corem_genes.sort()\n",
    "for i in corem_genes:\n",
    "    print i + \" is also called \" + str( row2id( i, host=host, db=db, return_field = \"name\" ) )"
   ]
  },
  {
   "cell_type": "code",
   "execution_count": null,
   "metadata": {
    "collapsed": false,
    "internals": {
     "frag_helper": "fragment_end",
     "frag_number": 13,
     "slide_helper": "subslide_end",
     "slide_type": "subslide"
    },
    "slide_helper": "subslide_end",
    "slideshow": {
     "slide_type": "subslide"
    }
   },
   "outputs": [],
   "source": [
    "# find the conditions\n",
    "corem_conditions =  coremFinder( x = corem,x_type = \"corem_id\", y_type=\"conds\", host=host, db=db )\n",
    "# print a summary\n",
    "corem_conditions.sort()\n",
    "for i in corem_conditions[0:10]:\n",
    "    print i\n",
    "print \"\\nThere are %s other conditions\" % len(corem_conditions)"
   ]
  },
  {
   "cell_type": "code",
   "execution_count": null,
   "metadata": {
    "collapsed": false,
    "internals": {
     "frag_helper": "fragment_end",
     "frag_number": 13,
     "slide_helper": "subslide_end",
     "slide_type": "subslide"
    },
    "slide_helper": "subslide_end",
    "slideshow": {
     "slide_type": "subslide"
    }
   },
   "outputs": [],
   "source": [
    "gene_expression = expressionFinder( rows=corem_genes, cols=corem_conditions, host=host, db=db )\n",
    "\n",
    "# preview the first 5 rows\n",
    "gene_expression.head()"
   ]
  },
  {
   "cell_type": "markdown",
   "metadata": {
    "slideshow": {
     "slide_type": "subslide"
    }
   },
   "source": [
    "<div align=\"center\" vertical-align=\"middle\">\n",
    "    <img src=\"./docs/iconmonstr-bar-chart-2-icon_text.png\" height = \"300\" width = \"300\" style=\"display:inline\">\n",
    "</div>"
   ]
  },
  {
   "cell_type": "markdown",
   "metadata": {
    "collapsed": true,
    "slideshow": {
     "slide_type": "subslide"
    }
   },
   "source": [
    "## `plotExpression()`"
   ]
  },
  {
   "cell_type": "code",
   "execution_count": null,
   "metadata": {
    "collapsed": true,
    "slideshow": {
     "slide_type": "fragment"
    }
   },
   "outputs": [],
   "source": [
    "? plotExpression"
   ]
  },
  {
   "cell_type": "code",
   "execution_count": null,
   "metadata": {
    "collapsed": false,
    "internals": {
     "frag_helper": "fragment_end",
     "frag_number": 13,
     "slide_helper": "subslide_end",
     "slide_type": "subslide"
    },
    "slide_helper": "slide_end",
    "slideshow": {
     "slide_type": "subslide"
    }
   },
   "outputs": [],
   "source": [
    "plot = plotExpression( gene_expression, plot_type = \"line\", ipynb = True, sort = False )\n",
    "py.iplot( plot )"
   ]
  },
  {
   "cell_type": "markdown",
   "metadata": {
    "slideshow": {
     "slide_type": "subslide"
    }
   },
   "source": [
    "# Let's put it all together"
   ]
  },
  {
   "cell_type": "code",
   "execution_count": null,
   "metadata": {
    "collapsed": false,
    "internals": {
     "frag_helper": "fragment_end",
     "frag_number": 13,
     "slide_helper": "subslide_end",
     "slide_type": "subslide"
    },
    "slide_helper": "slide_end",
    "slideshow": {
     "slide_type": "subslide"
    }
   },
   "outputs": [],
   "source": [
    "from query.egrin2_query import *\n",
    "from query.egrin2_plot import *\n",
    "\n",
    "host = \"primordial\"\n",
    "db = \"eco_db\"\n",
    "\n",
    "corem = 1\n",
    "# find genes\n",
    "genes =  coremFinder(x = corem,x_type = \"corem_id\", y_type=\"rows\",host=host,db=db)\n",
    "# find conditions\n",
    "conditions =  coremFinder(x = corem,x_type = \"corem_id\", y_type=\"conds\",host=host,db=db)\n",
    "# get expression\n",
    "gene_expression = expressionFinder(rows=genes,cols=conditions,host=host,db=db)"
   ]
  },
  {
   "cell_type": "code",
   "execution_count": null,
   "metadata": {
    "collapsed": false
   },
   "outputs": [],
   "source": [
    "# plot\n",
    "plot = plotExpression( gene_expression, plot_type = \"line\", ipynb = True, sort = False )\n",
    "py.iplot( plot )"
   ]
  },
  {
   "cell_type": "markdown",
   "metadata": {
    "slideshow": {
     "slide_type": "subslide"
    }
   },
   "source": [
    "<h2> An iPython notebook can be <a href=\"http://nbviewer.ipython.org/github/scalefreegan/egrin2-tools/blob/master/doc/query_docs/plot_expression_tutorial_blank.ipynb\">downloaded!!</a> </h2>"
   ]
  },
  {
   "cell_type": "code",
   "execution_count": null,
   "metadata": {
    "collapsed": false,
    "internals": {
     "frag_helper": "fragment_end",
     "frag_number": 13,
     "slide_helper": "subslide_end",
     "slide_type": "subslide"
    },
    "slide_helper": "slide_end",
    "slideshow": {
     "slide_type": "subslide"
    }
   },
   "outputs": [],
   "source": [
    "HTML('<iframe height=\"600px\" width=\"1000px\" src=\"http://nbviewer.ipython.org/github/scalefreegan/egrin2-tools/blob/master/doc/index.ipynb\"</iframe>')"
   ]
  },
  {
   "cell_type": "markdown",
   "metadata": {
    "slideshow": {
     "slide_type": "subslide"
    }
   },
   "source": [
    "<div align=\"center\" vertical-align=\"middle\">\n",
    "    <img src=\"./docs/iconmonstr-help-6-icon-256.png\" height = \"25%\" width = \"25%\" style=\"display:inline\">\n",
    "</div>"
   ]
  },
  {
   "cell_type": "markdown",
   "metadata": {
    "slideshow": {
     "slide_type": "slide"
    }
   },
   "source": [
    "# The FUTURE"
   ]
  },
  {
   "cell_type": "markdown",
   "metadata": {
    "slideshow": {
     "slide_type": "fragment"
    }
   },
   "source": [
    "### My vision for the future of the EGRIN \"*ecosystem*\""
   ]
  },
  {
   "cell_type": "markdown",
   "metadata": {
    "slideshow": {
     "slide_type": "subslide"
    }
   },
   "source": [
    "### GGBweb: Gaggle Genome Browser for the Web"
   ]
  },
  {
   "cell_type": "markdown",
   "metadata": {
    "internals": {
     "frag_helper": "fragment_end",
     "frag_number": 13,
     "slide_helper": "subslide_end",
     "slide_type": "subslide"
    },
    "slide_helper": "slide_end",
    "slideshow": {
     "slide_type": "fragment"
    }
   },
   "source": [
    "<div align=\"center\" vertical-align=\"middle\">\n",
    "    <img src=\"./docs/ggbweb_new.png\" height = \"100%\" width = \"100%\" style=\"display:inline\">\n",
    "</div>"
   ]
  },
  {
   "cell_type": "markdown",
   "metadata": {
    "slideshow": {
     "slide_type": "slide"
    }
   },
   "source": [
    "##Thank you all!\n",
    "\n",
    "- Antoine Allard\n",
    "- Justin Ashworth\n",
    "- Karlyn Beer\n",
    "- Adrian Garcia Lopez de Lomana\n",
    "- Saheed Imam\n",
    "- Ning Jiang\n",
    "- Amardeep Kaur\n",
    "- Chris Lausted\n",
    "- Fang Yin Lo\n",
    "- Claudia Ludwig\n",
    "- Diego Martinez Salvanha\n",
    "- Min Pan\n",
    "- Eliza Peterson\n",
    "- Chris Plaisier\n",
    "- David Reiss\n",
    "- Serdar Turkarslan\n",
    "- Wei-ju Wu\n",
    "\n",
    "- Nitin Baliga\n",
    "\n"
   ]
  },
  {
   "cell_type": "markdown",
   "metadata": {
    "slideshow": {
     "slide_type": "slide"
    }
   },
   "source": [
    "#Auf Wiedersehen!"
   ]
  },
  {
   "cell_type": "markdown",
   "metadata": {
    "slideshow": {
     "slide_type": "fragment"
    }
   },
   "source": [
    "###*Teal and I are moving to Heidelberg in April*"
   ]
  },
  {
   "cell_type": "markdown",
   "metadata": {
    "collapsed": true,
    "slideshow": {
     "slide_type": "subslide"
    }
   },
   "source": [
    "##Where is Heidelberg?"
   ]
  },
  {
   "cell_type": "code",
   "execution_count": null,
   "metadata": {
    "collapsed": false,
    "internals": {
     "frag_helper": "fragment_end",
     "frag_number": 13,
     "slide_helper": "subslide_end",
     "slide_type": "subslide"
    },
    "slide_helper": "subslide_end",
    "slideshow": {
     "slide_type": "fragment"
    }
   },
   "outputs": [],
   "source": [
    "HTML('<iframe src=\"https://www.google.com/maps/embed?pb=!1m18!1m12!1m3!1d2581670.4146216605!2d9.007024184179672!3d50.8096276135968!2m3!1f0!2f0!3f0!3m2!1i1024!2i768!4f13.1!3m3!1m2!1s0x4797c1050eccdccd%3A0xefe6ea0044243ad7!2sHeidelberg%2C+Germany!5e0!3m2!1sen!2sus!4v1424921444369\" width=\"800\" height=\"650\" frameborder=\"0\" style=\"border:0\"></iframe>')"
   ]
  },
  {
   "cell_type": "code",
   "execution_count": null,
   "metadata": {
    "collapsed": false,
    "internals": {
     "frag_helper": "fragment_end",
     "frag_number": 13,
     "slide_type": "subslide"
    },
    "slideshow": {
     "slide_type": "subslide"
    }
   },
   "outputs": [],
   "source": [
    "HTML('<iframe width=\"840\" height=\"575\" src=\"https://www.youtube.com/embed/D_6p6IeBYSA\" frameborder=\"0\" allowfullscreen></iframe>')"
   ]
  }
 ],
 "metadata": {
  "kernelspec": {
   "display_name": "Python 2",
   "language": "python",
   "name": "python2"
  },
  "language_info": {
   "codemirror_mode": {
    "name": "ipython",
    "version": 2
   },
   "file_extension": ".py",
   "mimetype": "text/x-python",
   "name": "python",
   "nbconvert_exporter": "python",
   "pygments_lexer": "ipython2",
   "version": "2.7.6"
  }
 },
 "nbformat": 4,
 "nbformat_minor": 0
}
