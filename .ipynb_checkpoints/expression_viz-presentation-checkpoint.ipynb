{
 "metadata": {
  "name": "",
  "signature": "sha256:db54bdb849ce200436f1150d11d44c293264a4168a0a59123c8cdac5e15b5eee"
 },
 "nbformat": 3,
 "nbformat_minor": 0,
 "worksheets": [
  {
   "cells": [
    {
     "cell_type": "markdown",
     "metadata": {
      "internals": {
       "slide_type": "subslide"
      },
      "slideshow": {
       "slide_type": "slide"
      }
     },
     "source": [
      "<h2>EGRIN *2.0* :</h2>\n",
      "<h3>Past, Present, and Future</h3>"
     ]
    },
    {
     "cell_type": "markdown",
     "metadata": {
      "internals": {
       "frag_number": 1,
       "slide_helper": "subslide_end"
      },
      "slide_helper": "slide_end",
      "slideshow": {
       "slide_type": "fragment"
      }
     },
     "source": [
      "MongoDB, iPython, GGBweb/ChromeGoose"
     ]
    },
    {
     "cell_type": "code",
     "collapsed": false,
     "input": [
      "from query.egrin2_query import *\n",
      "from query.egrin2_plot import *"
     ],
     "language": "python",
     "metadata": {
      "internals": {
       "frag_helper": "fragment_end",
       "frag_number": 1,
       "slide_helper": "subslide_end",
       "slide_type": "subslide"
      },
      "slide_helper": "slide_end",
      "slideshow": {
       "slide_type": "slide"
      }
     },
     "outputs": [],
     "prompt_number": 1
    },
    {
     "cell_type": "code",
     "collapsed": false,
     "input": [
      "corem_genes =  coremFinder(x = 1,x_type = \"corem_id\", y_type=\"rows\",host=\"primordial\",db=\"eco_db2\")\n",
      "corem_genes.sort()\n",
      "for i in corem_genes:\n",
      "    print i + \" is also called \" + row2id( i, host=\"primordial\", db=\"eco_db2\", return_field = \"name\" )"
     ],
     "language": "python",
     "metadata": {
      "internals": {
       "frag_helper": "fragment_end",
       "frag_number": 1,
       "slide_helper": "subslide_end",
       "slide_type": "subslide"
      },
      "slide_helper": "subslide_end",
      "slideshow": {
       "slide_type": "slide"
      }
     },
     "outputs": []
    },
    {
     "cell_type": "code",
     "collapsed": false,
     "input": [
      "corem_conditions =  coremFinder(x = 1,x_type = \"corem_id\", y_type=\"conds\",host=\"primordial\",db=\"eco_db2\")\n",
      "corem_conditions.sort()\n",
      "for i in corem_conditions[0:5]:\n",
      "    print i\n",
      "print \"\\nThere are %s other conditions in which these genes are co-regulated\" % len(corem_conditions)"
     ],
     "language": "python",
     "metadata": {
      "internals": {
       "frag_helper": "fragment_end",
       "frag_number": 1,
       "slide_helper": "subslide_end",
       "slide_type": "subslide"
      },
      "slide_helper": "slide_end",
      "slideshow": {
       "slide_type": "subslide"
      }
     },
     "outputs": []
    },
    {
     "cell_type": "code",
     "collapsed": false,
     "input": [
      "gene_expression = expressionFinder(rows=corem_genes,cols=corem_conditions,host=\"primordial\",db=\"eco_db2\")"
     ],
     "language": "python",
     "metadata": {
      "internals": {
       "frag_helper": "fragment_end",
       "frag_number": 1,
       "slide_helper": "subslide_end",
       "slide_type": "subslide"
      },
      "slide_helper": "subslide_end",
      "slideshow": {
       "slide_type": "slide"
      }
     },
     "outputs": []
    },
    {
     "cell_type": "code",
     "collapsed": false,
     "input": [
      "corem = 1\n",
      "corem_genes =  coremFinder(x = corem,x_type = \"corem_id\", y_type=\"rows\",host=\"primordial\",db=\"eco_db2\")\n",
      "corem_conditions =  coremFinder(x = corem,x_type = \"corem_id\", y_type=\"conds\",host=\"primordial\",db=\"eco_db2\")\n",
      "gene_expression = expressionFinder(rows=corem_genes,cols=corem_conditions,host=\"primordial\",db=\"eco_db2\")"
     ],
     "language": "python",
     "metadata": {
      "internals": {
       "frag_helper": "fragment_end",
       "frag_number": 1,
       "slide_helper": "subslide_end",
       "slide_type": "subslide"
      },
      "slide_helper": "slide_end",
      "slideshow": {
       "slide_type": "subslide"
      }
     },
     "outputs": []
    },
    {
     "cell_type": "code",
     "collapsed": false,
     "input": [
      "plot = plotExpression( gene_expression, plot_type = \"line\", ipynb = True, sort = False )\n",
      "py.iplot( line_plot )"
     ],
     "language": "python",
     "metadata": {
      "internals": {
       "frag_helper": "fragment_end",
       "frag_number": 1,
       "slide_helper": "subslide_end",
       "slide_type": "subslide"
      },
      "slide_helper": "slide_end",
      "slideshow": {
       "slide_type": "slide"
      }
     },
     "outputs": []
    }
   ],
   "metadata": {}
  }
 ]
}