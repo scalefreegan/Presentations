{
 "metadata": {
  "name": "",
  "signature": "sha256:2b9886de49f5e956a4cb7e9b8a48219d6ca56864bc1fa4f56561b22adb10b87c"
 },
 "nbformat": 3,
 "nbformat_minor": 0,
 "worksheets": []
}